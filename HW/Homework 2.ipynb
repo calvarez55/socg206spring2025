{
 "cells": [
  {
   "cell_type": "markdown",
   "id": "e8f6db97-2112-4703-b116-fb7c56c0bfa6",
   "metadata": {},
   "source": [
    "# SOCG 206 Homework #2\n",
    "## Due May 12th Midnight"
   ]
  },
  {
   "cell_type": "markdown",
   "id": "6a82198b-11f3-4621-aa19-a2596b83a559",
   "metadata": {},
   "source": [
    "## Question 1: \n",
    "* Download and open the nhanes.csv data from Github. This data is NHANES 2009-2010 cycle."
   ]
  },
  {
   "cell_type": "code",
   "execution_count": null,
   "id": "413a71b7-883c-47ff-be5c-915685f53262",
   "metadata": {},
   "outputs": [],
   "source": [
    "*If you are using Stata you can run these commands to add labels to the variables.\n",
    "label variable seqn \"Respondent ID\"\n",
    "label variable sdppsu6 \"Pseudo-PSU\"\n",
    "label variable sdpstra6 \"Pseudo-stratum\"\n",
    "label variable wtpfhx6 \"Statistical weight\"\n",
    "label variable hsageir \"Age years\"\n",
    "label variable hssex \"Sex 0=female 1=male\"\n",
    "label variable dmaracer \"Race 1=white 2=black 3=other\"\n",
    "label variable bmpwtlbs \"Body weight pounds\"\n",
    "label variable bmphtin \"Standing height inches\"\n",
    "label variable pepmnk1r \"Average Systolic BP mm Hg\"\n",
    "label variable pepmnk5r \"Average Diastolic BP mm Hg\"\n",
    "label variable har1 \"Has R smoked >100 cigarettes in life 1=Yes 2=No\"\n",
    "label variable har3 \"Does R smoke cigarettes now? 1=Yes 2=No\"\n",
    "label variable smoke \"Smoking based on HAR 1 and HAR3 \"\n",
    "label variable tcp \"Serum Cholesterol mg/100ml \"\n",
    "label variable hbp \"High Blood Pressure 0 if PEPMNK1R <= 140 and 1 if PEPMNK1R > 140\""
   ]
  },
  {
   "cell_type": "markdown",
   "id": "0fefc909-edf3-43b8-a7f1-72070bca0c90",
   "metadata": {},
   "source": [
    "## Question 2: \n",
    "* Use the ```describe``` command and observe the variables. Use the ```codebook variable``` to see variable breakdown. Use ```summ num_variable``` and ```tab cat_variable``` to see the descriptive statistics of different variables.\n",
    "* We will be using hbp as the dependent variable. Derive two models with different sets of independent variables (like we did in class). Estimate both models. Share your results with either output or a word/excel table."
   ]
  },
  {
   "cell_type": "markdown",
   "id": "4ffc3a3a-1a41-41a7-91c9-2934d0edd5ce",
   "metadata": {},
   "source": [
    "## Question 3: \n",
    "* Using hbp as the dependent variable, estimate the  Derive two models with different sets of independent variables (like we did in class). Estimate both models. Share your results with either output or a word/excel table."
   ]
  },
  {
   "cell_type": "markdown",
   "id": "b32e4ea4-dffe-4448-a380-ddec22c92c29",
   "metadata": {},
   "source": [
    "## Question 4:\n",
    "* Compare the three models with coefficient significance and AIC/BIC fit statistics. Share your thoughts in a word or text document."
   ]
  },
  {
   "cell_type": "code",
   "execution_count": null,
   "id": "e74f73f1-288f-42b6-8566-8def91cf94c9",
   "metadata": {},
   "outputs": [],
   "source": []
  }
 ],
 "metadata": {
  "kernelspec": {
   "display_name": "Stata",
   "language": "stata",
   "name": "stata"
  },
  "language_info": {
   "codemirror_mode": "stata",
   "file_extension": ".do",
   "mimetype": "text/x-stata",
   "name": "stata",
   "version": "15.1"
  }
 },
 "nbformat": 4,
 "nbformat_minor": 5
}

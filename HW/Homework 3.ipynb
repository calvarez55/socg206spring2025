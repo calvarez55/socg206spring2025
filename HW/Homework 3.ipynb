{
 "cells": [
  {
   "cell_type": "markdown",
   "id": "e8f6db97-2112-4703-b116-fb7c56c0bfa6",
   "metadata": {},
   "source": [
    "# SOCG 206 Homework #3\n",
    "## Due May 23th Midnight"
   ]
  },
  {
   "cell_type": "markdown",
   "id": "6a82198b-11f3-4621-aa19-a2596b83a559",
   "metadata": {
    "tags": []
   },
   "source": [
    "## Question 1: \n",
    "* Download and open the addhealth.csv data from Github. This data is ADD Health data--a popular health data set. This data has health of respondents and includes school id. So here, the unit of analysis at the first level is individuals and second level is schools. We are taking a cross-sectional approach.\n",
    "* In these models use ```bmi_w1``` as the outcome/dependent variable and the following independent variables: ```age_w1 urban parent_highestedu``` For ```parent_highestedu``` higher numbers means higher educational attainment."
   ]
  },
  {
   "cell_type": "code",
   "execution_count": null,
   "id": "413a71b7-883c-47ff-be5c-915685f53262",
   "metadata": {},
   "outputs": [],
   "source": [
    "label variable aid \"RESPONDENT IDENTIFIER\"\n",
    "label variable schoolid \"School ID\"\n",
    "label variable age_w1 \"Age at Wave 1 Interview\"\n",
    "label variable urban \"School is located in urban area\"\n",
    "label variable parent_highestedu \"Education Level of Parent/Parent Figure with Highest Education\"\n",
    "label variable bmi_w1 \"BMI Wave 1\""
   ]
  },
  {
   "cell_type": "markdown",
   "id": "0fefc909-edf3-43b8-a7f1-72070bca0c90",
   "metadata": {},
   "source": [
    "## Question 2: \n",
    "* Estimate a random effects model. Write an explanation of your results."
   ]
  },
  {
   "cell_type": "markdown",
   "id": "4ffc3a3a-1a41-41a7-91c9-2934d0edd5ce",
   "metadata": {},
   "source": [
    "## Question 3: \n",
    "* Estimate a fixed effects model. Write an explanation of your results."
   ]
  },
  {
   "cell_type": "code",
   "execution_count": null,
   "id": "3f51be13-9338-48cd-8a5d-a6b7e53f676b",
   "metadata": {},
   "outputs": [],
   "source": []
  }
 ],
 "metadata": {
  "kernelspec": {
   "display_name": "Stata",
   "language": "stata",
   "name": "stata"
  },
  "language_info": {
   "codemirror_mode": "stata",
   "file_extension": ".do",
   "mimetype": "text/x-stata",
   "name": "stata",
   "version": "15.1"
  }
 },
 "nbformat": 4,
 "nbformat_minor": 5
}

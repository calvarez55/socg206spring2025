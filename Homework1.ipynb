{
 "cells": [
  {
   "cell_type": "markdown",
   "id": "86e3488d",
   "metadata": {},
   "source": [
    "# SOCG 206 Homework #1\n",
    "## Due April 25th Midnight"
   ]
  },
  {
   "cell_type": "markdown",
   "id": "7f603292",
   "metadata": {},
   "source": [
    "## Question 1\n",
    "In class, we cleaned the Prison Policy Initiative of total populations across racial/ethnic groups. This data comes from this site: https://www.prisonpolicy.org/data/ and is titled \"U.S. Census group quarters (2010): People housed in correctional facilities for adults, by race and by gender.\" Open the excel and observe the data. In class we specifically looked at the \"Total\" sheet that shows the total persons in correctional facilities. For question #1, I want you to practice cleaning a dataset using \"Women\" sheet."
   ]
  },
  {
   "cell_type": "markdown",
   "id": "4de5c2ac",
   "metadata": {},
   "source": [
    "* Look up the exact code we used in class (workbook 1) to open the Prison Policy Iniative data for the Total Population (under sheet \"Total\"). Edit the code to specify the sheet \"Women\" and run the code to open the data.\n",
    "* Clean the data so we variables with the percents of incarcarated women by race and ethnicity. Get rid of unnecessary observations. Rename the variables to reflect what they are measuring. Also, include the creation of EPA regions.\n",
    "* Once the data is clean, save and share your data as a .csv file."
   ]
  },
  {
   "cell_type": "markdown",
   "id": "d7476913",
   "metadata": {},
   "source": [
    "## Question 2"
   ]
  },
  {
   "cell_type": "markdown",
   "id": "70cb1bb9",
   "metadata": {},
   "source": [
    "In this question, you will getting data from NHGIS and merging with the data from question 1.\n",
    "* Go to the [NHGIS](https://data2.nhgis.org/main) site and download data with the following criteria: state level, gender/sex variable, median household income variable, year 2010. The only variable avaliable in NHGIS is \"Sex by age\". The universe is total population, so that variable should be fine.\n",
    "* Review the codebook text file, make a percent of female variable for each state. Don't forget to include median household income variable to the data. \n",
    "* Merge the Census data with the data from Question 1. \n",
    "* Submit the csv file."
   ]
  },
  {
   "cell_type": "markdown",
   "id": "ce3842e3",
   "metadata": {},
   "source": [
    "## Question 3\n",
    "Practice regression with the your merged data from question 2. \n",
    "\n",
    "* Estimate a regression model with percent of incarcerated women as the dependent variable and the following independent variables: percent of women, median household income, and EPA regions with region 1 as the reference category. \n",
    "* Write a sentence for each coefficient.\n",
    "* Review regression diagonistics including linearity, normality, homoscedasticity, and multicollinearity. Write a few sentences describing what you found. Were there any outliers?\n",
    "* Run another regression model and exclude some of outliers.\n",
    "* What is the yhat/predicted value for percent of incarcerated women in Alabama? How does it compare to the actual value?\n",
    "* Submit the software output of the regression table. In a seperate document, submit a table (in either Excel or word) with the regression results. Submit the dataset as a .csv file."
   ]
  },
  {
   "cell_type": "code",
   "execution_count": null,
   "id": "1d6bd0c1-6b1d-4eb2-98d2-e849fe3d5c90",
   "metadata": {},
   "outputs": [],
   "source": []
  }
 ],
 "metadata": {
  "kernelspec": {
   "display_name": "Stata",
   "language": "stata",
   "name": "stata"
  },
  "language_info": {
   "codemirror_mode": "stata",
   "file_extension": ".do",
   "mimetype": "text/x-stata",
   "name": "stata",
   "version": "15.1"
  }
 },
 "nbformat": 4,
 "nbformat_minor": 5
}

{
 "cells": [
  {
   "cell_type": "markdown",
   "metadata": {},
   "source": [
    "# Workbook #1: Data carpentry\n",
    "Welcome to the first workbook of SOCG 206. This workbook will cover basic tasks within data carpentry. These are tasks I use a lot within my own work. The <b>learning outcomes</b> for this workbook:\n",
    "* Students will be able to identify essential Stata commands and features of Stata.\n",
    "* Students will be able to clean basic excel/csv files using Stata.\n",
    "* Students will be able to define variable and differential between types of variables in theory and coding.\n",
    "* Student will be able to convert variables between datatypes in Stata."
   ]
  },
  {
   "cell_type": "markdown",
   "metadata": {},
   "source": [
    "## Getting our workstations set-up\n",
    "I teach SOCG 206 using **Stata**. This is the program I use to do my published sociological work. \n",
    "\n",
    "### UCSD a campus license for **Stata** for students\n",
    "Please get access to [**Stata**](https://blink.ucsd.edu/technology/computers/software-acms/available-software/stata.html).\n",
    "\n",
    "### Jupyter Notebook, Anaconda, and GitHub\n",
    "When teaching any sort of quantitative or coding, I use **Jupyter Notebooks** that I publish on *GitHub*. This is a great way to share notes and code. I recommend using these tools.\n",
    "\n",
    "*Jupyter Notebook* (.ipynb) is the file you are currently seeing now. These notebooks can save notes, codes, and output all in one place. They are so helpful in teaching and project note-taking.\n",
    "\n",
    "I use *Jupyter Notebook* through *Anaconda*. *Anaconda* is a **Python** platform and uses includes *Jupyter* Notebook. Download [*Anaconda*](https://www.anaconda.com/docs/getting-started/anaconda/install). Usually, *Anaconda* comes with *Jupyter Notebook* but here is information about downloading [*Juypter*](https://jupyter.org/install).\n",
    "\n",
    "*Jupyter Notebook* uses **Python** by default. However, you can download [**Stata**](https://kylebarron.dev/stata_kernel/) and [**R**](https://github.com/IRkernel/IRkernel) kernels. You must have **Stata** and **R** already on your computer to use the kernels.\n",
    "\n",
    "[*GitHub*](https://github.com/) is a site where a lot of us publish teaching and research codes. I recommend making an account.\n",
    "\n",
    "<b>Q: Have you downloaded **Stata**? Are you interested in using *Jupyter Notebook* and *GitHub*?</b>"
   ]
  },
  {
   "cell_type": "markdown",
   "metadata": {},
   "source": [
    " <img src=\"http://cdn.onlinewebfonts.com/svg/img_454217.png\" width=100 height=100 />\n",
    "\n",
    "## Organization tips\n",
    "<i>\"Tidy a little a day and you'll be tidying forever\"</i> -Marie Kondo\n",
    "\n",
    "It is <u>so</u> important to keep your quantitative work organized. These are some tips that have helped me stay organized."
   ]
  },
  {
   "cell_type": "markdown",
   "metadata": {},
   "source": [
    "* Make class/project/homework specific folders. Use basic universal commands to redirect your work to that specific folder.\n",
    "* Label files by date \"homework1 1 31 25\"\n",
    "* I highly recommend using code when possible. Codes are a written record of what you did. I almost always have to go back and see what I did or re-run analyses. In the beginning I would have to spend a lot of time re-making code because I did not save a code file. Now, I consistently make a do-file or a Jupyter Notebook and these codes save me!\n",
    "* Write notes in your code file.\n",
    "\n",
    "<b>Q: What is your current organization strategy? How does it work to steamline your workflow? What difficulties do you face in your current organization strategy? </b>"
   ]
  },
  {
   "cell_type": "markdown",
   "metadata": {},
   "source": [
    "<div class=\"alert alert-block alert-warning\">Stata is a powerful program and has a lot features to it. If you are new to Stata, please refer for \n",
    "- Longest, K. C. (2020). Using stata® for quantitative analysis - third edition. SAGE Publications, Inc. https://www.doi.org/10.4135/9781544318547 (it is avaliable as an e-book at the library.) </div>"
   ]
  },
  {
   "cell_type": "markdown",
   "metadata": {},
   "source": [
    " <img src=\"https://cdn1.iconfinder.com/data/icons/development-2-webby/60/52_-Script-_development_coding_programming_code-512.png\" width=200 height=200 /> \n",
    "\n",
    "## Basic universal commands\n",
    "\n",
    "The following commands are universal in many coding languages including **Stata**, **Python**, and **R**. More importantly, these commands help us stay organized within the memory space of the computer.\n",
    "\n",
    "```pwd```\n",
    "\n",
    "This stands for \"print working directory\". It tells you where in your computer you are working on."
   ]
  },
  {
   "cell_type": "code",
   "execution_count": 1,
   "metadata": {},
   "outputs": [
    {
     "name": "stdout",
     "output_type": "stream",
     "text": [
      "D:\\documents copy\\teaching\\SOCG 206 spring 2025\\jupyter\n"
     ]
    }
   ],
   "source": [
    "pwd"
   ]
  },
  {
   "cell_type": "markdown",
   "metadata": {},
   "source": [
    "```cd file_path```\n",
    "\n",
    "This means \"change directory.\" You can change your current working directory with cd. <b>Use parenthesis for file paths!</b>"
   ]
  },
  {
   "cell_type": "code",
   "execution_count": 2,
   "metadata": {},
   "outputs": [
    {
     "name": "stdout",
     "output_type": "stream",
     "text": [
      "D:\\documents copy\\teaching\\SOCG 206 spring 2025\\jupyter\\workbook1\n"
     ]
    }
   ],
   "source": [
    "cd \"D:\\documents copy\\teaching\\SOCG 206 spring 2025\\jupyter\\workbook1\""
   ]
  },
  {
   "cell_type": "markdown",
   "metadata": {},
   "source": [
    "I recommend always starting your coding sessions with changing your working directory to the folder your project file. See how this folder is placed in the hierarchy of my work?"
   ]
  },
  {
   "cell_type": "markdown",
   "metadata": {},
   "source": [
    "## Essential **Stata** commands\n",
    "\n",
    "The following commands are essential commands for Stata."
   ]
  },
  {
   "cell_type": "markdown",
   "metadata": {},
   "source": [
    "### OPENING files\n",
    "This commands opens .dta files. It is important to include the ```, clear``` at the end because this clear out any current dataset open in **Stata**. **Stata** can only handle one dataset open at a time. By habit, I usually put parenthesis around file names and website links. Parenthesis tell the computer that this is a string.\n",
    "\n",
    "```use file_path_name, clear```"
   ]
  },
  {
   "cell_type": "code",
   "execution_count": 1,
   "metadata": {
    "tags": []
   },
   "outputs": [
    {
     "name": "stdout",
     "output_type": "stream",
     "text": [
      "(Life expectancy, 1998)\n"
     ]
    }
   ],
   "source": [
    "*example of opening .dta file from the web. This also will work for a file path.\n",
    "use \"https://www.stata-press.com/data/r18/lifeexp.dta\", clear"
   ]
  },
  {
   "cell_type": "markdown",
   "metadata": {},
   "source": [
    "### OPENING NON-STATA FILES\n",
    "Sometimes we need to open excel or csv (comma-separated vector) files. Usually to open these files, you use a different set of commands.\n",
    "\n",
    "#### Opening excel files\n",
    "Firstrow means the first row is the variable names. You can specify the sheet name or omit it if there is only one sheet. \n",
    "\n",
    "````import excel file_name, firstrow sheet(name) clear````\n",
    "\n",
    "### Opening csv files\n",
    "````import delimited file_name, clear````"
   ]
  },
  {
   "cell_type": "code",
   "execution_count": 12,
   "metadata": {},
   "outputs": [
    {
     "name": "stdout",
     "output_type": "stream",
     "text": [
      "\n",
      "\n",
      "\n",
      "Contains data\n",
      "  obs:         3,235                          \n",
      " vars:             6                          \n",
      " size:       436,725                          \n",
      "--------------------------------------------------------------------------------\n",
      "              storage   display    value\n",
      "variable name   type    format     label      variable label\n",
      "--------------------------------------------------------------------------------\n",
      "FIPS            str5    %9s                   FIPS\n",
      "State           str2    %9s                   State\n",
      "County_Name     str46   %46s                  County_Name\n",
      "Population_2020 long    %10.0gc               Population_2020\n",
      "RUCC_2023       byte    %10.0g                RUCC_2023\n",
      "Description     str77   %77s                  Description\n",
      "--------------------------------------------------------------------------------\n",
      "Sorted by: \n",
      "     Note: Dataset has changed since last saved.\n",
      "\n",
      "\n",
      "     +-------------------------------------------------------------------------+\n",
      "  1. |   FIPS   |   State   |      County_Name   |   Pop~2020   |   RUC~2023   |\n",
      "     |  01001   |      AL   |   Autauga County   |     58,805   |          2   |\n",
      "     |-------------------------------------------------------------------------|\n",
      "     | Description                                                             |\n",
      "     | Metro - Counties in metro areas of 250,000 to 1 million population      |\n",
      "     +-------------------------------------------------------------------------+\n",
      "\n",
      "     +-------------------------------------------------------------------------+\n",
      "  2. |   FIPS   |   State   |      County_Name   |   Pop~2020   |   RUC~2023   |\n",
      "     |  01003   |      AL   |   Baldwin County   |    231,767   |          3   |\n",
      "     |-------------------------------------------------------------------------|\n",
      "     | Description                                                             |\n",
      "     | Metro - Counties in metro areas of fewer than 250,000 population        |\n",
      "     +-------------------------------------------------------------------------+\n",
      "\n",
      "     +-------------------------------------------------------------------------+\n",
      "  3. |   FIPS   |   State   |      County_Name   |   Pop~2020   |   RUC~2023   |\n",
      "     |  01005   |      AL   |   Barbour County   |     25,223   |          6   |\n",
      "     |-------------------------------------------------------------------------|\n",
      "     | Description                                                             |\n",
      "     | Nonmetro - Urban population of 5,000 to 20,000, adjacent to a metro a.. |\n",
      "     +-------------------------------------------------------------------------+\n"
     ]
    }
   ],
   "source": [
    "*First, you must read in the file from the web.\n",
    "import excel \"https://ers.usda.gov/sites/default/files/_laserfiche/DataFiles/53251/Ruralurbancontinuumcodes2023.xlsx?v=10526\", firstrow clear\n",
    "describe\n",
    "list in 1/3"
   ]
  },
  {
   "cell_type": "code",
   "execution_count": 13,
   "metadata": {
    "tags": []
   },
   "outputs": [
    {
     "name": "stdout",
     "output_type": "stream",
     "text": [
      "\n",
      "(5 vars, 9,703 obs)\n",
      "\n",
      "\n",
      "Contains data\n",
      "  obs:         9,703                          \n",
      " vars:             5                          \n",
      " size:     1,397,232                          \n",
      "--------------------------------------------------------------------------------\n",
      "              storage   display    value\n",
      "variable name   type    format     label      variable label\n",
      "--------------------------------------------------------------------------------\n",
      "fips            long    %8.0g                 FIPS\n",
      "state           str2    %9s                   State\n",
      "county_name     str46   %46s                  County_Name\n",
      "attribute       str15   %15s                  Attribute\n",
      "value           str77   %77s                  Value\n",
      "--------------------------------------------------------------------------------\n",
      "Sorted by: \n",
      "     Note: Dataset has changed since last saved.\n",
      "\n",
      "\n",
      "     +--------------------------------------------------------------------+\n",
      "  1. |   fips   |   state    |      county_name    |         attribute    |\n",
      "     |   1001   |      AL    |   Autauga County    |   Population_2020    |\n",
      "     |--------------------------------------------------------------------|\n",
      "     |                                                              value |\n",
      "     |                                                              58805 |\n",
      "     +--------------------------------------------------------------------+\n",
      "\n",
      "     +--------------------------------------------------------------------+\n",
      "  2. |   fips   |   state    |      county_name    |         attribute    |\n",
      "     |   1001   |      AL    |   Autauga County    |         RUCC_2023    |\n",
      "     |--------------------------------------------------------------------|\n",
      "     |                                                              value |\n",
      "     |                                                                  2 |\n",
      "     +--------------------------------------------------------------------+\n",
      "\n",
      "     +--------------------------------------------------------------------+\n",
      "  3. |   fips   |   state    |      county_name    |         attribute    |\n",
      "     |   1001   |      AL    |   Autauga County    |       Description    |\n",
      "     |--------------------------------------------------------------------|\n",
      "     |                                                              value |\n",
      "     | Metro - Counties in metro areas of 250,000 to 1 million population |\n",
      "     +--------------------------------------------------------------------+\n"
     ]
    }
   ],
   "source": [
    "*First, you must read in the file from the web.\n",
    "import delimited \"https://ers.usda.gov/sites/default/files/_laserfiche/DataFiles/53251/Ruralurbancontinuumcodes2023.csv?v=92956\", clear\n",
    "describe\n",
    "list in 1/3"
   ]
  },
  {
   "cell_type": "markdown",
   "metadata": {},
   "source": [
    "### SAVING \n",
    "This commands saves .dta files. Important to remember to include ```, replace``` otherwise Stata wont allow it to be save over.\n",
    "\n",
    "```save file_path_name, replace```"
   ]
  },
  {
   "cell_type": "code",
   "execution_count": 6,
   "metadata": {},
   "outputs": [
    {
     "name": "stdout",
     "output_type": "stream",
     "text": [
      "(note: file D:\\documents copy\\teaching\\SOCG 206 spring 2025\\jupyter\\data.dta not\n",
      ">  found)\n",
      "file D:\\documents copy\\teaching\\SOCG 206 spring 2025\\jupyter\\data.dta saved\n"
     ]
    }
   ],
   "source": [
    "save \"D:\\documents copy\\teaching\\SOCG 206 spring 2025\\jupyter\\data.dta\", replace"
   ]
  },
  {
   "cell_type": "markdown",
   "metadata": {},
   "source": [
    "### Saving files as excel or csv\n",
    "The command above saves files as .dta. However, you can save in other data formats.\n",
    "\n",
    "<b>Excel</b>\n",
    "\n",
    "```export excel file_name, replace```\n",
    "\n",
    "<b>CSV</b>\n",
    "\n",
    "```export delimited file_name,replace```"
   ]
  },
  {
   "cell_type": "code",
   "execution_count": 21,
   "metadata": {
    "tags": []
   },
   "outputs": [
    {
     "name": "stdout",
     "output_type": "stream",
     "text": [
      "file D:\\documents copy\\teaching\\SOCG 206 spring 2025\\jupyter\\data.xlsx saved\n"
     ]
    }
   ],
   "source": [
    "export excel \"D:\\documents copy\\teaching\\SOCG 206 spring 2025\\jupyter\\data.xlsx\", replace"
   ]
  },
  {
   "cell_type": "code",
   "execution_count": 22,
   "metadata": {
    "tags": []
   },
   "outputs": [
    {
     "name": "stdout",
     "output_type": "stream",
     "text": [
      "(note: file D:\\documents copy\\teaching\\SOCG 206 spring 2025\\jupyter\\data.csv not\n",
      ">  found)\n",
      "file D:\\documents copy\\teaching\\SOCG 206 spring 2025\\jupyter\\data.csv saved\n"
     ]
    }
   ],
   "source": [
    "export delimited \"D:\\documents copy\\teaching\\SOCG 206 spring 2025\\jupyter\\data.csv\", replace"
   ]
  },
  {
   "cell_type": "markdown",
   "metadata": {},
   "source": [
    "Go check your folders to make sure it saved."
   ]
  },
  {
   "cell_type": "markdown",
   "metadata": {},
   "source": [
    "### COMMENTING\n",
    "Use asterisk * of double backslash // to write single-line comments. Use /* */ to write multi-line comments."
   ]
  },
  {
   "cell_type": "code",
   "execution_count": 5,
   "metadata": {},
   "outputs": [],
   "source": [
    "*Use the asterisk sign * or // to write single-line commands.\n",
    "/* Use asterisk with a backslash and asterisk to \n",
    "multi-line comments */ "
   ]
  },
  {
   "cell_type": "markdown",
   "metadata": {},
   "source": [
    "### HELP\n",
    "Type ```help``` in front of the command for more information about the command. I always use the help command because I forget coding syntax. I look at the examples or the Stata manual for help. If that doesn't help then I will copy and paste commands to Google"
   ]
  },
  {
   "cell_type": "code",
   "execution_count": 7,
   "metadata": {},
   "outputs": [],
   "source": [
    "help merge"
   ]
  },
  {
   "cell_type": "markdown",
   "metadata": {},
   "source": [
    "## Types of Stata files\n",
    "\n",
    "Successful quantitive projects rely on these files...\n",
    "- <b>.do files</b> - these files store commands and comments.\n",
    "- <b>.dta files</b> - these files store data.\n",
    "- <b>.smcl files</b> - these files results or the output. I usually like to conver these into a pdf (I'll show you how to do this later)"
   ]
  },
  {
   "cell_type": "code",
   "execution_count": 2,
   "metadata": {
    "scrolled": true
   },
   "outputs": [
    {
     "name": "stdout",
     "output_type": "stream",
     "text": [
      "\n",
      "D:\\documents copy\\teaching\\SOCG 206 spring 2025\\jupyter\\workbook1\n",
      "\n",
      "--------------------------------------------------------------------------------\n",
      "      name:  <unnamed>\n",
      "       log:  D:\\documents copy\\teaching\\SOCG 206 spring 2025\\jupyter\\workbook1\\w\n",
      "> eek2 inclass practice.smcl\n",
      "  log type:  smcl\n",
      " opened on:  10 Apr 2025, 10:19:41\n"
     ]
    }
   ],
   "source": [
    "*setting up working directory to be my workbook 1 folder\n",
    "cd \"D:\\documents copy\\teaching\\SOCG 206 spring 2025\\jupyter\\workbook1\"\n",
    "\n",
    "*open a log file\n",
    "log using \"week2 inclass practice.smcl\", replace"
   ]
  },
  {
   "cell_type": "markdown",
   "metadata": {},
   "source": [
    "<b>What would have happened if we used the <i>log using \"week1 inclass practice.smcl\", replace</i> code and DID NOT change directory? Where would the file be save at?</b>"
   ]
  },
  {
   "cell_type": "code",
   "execution_count": 3,
   "metadata": {},
   "outputs": [
    {
     "name": "stdout",
     "output_type": "stream",
     "text": [
      "\n",
      "(Life expectancy, 1998)\n",
      "\n",
      "\n",
      "Contains data from https://www.stata-press.com/data/r18/lifeexp.dta\n",
      "  obs:            68                          Life expectancy, 1998\n",
      " vars:             6                          26 Mar 2022 09:40\n",
      " size:         2,652                          (_dta has notes)\n",
      "--------------------------------------------------------------------------------\n",
      "              storage   display    value\n",
      "variable name   type    format     label      variable label\n",
      "--------------------------------------------------------------------------------\n",
      "region          byte    %16.0g     region     Region\n",
      "country         str28   %28s                  Country\n",
      "popgrowth       float   %9.0g               * Avg. annual % growth\n",
      "lexp            byte    %9.0g               * Life expectancy at birth\n",
      "gnppc           float   %9.0g               * GNP per capita\n",
      "safewater       byte    %9.0g               * Safe water\n",
      "                                            * indicated variables have notes\n",
      "--------------------------------------------------------------------------------\n",
      "Sorted by: \n"
     ]
    }
   ],
   "source": [
    "*opening datafile\n",
    "use \"https://www.stata-press.com/data/r18/lifeexp.dta\", clear\n",
    "\n",
    "*tell stata to describe data\n",
    "desc"
   ]
  },
  {
   "cell_type": "markdown",
   "metadata": {},
   "source": [
    "All of the commands and output will be saved into the log. Log files are files, but they can only be open through **Stata**. I prefer to save my log files as pdf because I can read and share them easily.\n",
    "\n",
    "```capture log close```\n",
    "\n",
    "```translate log_file_name pdf_file_name```"
   ]
  },
  {
   "cell_type": "code",
   "execution_count": 4,
   "metadata": {},
   "outputs": [
    {
     "name": "stdout",
     "output_type": "stream",
     "text": [
      "\n",
      "\n",
      "(file D:\\documents copy\\teaching\\SOCG 206 spring 2025\\jupyter\\workbook1\\week2 in\n",
      "> class practice.pdf written in PDF format)\n"
     ]
    }
   ],
   "source": [
    "*This will close and save log file and convert to pdf\n",
    "capture log close\n",
    "translate \"D:\\documents copy\\teaching\\SOCG 206 spring 2025\\jupyter\\workbook1\\week2 inclass practice.smcl\" ///\n",
    "    \"D:\\documents copy\\teaching\\SOCG 206 spring 2025\\jupyter\\workbook1\\week2 inclass practice.pdf\", replace"
   ]
  },
  {
   "cell_type": "code",
   "execution_count": 2,
   "metadata": {},
   "outputs": [],
   "source": [
    "*type edit and dataview file will open\n",
    "edit"
   ]
  },
  {
   "cell_type": "markdown",
   "metadata": {},
   "source": [
    "<img src=\"https://healthitanalytics.com/images/site/features/_normal/ThinkstockPhotos-645261596.jpg\" width=300 height=300 />\n",
    "\n",
    "## Variables in social statistics\n",
    "When you hear the word variable--what comes to mind?\n",
    "\n",
    "In social statistics, we generally have two kinds of variables:\n",
    "* Categorical variables are variables similar to discrete variables, where the values are categories/boundaries. For example, race or state (Alabama, Oregon, etc...). \n",
    "* Numeric variables are variables similar to contiunous variables, where the values have numeric value to them. For example, percent of Latinx residents or birthweight of child. "
   ]
  },
  {
   "cell_type": "markdown",
   "metadata": {},
   "source": [
    "Categorical variables need to handle with more care as compared to numeric variables. For example, you cannot find the mean. You can find the mode of categorical variables. \n",
    "\n",
    "You can do a lot of statistics with numeric variables because you can treat them like numbers. You can find the mean and standard deviation. Just keep in mind and always ask yourself...what does it mean?"
   ]
  },
  {
   "cell_type": "markdown",
   "metadata": {},
   "source": [
    "## Variables in coding and **Stata** code\n",
    "It is important to understand how variables are handle in coding and **Stata** code. Here we will cover variable types and storage types."
   ]
  },
  {
   "cell_type": "markdown",
   "metadata": {},
   "source": [
    "<img src=\"https://static.semrush.com/blog/uploads/media/cd/34/cd34e2cb04a60d0d027c033e64591477/types-of-content-marketing.svg\" width=300 height=300 />\n",
    "\n",
    "### Variable types\n",
    "Each coding language has it own datatypes. Generally, there is are numeric (have actual number meaning) and string (have meaning in characters and texts). Keep in mind that each coding language has more specific datatypes. Let's review the **Stata** datatypes:\n",
    "* Numeric variables -- These variables are numbers (similar to previous definition). You can do calculations with numeric variables like mean or standard deviation. In data view, numeric variables are displayed in black text.\n",
    "* String variables -- These variables are characters or text. String can be in double quotes. In data view, string variables are displayed in red text.\n",
    "* Numeric variables with string labels -- These are special Stata-only variable that are denoted in blue in the data viewer. They are saved as numeric variable and have string label attached to them. You can manually add labels or get this by using the encode command (discussed below)."
   ]
  },
  {
   "cell_type": "markdown",
   "metadata": {},
   "source": [
    "<img src=\"https://ophtek.com/wp-content/uploads/2018/04/data-storage.jpg\" width=300 height=300 />\n",
    "\n",
    "### Storage types\n",
    "Data takes space or storage on your computer. Each coding language has different space formats. **Stata**'s data format is:"
   ]
  },
  {
   "cell_type": "markdown",
   "metadata": {},
   "source": [
    "| Storage type | Min | Max | Closest to 0 without being 0 | Bytes |\n",
    "| --- | --- | --- | --- | --- |\n",
    "| byte | -127 | 100 | +/-1 | 1 |\n",
    "| int | -32,767 | 32,740 | +/-1 | 2 |\n",
    "| long | -2,147,483,647 | 2,147,483,620 | +/-1 | 3 |\n",
    "| float | -1.70141173319 x 10^38 | 1.70141173319 x 10^38 | +/-10^-38 | 4 |\n",
    "| double | -8.9884656743 x 10^307 | +8.9884656743 x 10^37 | +/-10^-323 | 5 |"
   ]
  },
  {
   "cell_type": "markdown",
   "metadata": {},
   "source": [
    "<i>Don't confuse integer in the numeric sense with the \"integer\" storage type in **Stata**. **Stata** also recognizes time."
   ]
  },
  {
   "cell_type": "markdown",
   "metadata": {},
   "source": [
    "String variables are stored as str1, str2, ..., str2045, and strL. Where the number after \"str\" indicates the length of the string variable.\n",
    "\n",
    "<B>IT IS SO IMPORTANT TO KNOW YOUR VARIABLE TYPES AND STORAGE TYPES. SOME CODES ONLY WORK FOR SPECIFIC DATA AND STORAGE TYPES."
   ]
  },
  {
   "cell_type": "code",
   "execution_count": 1,
   "metadata": {},
   "outputs": [
    {
     "name": "stdout",
     "output_type": "stream",
     "text": [
      "\n",
      "(1980 Census data by state)\n",
      "\n",
      "\n",
      "Contains data from https://www.stata-press.com/data/r17/census12.dta\n",
      "  obs:            50                          1980 Census data by state\n",
      " vars:             7                          6 Apr 2020 15:43\n",
      " size:         1,950                          \n",
      "--------------------------------------------------------------------------------\n",
      "              storage   display    value\n",
      "variable name   type    format     label      variable label\n",
      "--------------------------------------------------------------------------------\n",
      "state           str14   %14s                  State\n",
      "state2          str2    %-2s                  Two-letter state abbreviation\n",
      "region          str7    %9s                   Census region\n",
      "pop             long    %10.0g                Population\n",
      "median_age      float   %9.2f                 Median age\n",
      "marriage_rate   float   %9.0g                 \n",
      "divorce_rate    float   %9.0g                 \n",
      "--------------------------------------------------------------------------------\n",
      "Sorted by: \n"
     ]
    }
   ],
   "source": [
    "use \"https://www.stata-press.com/data/r17/census12.dta\", clear\n",
    "\n",
    "*the describe command will give you summary of the data type of your variables\n",
    "describe"
   ]
  },
  {
   "cell_type": "code",
   "execution_count": 2,
   "metadata": {
    "tags": []
   },
   "outputs": [
    {
     "name": "stdout",
     "output_type": "stream",
     "text": [
      "\n",
      "     +-----------------------------------------------------------------+\n",
      "  1. |         state | state2 | region |     pop | median~e | marria~e |\n",
      "     | Massachusetts | MA     |     NE | 5737037 |    31.20 | .0080657 |\n",
      "     |-----------------------------------------------------------------|\n",
      "     |                            divorc~e                             |\n",
      "     |                            .0031154                             |\n",
      "     +-----------------------------------------------------------------+\n",
      "\n",
      "     +-----------------------------------------------------------------+\n",
      "  2. |         state | state2 | region |     pop | median~e | marria~e |\n",
      "     |  Rhode Island | RI     |     NE |  947154 |    31.80 | .0079079 |\n",
      "     |-----------------------------------------------------------------|\n",
      "     |                            divorc~e                             |\n",
      "     |                            .0038072                             |\n",
      "     +-----------------------------------------------------------------+\n",
      "\n",
      "     +-----------------------------------------------------------------+\n",
      "  3. |         state | state2 | region |     pop | median~e | marria~e |\n",
      "     |         Maine | ME     |     NE | 1124660 |    30.40 | .0107055 |\n",
      "     |-----------------------------------------------------------------|\n",
      "     |                            divorc~e                             |\n",
      "     |                            .0055172                             |\n",
      "     +-----------------------------------------------------------------+\n"
     ]
    }
   ],
   "source": [
    "list in 1/3"
   ]
  },
  {
   "cell_type": "markdown",
   "metadata": {},
   "source": [
    "## Switching between variables types\n",
    "Sometimes the data we get is messy and we have clean it before we can even calculate mean.\n",
    "\n",
    "### ENCODE\n",
    "```encode``` makes a string variable into a numeric. For example, let's say we have survey data with a question of \"Are you a smoker\" Yes/No. ```encode``` will create a new variable where \"Yes\" gets a value for it and \"No\" gets a value for it. When a variable has been \"encoded\" it is displayed in blue text.\n",
    "\n",
    "```encode string_var, gen(new_var_name) label(label_name)```"
   ]
  },
  {
   "cell_type": "code",
   "execution_count": 4,
   "metadata": {},
   "outputs": [
    {
     "name": "stdout",
     "output_type": "stream",
     "text": [
      "\n",
      "\n",
      "\n",
      "Contains data from https://www.stata-press.com/data/r17/hbp2.dta\n",
      "  obs:         1,130                          \n",
      " vars:             7                          3 Mar 2020 06:47\n",
      " size:        24,860                          \n",
      "--------------------------------------------------------------------------------\n",
      "              storage   display    value\n",
      "variable name   type    format     label      variable label\n",
      "--------------------------------------------------------------------------------\n",
      "id              str10   %10s                  Record identification number\n",
      "city            byte    %8.0g                 City\n",
      "year            int     %8.0g                 Year\n",
      "age_grp         byte    %8.0g      agefmt     Age group\n",
      "race            byte    %8.0g      racefmt    Race\n",
      "hbp             byte    %8.0g      yn         High blood pressure\n",
      "sex             str6    %9s                   Sex\n",
      "--------------------------------------------------------------------------------\n",
      "Sorted by: \n"
     ]
    }
   ],
   "source": [
    "*This opens the data\n",
    "use https://www.stata-press.com/data/r17/hbp2.dta, clear\n",
    "*This code prints a descriptive of the dataset.\n",
    "desc"
   ]
  },
  {
   "cell_type": "code",
   "execution_count": 5,
   "metadata": {},
   "outputs": [
    {
     "name": "stdout",
     "output_type": "stream",
     "text": [
      "\n",
      "     +-----------------------------------------------------------+\n",
      "     |         id   city   year   age_grp    race   hbp      sex |\n",
      "     |-----------------------------------------------------------|\n",
      "  1. | 8008238923      1   1993     15–19   Black    No   female |\n",
      "  2. | 8007143470      1   1992     30–34       .    No          |\n",
      "  3. | 8000468015      1   1988     25–29   Black    No     male |\n",
      "  4. | 8006167153      1   1991     25–29   Black    No     male |\n",
      "  5. | 8006142590      1   1991     20–24   Black    No   female |\n",
      "     +-----------------------------------------------------------+\n"
     ]
    }
   ],
   "source": [
    "list in 1/5"
   ]
  },
  {
   "cell_type": "code",
   "execution_count": 7,
   "metadata": {
    "tags": []
   },
   "outputs": [
    {
     "name": "stdout",
     "output_type": "stream",
     "text": [
      "sex:  string variables may not be used as factor variables\n"
     ]
    },
    {
     "name": "stderr",
     "output_type": "stream",
     "text": [
      "r(109);\n"
     ]
    },
    {
     "name": "stdout",
     "output_type": "stream",
     "text": [
      "\n"
     ]
    }
   ],
   "source": [
    "*Stata wont let you run statistics with string variables. See error message\n",
    "regress year i.sex"
   ]
  },
  {
   "cell_type": "markdown",
   "metadata": {},
   "source": [
    "<b>The variable <i>sex</i> is a string datatype."
   ]
  },
  {
   "cell_type": "code",
   "execution_count": 8,
   "metadata": {},
   "outputs": [],
   "source": [
    "*This is an example of using encode\n",
    "encode sex, gen(sex_numeric) label(\"Respondent's sex (numeric)\")"
   ]
  },
  {
   "cell_type": "code",
   "execution_count": 8,
   "metadata": {},
   "outputs": [
    {
     "name": "stdout",
     "output_type": "stream",
     "text": [
      "\n",
      "\n",
      "     +----------------------------------------------------------------------+\n",
      "     |         id   city   year   age_grp    race   hbp      sex   sex_nu~c |\n",
      "     |----------------------------------------------------------------------|\n",
      "  1. | 8008238923      1   1993     15–19   Black    No   female     female |\n",
      "  2. | 8007143470      1   1992     30–34       .    No                   . |\n",
      "  3. | 8000468015      1   1988     25–29   Black    No     male       male |\n",
      "  4. | 8006167153      1   1991     25–29   Black    No     male       male |\n",
      "  5. | 8006142590      1   1991     20–24   Black    No   female     female |\n",
      "     +----------------------------------------------------------------------+\n",
      "\n",
      "\n",
      "Contains data from https://www.stata-press.com/data/r17/hbp2.dta\n",
      " Observations:         1,130                  \n",
      "    Variables:             8                  3 Mar 2020 06:47\n",
      "--------------------------------------------------------------------------------\n",
      "Variable      Storage   Display    Value\n",
      "    name         type    format    label      Variable label\n",
      "--------------------------------------------------------------------------------\n",
      "id              str10   %10s                  Record identification number\n",
      "city            byte    %8.0g                 City\n",
      "year            int     %8.0g                 Year\n",
      "age_grp         byte    %8.0g      agefmt     Age group\n",
      "race            byte    %8.0g      racefmt    Race\n",
      "hbp             byte    %8.0g      yn         High blood pressure\n",
      "sex             str6    %9s                   Sex\n",
      "sex_numeric     long    %8.0g      Respondent's sex (numeric)\n",
      "                                              Sex\n",
      "--------------------------------------------------------------------------------\n",
      "Sorted by: \n",
      "     Note: Dataset has changed since last saved.\n"
     ]
    }
   ],
   "source": [
    "*Let's see if there was a change\n",
    "list in 1/5\n",
    "desc"
   ]
  },
  {
   "cell_type": "code",
   "execution_count": 10,
   "metadata": {},
   "outputs": [
    {
     "name": "stdout",
     "output_type": "stream",
     "text": [
      "\n",
      "--------------------------------------------------------------------------------\n",
      "sex_numeric                                                                  Sex\n",
      "--------------------------------------------------------------------------------\n",
      "\n",
      "                  Type: Numeric (long)\n",
      "                 Label: Respondent's sex (numeric), but label does not exist\n",
      "\n",
      "                 Range: [1,2]                         Units: 1\n",
      "         Unique values: 2                         Missing .: 2/1,130\n",
      "\n",
      "            Tabulation: Freq.  Value\n",
      "                          433  1\n",
      "                          695  2\n",
      "                            2  .\n"
     ]
    }
   ],
   "source": [
    "codebook sex_numeric"
   ]
  },
  {
   "cell_type": "code",
   "execution_count": 9,
   "metadata": {
    "tags": []
   },
   "outputs": [
    {
     "name": "stdout",
     "output_type": "stream",
     "text": [
      "\n",
      "      Source |       SS           df       MS      Number of obs   =     1,128\n",
      "-------------+----------------------------------   F(1, 1126)      =      1.50\n",
      "       Model |   3.0599326         1   3.0599326   Prob > F        =    0.2207\n",
      "    Residual |  2294.78315     1,126  2.03799569   R-squared       =    0.0013\n",
      "-------------+----------------------------------   Adj R-squared   =    0.0004\n",
      "       Total |  2297.84309     1,127  2.03890247   Root MSE        =    1.4276\n",
      "\n",
      "------------------------------------------------------------------------------\n",
      "        year |      Coef.   Std. Err.      t    P>|t|     [95% Conf. Interval]\n",
      "-------------+----------------------------------------------------------------\n",
      " sex_numeric |\n",
      "       male  |  -.1070962   .0874017    -1.23   0.221    -.2785847    .0643923\n",
      "       _cons |   1991.196   .0686053  2.9e+04   0.000     1991.062    1991.331\n",
      "------------------------------------------------------------------------------\n"
     ]
    }
   ],
   "source": [
    "*Now, we can run statistics\n",
    "regress year i.sex_numeric"
   ]
  },
  {
   "cell_type": "code",
   "execution_count": 11,
   "metadata": {},
   "outputs": [
    {
     "name": "stdout",
     "output_type": "stream",
     "text": [
      "\n",
      "--------------------------------------------------------------------------------\n",
      "race                                                                        Race\n",
      "--------------------------------------------------------------------------------\n",
      "\n",
      "                  Type: Numeric (byte)\n",
      "                 Label: racefmt\n",
      "\n",
      "                 Range: [1,3]                         Units: 1\n",
      "         Unique values: 3                         Missing .: 4/1,130\n",
      "\n",
      "            Tabulation: Freq.   Numeric  Label\n",
      "                          196         1  White\n",
      "                          773         2  Black\n",
      "                          157         3  Hispanic\n",
      "                            4         .  \n"
     ]
    }
   ],
   "source": [
    "codebook race"
   ]
  },
  {
   "cell_type": "markdown",
   "metadata": {},
   "source": [
    "<b> Now, the variable sex_numeric is numeric data type with string labels so **Stata** can run analyses. Race is similar because they are denoted by blue text and in the describe printout you can see their storage type is numeric."
   ]
  },
  {
   "cell_type": "markdown",
   "metadata": {},
   "source": [
    "### DESTRING\n",
    "```destring``` converts a variable from a string to numeric variable. This only works if the string variable ONLY has numbers. Sometimes when you import data, **Stata** reads it as string because there is a non-numeric character in the variable. You have to observe the data and include removing that character from the data.\n",
    "\n",
    "```destring var, gen(new_name)```\n",
    "\n",
    "```destring var, replace```\n",
    "\n",
    "```destring var, gen(new_name) ignore(character)```"
   ]
  },
  {
   "cell_type": "code",
   "execution_count": 10,
   "metadata": {},
   "outputs": [
    {
     "name": "stdout",
     "output_type": "stream",
     "text": [
      "\n",
      "\n",
      "\n",
      "Contains data from http://www.stata-press.com/data/r13/destring2.dta\n",
      "  obs:            10                          \n",
      " vars:             3                          3 Mar 2013 22:50\n",
      " size:           280                          \n",
      "--------------------------------------------------------------------------------\n",
      "              storage   display    value\n",
      "variable name   type    format     label      variable label\n",
      "--------------------------------------------------------------------------------\n",
      "date            str14   %10s                  \n",
      "price           str11   %11s                  \n",
      "percent         str3    %9s                   \n",
      "--------------------------------------------------------------------------------\n",
      "Sorted by: \n",
      "\n",
      "\n",
      "     +------------------------------------+\n",
      "     |       date         price   percent |\n",
      "     |------------------------------------|\n",
      "  1. | 1999 12 10     $2,343.68       34% |\n",
      "  2. | 2000 07 08     $7,233.44       86% |\n",
      "  3. | 1997 03 02    $12,442.89       12% |\n",
      "  4. | 1999 09 00   $233,325.31        6% |\n",
      "  5. | 1998 10 04     $1,549.23       76% |\n",
      "     +------------------------------------+\n"
     ]
    }
   ],
   "source": [
    "*Reading in data and asking for description of data\n",
    "use http://www.stata-press.com/data/r13/destring2, clear\n",
    "desc\n",
    "list in 1/5"
   ]
  },
  {
   "cell_type": "markdown",
   "metadata": {},
   "source": [
    "<b>All variable in this dataset are string</b>"
   ]
  },
  {
   "cell_type": "code",
   "execution_count": 14,
   "metadata": {},
   "outputs": [
    {
     "name": "stdout",
     "output_type": "stream",
     "text": [
      "price: contains nonnumeric characters; no generate\n"
     ]
    }
   ],
   "source": [
    "destring price, generate(price3)"
   ]
  },
  {
   "cell_type": "code",
   "execution_count": 15,
   "metadata": {},
   "outputs": [
    {
     "name": "stdout",
     "output_type": "stream",
     "text": [
      "date: character space removed; date2 generated as long\n",
      "price: characters $ , removed; price2 generated as double\n",
      "percent: character % removed; percent2 generated as byte\n"
     ]
    }
   ],
   "source": [
    "/*Code for destring\n",
    "You could use either one of these codes. Note that the second one REPLACES the string variable with the numeric variable.*/\n",
    "destring date price percent, generate(date2 price2 percent2) ignore(\"$ ,%\")\n",
    "\n",
    "*destring date price percent, ignore(\"$ ,%\") replace"
   ]
  },
  {
   "cell_type": "code",
   "execution_count": 6,
   "metadata": {},
   "outputs": [
    {
     "name": "stdout",
     "output_type": "stream",
     "text": [
      "\n",
      "\n",
      "Contains data from http://www.stata-press.com/data/r13/destring2.dta\n",
      " Observations:            10                  \n",
      "    Variables:             6                  3 Mar 2013 22:50\n",
      "--------------------------------------------------------------------------------\n",
      "Variable      Storage   Display    Value\n",
      "    name         type    format    label      Variable label\n",
      "--------------------------------------------------------------------------------\n",
      "date            str14   %10s                  \n",
      "date2           long    %10.0g                \n",
      "price           str11   %11s                  \n",
      "price2          double  %10.0g                \n",
      "percent         str3    %9s                   \n",
      "percent2        byte    %10.0g                \n",
      "--------------------------------------------------------------------------------\n",
      "Sorted by: \n",
      "     Note: Dataset has changed since last saved.\n",
      "\n",
      "\n",
      "     +----------------------------------------------------------------------+\n",
      "     |       date      date2         price      price2   percent   percent2 |\n",
      "     |----------------------------------------------------------------------|\n",
      "  1. | 1999 12 10   19991210     $2,343.68     2343.68       34%         34 |\n",
      "  2. | 2000 07 08   20000708     $7,233.44     7233.44       86%         86 |\n",
      "  3. | 1997 03 02   19970302    $12,442.89    12442.89       12%         12 |\n",
      "  4. | 1999 09 00   19990900   $233,325.31   233325.31        6%          6 |\n",
      "  5. | 1998 10 04   19981004     $1,549.23     1549.23       76%         76 |\n",
      "     +----------------------------------------------------------------------+\n"
     ]
    }
   ],
   "source": [
    "*Let's make sure it worked.\n",
    "desc\n",
    "list in 1/5"
   ]
  },
  {
   "cell_type": "markdown",
   "metadata": {},
   "source": [
    "# Cleaning a real data\n",
    "You want to examine racial and ethnic breakdown of incarceration and compare them to the general population. Go to the [Prison Policy Initative site](https://www.prisonpolicy.org/data/). We want to Incarcerated populations by race/ethnicity and gender for each state excel. You find this excel file of data for 2010. Unfortunately, when you read the file into **Stata**, it all messy. Your job is clean it so we can use the data. First, I open the excel and do a visual test. Let's make a list of what needs to be cleaned....\n",
    "* rename variable name\n",
    "* Row 5-58 has the data\n",
    "* destring the numeric values\n",
    "\n",
    "<b>This is where code becomes very handy--we have our code in case we mess up! Make sure to have a do-file.</b>"
   ]
  },
  {
   "cell_type": "code",
   "execution_count": 8,
   "metadata": {},
   "outputs": [
    {
     "name": "stdout",
     "output_type": "stream",
     "text": [
      "\n",
      "\n",
      "\n",
      "Contains data\n",
      "  obs:            61                          \n",
      " vars:            35                          \n",
      " size:       130,540                          \n",
      "--------------------------------------------------------------------------------\n",
      "              storage   display    value\n",
      "variable name   type    format     label      variable label\n",
      "--------------------------------------------------------------------------------\n",
      "A               str63   %63s                  \n",
      "B               str6    %9s                   \n",
      "C               str20   %20s                  \n",
      "D               str50   %50s                  \n",
      "E               str51   %51s                  \n",
      "F               str71   %71s                  \n",
      "G               str79   %79s                  \n",
      "H               str51   %51s                  \n",
      "I               str88   %88s                  \n",
      "J               str61   %61s                  \n",
      "K               str57   %57s                  \n",
      "L               str58   %58s                  \n",
      "M               str75   %75s                  \n",
      "N               str1    %9s                   \n",
      "O               str48   %48s                  \n",
      "P               str49   %49s                  \n",
      "Q               str49   %49s                  \n",
      "R               str57   %57s                  \n",
      "S               str49   %49s                  \n",
      "T               str66   %66s                  \n",
      "U               str49   %49s                  \n",
      "V               str49   %49s                  \n",
      "W               str49   %49s                  \n",
      "X               str53   %53s                  \n",
      "Y               str1    %9s                   \n",
      "Z               str89   %89s                  \n",
      "AA              str89   %89s                  \n",
      "AB              str89   %89s                  \n",
      "AC              str89   %89s                  \n",
      "AD              str89   %89s                  \n",
      "AE              str89   %89s                  \n",
      "AF              str89   %89s                  \n",
      "AG              str89   %89s                  \n",
      "AH              str89   %89s                  \n",
      "AI              str89   %89s                  \n",
      "--------------------------------------------------------------------------------\n",
      "Sorted by: \n",
      "     Note: Dataset has changed since last saved.\n"
     ]
    }
   ],
   "source": [
    "*First, you must read in the file from the web.\n",
    "import excel \"https://www.prisonpolicy.org/data/race_ethnicity_gender_2010.xlsx\", ///\n",
    "    sheet(Total) clear\n",
    "describe"
   ]
  },
  {
   "cell_type": "code",
   "execution_count": 2,
   "metadata": {},
   "outputs": [
    {
     "name": "stdout",
     "output_type": "stream",
     "text": [
      "\n",
      "\n",
      "     +---------------------------------------------------------------------+\n",
      "  1. |                                                                 A   |\n",
      "     |   Incarcerated population by race/ethnicity in Census 2010- total   |\n",
      "     |---------------------------------------------------------------------|\n",
      "     |             C |                                                   E |\n",
      "     |               |                                                     |\n",
      "     +---------------------------------------------------------------------+\n",
      "\n",
      "     +---------------------------------------------------------------------+\n",
      "  2. |                                                                 A   |\n",
      "     |                                                                     |\n",
      "     |---------------------------------------------------------------------|\n",
      "     |             C |                                                   E |\n",
      "     |               |                                                     |\n",
      "     +---------------------------------------------------------------------+\n",
      "\n",
      "     +---------------------------------------------------------------------+\n",
      "  3. |                                                                 A   |\n",
      "     |                                                                     |\n",
      "     |---------------------------------------------------------------------|\n",
      "     |             C |                                                   E |\n",
      "     |               |                                                     |\n",
      "     +---------------------------------------------------------------------+\n",
      "\n",
      "     +---------------------------------------------------------------------+\n",
      "  4. |                                                                 A   |\n",
      "     |                                                                     |\n",
      "     |---------------------------------------------------------------------|\n",
      "     |             C |                                                   E |\n",
      "     |               |                                                     |\n",
      "     +---------------------------------------------------------------------+\n",
      "\n",
      "     +---------------------------------------------------------------------+\n",
      "  5. |                                                                 A   |\n",
      "     |                                                             GEOID   |\n",
      "     |---------------------------------------------------------------------|\n",
      "     |             C |                                                   E |\n",
      "     |     Geography | White alone : in Correctional Facilities for Adults |\n",
      "     +---------------------------------------------------------------------+\n",
      "\n",
      "     +---------------------------------------------------------------------+\n",
      "  6. |                                                                 A   |\n",
      "     |                                                         0100000US   |\n",
      "     |---------------------------------------------------------------------|\n",
      "     |             C |                                                   E |\n",
      "     | United States |                                             1139749 |\n",
      "     +---------------------------------------------------------------------+\n",
      "\n",
      "\n",
      "     +-----------------------------------------------------+\n",
      " 58. |                 A        |                 C        |\n",
      "     |       0400000US72        |       Puerto Rico        |\n",
      "     |-----------------------------------------------------|\n",
      "     |                                                   E |\n",
      "     |                                                8885 |\n",
      "     +-----------------------------------------------------+\n",
      "\n",
      "     +-----------------------------------------------------+\n",
      " 59. |                 A        |                 C        |\n",
      "     |            Source        |                          |\n",
      "     |-----------------------------------------------------|\n",
      "     |                                                   E |\n",
      "     | Census 2010, Summary File 1, Table PCT20A, Column 3 |\n",
      "     +-----------------------------------------------------+\n",
      "\n",
      "     +-----------------------------------------------------+\n",
      " 60. |                 A        |                 C        |\n",
      "     |                          |                          |\n",
      "     |-----------------------------------------------------|\n",
      "     |                                                   E |\n",
      "     |                                                     |\n",
      "     +-----------------------------------------------------+\n",
      "\n",
      "     +-----------------------------------------------------+\n",
      " 61. |                 A        |                 C        |\n",
      "     |                          |                          |\n",
      "     |-----------------------------------------------------|\n",
      "     |                                                   E |\n",
      "     |                                                     |\n",
      "     +-----------------------------------------------------+\n"
     ]
    }
   ],
   "source": [
    "list A C E in 1/6 \n",
    "list A C E in 58/61"
   ]
  },
  {
   "cell_type": "markdown",
   "metadata": {},
   "source": [
    "Which rows need to be omitted?\n",
    "\n",
    "### DROP & KEEP\n",
    "To remove rows or columns from dataset, we can use ```drop``` or ```keep```. You can also add conditional statements.\n",
    "\n",
    "To drop rows use:\n",
    "\n",
    "```drop in rownumber/rownumber```\n",
    "\n",
    "```keep in rownumber/rownumber```\n",
    "\n",
    "To drop columns use:  \n",
    "\n",
    "```drop varname```\n",
    "\n",
    "```keep varname```\n",
    "\n",
    "To drop based on conditional statements:\n",
    "\n",
    "```drop if condition```\n",
    "\n",
    "```keep if condition```"
   ]
  },
  {
   "cell_type": "code",
   "execution_count": 9,
   "metadata": {
    "tags": []
   },
   "outputs": [
    {
     "name": "stdout",
     "output_type": "stream",
     "text": [
      "\n",
      "(3 observations deleted)\n",
      "\n",
      "(4 observations deleted)\n"
     ]
    }
   ],
   "source": [
    "*Second, you drop the observations or rows that are not necessary.\n",
    "drop in 59/61\n",
    "drop in 1/4"
   ]
  },
  {
   "cell_type": "markdown",
   "metadata": {},
   "source": [
    "<b> instead of ```drop```, we could have used ```keep```<b>\n",
    "    \n",
    "```keep in 5/58```"
   ]
  },
  {
   "cell_type": "code",
   "execution_count": 50,
   "metadata": {
    "collapsed": true,
    "jupyter": {
     "outputs_hidden": true
    },
    "tags": []
   },
   "outputs": [
    {
     "name": "stdout",
     "output_type": "stream",
     "text": [
      "\n",
      "     +-------------------------------------------------------------------------+\n",
      "  1. |               A       |            B       |                   C        |\n",
      "     |           GEOID       |       GEOID2       |           Geography        |\n",
      "     |-------------------------------------------------------------------------|\n",
      "     |                                                          D              |\n",
      "     |              Total : In Correctional Facilities for Adults              |\n",
      "     |-------------------------------------------------------------------------|\n",
      "     |                                                             E           |\n",
      "     |           White alone : in Correctional Facilities for Adults           |\n",
      "     |-------------------------------------------------------------------------|\n",
      "     |                                                                       F |\n",
      "     | Black or African American alone : in Correctional Facilities for Adults |\n",
      "     |-------------------------------------------------------------------------|\n",
      "     | G                                                                       |\n",
      "     | American Indian and Alaska Native alone : in Correctional Facilities .. |\n",
      "     |-------------------------------------------------------------------------|\n",
      "     |                                                             H           |\n",
      "     |           Asian alone : in Correctional Facilities for Adults           |\n",
      "     |-------------------------------------------------------------------------|\n",
      "     | I                                                                       |\n",
      "     | Native Hawaiian and other Pacific Islander alone : in Correctional Fa.. |\n",
      "     |-------------------------------------------------------------------------|\n",
      "     |                                                                  J      |\n",
      "     |      Some other race alone : in Correctional Facilities for Adults      |\n",
      "     |-------------------------------------------------------------------------|\n",
      "     |                                                                K        |\n",
      "     |        Two or more races : in Correctional Facilities for Adults        |\n",
      "     |-------------------------------------------------------------------------|\n",
      "     |                                                                L        |\n",
      "     |       Hispanic or Latino : in Correctional Facilities for Adults        |\n",
      "     |-------------------------------------------------------------------------|\n",
      "     | M                                                                       |\n",
      "     | White alone, not Hispanic or Latino : in Correctional Facilities for .. |\n",
      "     |-------------------------------------------------------------------------|\n",
      "     |    N    |                   O    |                                P     |\n",
      "     |         |    Total Population    |    Total Population: White alone     |\n",
      "     |-------------------------------------------------------------------------|\n",
      "     |                                                            Q            |\n",
      "     |            Total Population: Black or African American alone            |\n",
      "     |-------------------------------------------------------------------------|\n",
      "     |                                                                R        |\n",
      "     |        Total Population: American Indian and Alaska Native alone        |\n",
      "     |-------------------------------------------------------------------------|\n",
      "     |                                                  S                      |\n",
      "     |                      Total Population: Asian alone                      |\n",
      "     |-------------------------------------------------------------------------|\n",
      "     |                                                                    T    |\n",
      "     |   Total Population: Native Hawaiian and other Pacific Islander alone    |\n",
      "     |-------------------------------------------------------------------------|\n",
      "     |                                                       U                 |\n",
      "     |                 Total Population: Some other race alone                 |\n",
      "     |-------------------------------------------------------------------------|\n",
      "     |                                                     V                   |\n",
      "     |                   Total Population: Two or more races                   |\n",
      "     |-------------------------------------------------------------------------|\n",
      "     |                                                     W                   |\n",
      "     |                  Total Population: Hispanic or Latino                   |\n",
      "     |-------------------------------------------------------------------------|\n",
      "     |                                                        X     |    Y     |\n",
      "     |    Total Population: White alone, not Hispanic or Latino     |          |\n",
      "     |-------------------------------------------------------------------------|\n",
      "     |                      Z      |                                   AA      |\n",
      "     |     Incarceration rate      |      Incarceration rate: White alone      |\n",
      "     |-------------------------------------------------------------------------|\n",
      "     |                                                            AB           |\n",
      "     |           Incarceration rate: Black or African American alone           |\n",
      "     |-------------------------------------------------------------------------|\n",
      "     |                                                                AC       |\n",
      "     |       Incarceration rate: American Indian and Alaska Native alone       |\n",
      "     |-------------------------------------------------------------------------|\n",
      "     |                                                  AD                     |\n",
      "     |                     Incarceration rate: Asian alone                     |\n",
      "     |-------------------------------------------------------------------------|\n",
      "     |                                                                    AE   |\n",
      "     |  Incarceration rate: Native Hawaiian and other Pacific Islander alone   |\n",
      "     |-------------------------------------------------------------------------|\n",
      "     |                                                       AF                |\n",
      "     |                Incarceration rate: Some other race alone                |\n",
      "     |-------------------------------------------------------------------------|\n",
      "     |                                                     AG                  |\n",
      "     |                  Incarceration rate: Two or more races                  |\n",
      "     |-------------------------------------------------------------------------|\n",
      "     |                                                     AH                  |\n",
      "     |                 Incarceration rate: Hispanic or Latino                  |\n",
      "     |-------------------------------------------------------------------------|\n",
      "     |                                                              AI         |\n",
      "     |         Incarceration rate: White alone, not Hispanic or Latino         |\n",
      "     +-------------------------------------------------------------------------+\n",
      "\n",
      "     +-------------------------------------------------------------------------+\n",
      "  2. |               A       |            B       |                   C        |\n",
      "     |       0100000US       |                    |       United States        |\n",
      "     |-------------------------------------------------------------------------|\n",
      "     |                                                          D              |\n",
      "     |                                                    2263602              |\n",
      "     |-------------------------------------------------------------------------|\n",
      "     |                                                             E           |\n",
      "     |                                                       1139749           |\n",
      "     |-------------------------------------------------------------------------|\n",
      "     |                                                                       F |\n",
      "     |                                                                  897875 |\n",
      "     |-------------------------------------------------------------------------|\n",
      "     | G                                                                       |\n",
      "     | 37854                                                                   |\n",
      "     |-------------------------------------------------------------------------|\n",
      "     |                                                             H           |\n",
      "     |                                                         16928           |\n",
      "     |-------------------------------------------------------------------------|\n",
      "     | I                                                                       |\n",
      "     | 5494                                                                    |\n",
      "     |-------------------------------------------------------------------------|\n",
      "     |                                                                  J      |\n",
      "     |                                                             142908      |\n",
      "     |-------------------------------------------------------------------------|\n",
      "     |                                                                K        |\n",
      "     |                                                            22794        |\n",
      "     |-------------------------------------------------------------------------|\n",
      "     |                                                                L        |\n",
      "     |                                                           419509        |\n",
      "     |-------------------------------------------------------------------------|\n",
      "     | M                                                                       |\n",
      "     | 885956                                                                  |\n",
      "     |-------------------------------------------------------------------------|\n",
      "     |    N    |                   O    |                                P     |\n",
      "     |         |           308745538    |                        223553265     |\n",
      "     |-------------------------------------------------------------------------|\n",
      "     |                                                            Q            |\n",
      "     |                                                     38929319            |\n",
      "     |-------------------------------------------------------------------------|\n",
      "     |                                                                R        |\n",
      "     |                                                          2932248        |\n",
      "     |-------------------------------------------------------------------------|\n",
      "     |                                                  S                      |\n",
      "     |                                           14674252                      |\n",
      "     |-------------------------------------------------------------------------|\n",
      "     |                                                                    T    |\n",
      "     |                                                               540013    |\n",
      "     |-------------------------------------------------------------------------|\n",
      "     |                                                       U                 |\n",
      "     |                                                19107368                 |\n",
      "     |-------------------------------------------------------------------------|\n",
      "     |                                                     V                   |\n",
      "     |                                               9009073                   |\n",
      "     |-------------------------------------------------------------------------|\n",
      "     |                                                     W                   |\n",
      "     |                                              50477594                   |\n",
      "     |-------------------------------------------------------------------------|\n",
      "     |                                                        X     |    Y     |\n",
      "     |                                                196817552     |          |\n",
      "     |-------------------------------------------------------------------------|\n",
      "     |                      Z      |                                   AA      |\n",
      "     |      733.1610408568885      |                    509.8333052751432      |\n",
      "     |-------------------------------------------------------------------------|\n",
      "     |                                                            AB           |\n",
      "     |                                             2306.423598111233           |\n",
      "     |-------------------------------------------------------------------------|\n",
      "     |                                                                AC       |\n",
      "     |                                                 1290.954926049911       |\n",
      "     |-------------------------------------------------------------------------|\n",
      "     |                                                  AD                     |\n",
      "     |                                   115.3585204888127                     |\n",
      "     |-------------------------------------------------------------------------|\n",
      "     |                                                                    AE   |\n",
      "     |                                                     1017.382914855753   |\n",
      "     |-------------------------------------------------------------------------|\n",
      "     |                                                       AF                |\n",
      "     |                                        747.9209067413158                |\n",
      "     |-------------------------------------------------------------------------|\n",
      "     |                                                     AG                  |\n",
      "     |                                      253.0116028585849                  |\n",
      "     |-------------------------------------------------------------------------|\n",
      "     |                                                     AH                  |\n",
      "     |                                       831.079627131198                  |\n",
      "     |-------------------------------------------------------------------------|\n",
      "     |                                                              AI         |\n",
      "     |                                               450.1407476097457         |\n",
      "     +-------------------------------------------------------------------------+\n"
     ]
    }
   ],
   "source": [
    "list in 1/2"
   ]
  },
  {
   "cell_type": "markdown",
   "metadata": {},
   "source": [
    "Which variables to keep? We want race and ethnicity variables.\n",
    "\n",
    "### RENAME\n",
    "```rename``` lets us rename variables in **Stata**. We want meaningful names.\n",
    "\n",
    "```rename varname new_varname```"
   ]
  },
  {
   "cell_type": "code",
   "execution_count": 10,
   "metadata": {},
   "outputs": [],
   "source": [
    "*Fourth, you need to rename the variables with useful names\n",
    "rename A geoid\n",
    "rename B geoid2\n",
    "rename C state\n",
    "rename D tot_incar\n",
    "rename E wht_incar\n",
    "rename F blk_incar\n",
    "rename G indig_incar\n",
    "rename H asian_incar\n",
    "rename I hawpi_incar\n",
    "rename J other_incar\n",
    "rename K multirace_incar\n",
    "rename L lat_incar"
   ]
  },
  {
   "cell_type": "code",
   "execution_count": 11,
   "metadata": {},
   "outputs": [
    {
     "name": "stdout",
     "output_type": "stream",
     "text": [
      "(1 observation deleted)\n"
     ]
    }
   ],
   "source": [
    "*Row 1 just has the variable names so you can drop it now that you are done cleaning\n",
    "drop in 1"
   ]
  },
  {
   "cell_type": "code",
   "execution_count": 6,
   "metadata": {},
   "outputs": [
    {
     "name": "stdout",
     "output_type": "stream",
     "text": [
      "\n",
      "     +-----------------------------------------------------------------------+\n",
      "  1. |       geoid | geoid2 |         state | tot_in~r | wht_in~r | blk_in~r |\n",
      "     |   0100000US |        | United States |  2263602 |  1139749 |   897875 |\n",
      "     |-----------------------------------------------------------------------|\n",
      "     | indig_~r  | asian_~r  | hawpi_~r  | other_~r  | multir~r  | lat_in~r  |\n",
      "     |    37854  |    16928  |     5494  |   142908  |    22794  |   419509  |\n",
      "     |-----------------------------------------------------------+-----------|\n",
      "     |      M | N |         O |         P |        Q  |       R  |        S  |\n",
      "     | 885956 |   | 308745538 | 223553265 | 38929319  | 2932248  | 14674252  |\n",
      "     |-----------------------------------------------------------------------|\n",
      "     |       T  |         U  |        V  |         W   |          X   |  Y   |\n",
      "     |  540013  |  19107368  |  9009073  |  50477594   |  196817552   |      |\n",
      "     |-----------------------+-----------------------------------------------|\n",
      "     |                   Z   |                  AA   |                  AB   |\n",
      "     |   733.1610408568885   |   509.8333052751432   |   2306.423598111233   |\n",
      "     |-----------------------+-----------------------+-----------------------|\n",
      "     |                  AC   |                  AD   |                  AE   |\n",
      "     |   1290.954926049911   |   115.3585204888127   |   1017.382914855753   |\n",
      "     |-----------------------+-----------------------+-----------------------|\n",
      "     |                  AF   |                  AG   |                  AH   |\n",
      "     |   747.9209067413158   |   253.0116028585849   |    831.079627131198   |\n",
      "     |-----------------------------------------------------------------------|\n",
      "     |                                          AI                           |\n",
      "     |                           450.1407476097457                           |\n",
      "     +-----------------------------------------------------------------------+\n",
      "\n",
      "     +-----------------------------------------------------------------------+\n",
      "  2. |       geoid | geoid2 |         state | tot_in~r | wht_in~r | blk_in~r |\n",
      "     | 0400000US01 |      1 |       Alabama |    41177 |    18087 |    22377 |\n",
      "     |-----------------------------------------------------------------------|\n",
      "     | indig_~r  | asian_~r  | hawpi_~r  | other_~r  | multir~r  | lat_in~r  |\n",
      "     |       80  |       57  |        3  |      283  |      290  |     1423  |\n",
      "     |-----------------------------------------------------------+-----------|\n",
      "     |      M | N |         O |         P |        Q  |       R  |        S  |\n",
      "     |  17154 |   |   4779736 |   3275394 |  1251311  |   28218  |    53595  |\n",
      "     |-----------------------------------------------------------------------|\n",
      "     |       T  |         U  |        V  |         W   |          X   |  Y   |\n",
      "     |    3057  |     96910  |    71251  |    185602   |    3204402   |      |\n",
      "     |-----------------------+-----------------------------------------------|\n",
      "     |                   Z   |                  AA   |                  AB   |\n",
      "     |     861.49109490566   |   552.2083755419959   |   1788.284447271701   |\n",
      "     |-----------------------+-----------------------+-----------------------|\n",
      "     |                  AC   |                  AD   |                  AE   |\n",
      "     |    283.506981359416   |   106.3532045899804   |   98.13542688910697   |\n",
      "     |-----------------------+-----------------------+-----------------------|\n",
      "     |                  AF   |                  AG   |                  AH   |\n",
      "     |   292.0235269837994   |   407.0118314128924   |   766.6943244146075   |\n",
      "     |-----------------------------------------------------------------------|\n",
      "     |                                          AI                           |\n",
      "     |                           535.3260920446311                           |\n",
      "     +-----------------------------------------------------------------------+\n",
      "\n",
      "     +-----------------------------------------------------------------------+\n",
      "  3. |       geoid | geoid2 |         state | tot_in~r | wht_in~r | blk_in~r |\n",
      "     | 0400000US02 |      2 |        Alaska |     4206 |     1812 |      301 |\n",
      "     |-----------------------------------------------------------------------|\n",
      "     | indig_~r  | asian_~r  | hawpi_~r  | other_~r  | multir~r  | lat_in~r  |\n",
      "     |     1579  |       44  |       49  |       31  |      390  |      255  |\n",
      "     |-----------------------------------------------------------+-----------|\n",
      "     |      M | N |         O |         P |        Q  |       R  |        S  |\n",
      "     |   1684 |   |    710231 |    473576 |    23263  |  104871  |    38135  |\n",
      "     |-----------------------------------------------------------------------|\n",
      "     |       T  |         U  |        V  |         W   |          X   |  Y   |\n",
      "     |    7409  |     11102  |    51875  |     39249   |     455320   |      |\n",
      "     |-----------------------+-----------------------------------------------|\n",
      "     |                   Z   |                  AA   |                  AB   |\n",
      "     |   592.2016921255198   |   382.6207409159248   |   1293.900184842884   |\n",
      "     |-----------------------+-----------------------+-----------------------|\n",
      "     |                  AC   |                  AD   |                  AE   |\n",
      "     |   1505.659333848252   |   115.3795725711289   |   661.3578080712647   |\n",
      "     |-----------------------+-----------------------+-----------------------|\n",
      "     |                  AF   |                  AG   |                  AH   |\n",
      "     |   279.2289677535579   |   751.8072289156627   |   649.6980814797829   |\n",
      "     |-----------------------------------------------------------------------|\n",
      "     |                                          AI                           |\n",
      "     |                           369.8497759817271                           |\n",
      "     +-----------------------------------------------------------------------+\n"
     ]
    }
   ],
   "source": [
    "list in 1/3"
   ]
  },
  {
   "cell_type": "markdown",
   "metadata": {},
   "source": [
    "Need to only keep certain variables."
   ]
  },
  {
   "cell_type": "code",
   "execution_count": 12,
   "metadata": {
    "tags": []
   },
   "outputs": [
    {
     "name": "stdout",
     "output_type": "stream",
     "text": [
      "\n",
      "\n",
      "\n",
      "Contains data\n",
      "  obs:            53                          \n",
      " vars:            12                          \n",
      " size:        34,715                          \n",
      "--------------------------------------------------------------------------------\n",
      "              storage   display    value\n",
      "variable name   type    format     label      variable label\n",
      "--------------------------------------------------------------------------------\n",
      "geoid           str63   %63s                  \n",
      "geoid2          str6    %9s                   \n",
      "state           str20   %20s                  \n",
      "tot_incar       str50   %50s                  \n",
      "wht_incar       str51   %51s                  \n",
      "blk_incar       str71   %71s                  \n",
      "indig_incar     str79   %79s                  \n",
      "asian_incar     str51   %51s                  \n",
      "hawpi_incar     str88   %88s                  \n",
      "other_incar     str61   %61s                  \n",
      "multirace_incar str57   %57s                  \n",
      "lat_incar       str58   %58s                  \n",
      "--------------------------------------------------------------------------------\n",
      "Sorted by: \n",
      "     Note: Dataset has changed since last saved.\n"
     ]
    }
   ],
   "source": [
    "drop M-AI\n",
    "desc"
   ]
  },
  {
   "cell_type": "code",
   "execution_count": 13,
   "metadata": {},
   "outputs": [
    {
     "name": "stdout",
     "output_type": "stream",
     "text": [
      "\n",
      "geoid2: all characters numeric; replaced as byte\n",
      "(1 missing value generated)\n",
      "\n",
      "tot_incar: all characters numeric; replaced as long\n",
      "\n",
      "wht_incar: all characters numeric; replaced as long\n",
      "\n",
      "blk_incar: all characters numeric; replaced as long\n",
      "\n",
      "indig_incar: all characters numeric; replaced as long\n",
      "\n",
      "asian_incar: all characters numeric; replaced as int\n",
      "\n",
      "hawpi_incar: all characters numeric; replaced as int\n",
      "\n",
      "other_incar: all characters numeric; replaced as long\n",
      "\n",
      "multirace_incar: all characters numeric; replaced as int\n",
      "\n",
      "lat_incar: all characters numeric; replaced as long\n",
      "\n",
      "\n",
      "Contains data\n",
      "  obs:            53                          \n",
      " vars:            12                          \n",
      " size:         6,042                          \n",
      "--------------------------------------------------------------------------------\n",
      "              storage   display    value\n",
      "variable name   type    format     label      variable label\n",
      "--------------------------------------------------------------------------------\n",
      "geoid           str63   %63s                  \n",
      "geoid2          byte    %10.0g                \n",
      "state           str20   %20s                  \n",
      "tot_incar       long    %10.0g                \n",
      "wht_incar       long    %10.0g                \n",
      "blk_incar       long    %10.0g                \n",
      "indig_incar     long    %10.0g                \n",
      "asian_incar     int     %10.0g                \n",
      "hawpi_incar     int     %10.0g                \n",
      "other_incar     long    %10.0g                \n",
      "multirace_incar int     %10.0g                \n",
      "lat_incar       long    %10.0g                \n",
      "--------------------------------------------------------------------------------\n",
      "Sorted by: \n",
      "     Note: Dataset has changed since last saved.\n"
     ]
    }
   ],
   "source": [
    "*This is one way to transform the string variables into numeric variables.\n",
    "destring geoid2, replace\n",
    "destring tot_incar, replace\n",
    "destring wht_incar, replace\n",
    "destring blk_incar, replace\n",
    "destring indig_incar, replace\n",
    "destring asian_incar, replace\n",
    "destring hawpi_incar, replace\n",
    "destring other_incar, replace\n",
    "destring multirace_incar, replace\n",
    "destring lat_incar, replace\n",
    "describe\n",
    "*You will know it worked, if in data view, the variables are displayed in black text color."
   ]
  },
  {
   "cell_type": "markdown",
   "metadata": {},
   "source": [
    "<b> Shortcut </b>\n",
    "\n",
    "You can use the - to list variables that are next to each other in the dataset. For example, instead of writing each incarceration variable. We can use the dash (-) to make the code shorter.\n",
    "\n",
    "````destring tot_incar-lat_incar, replace````"
   ]
  },
  {
   "cell_type": "code",
   "execution_count": 14,
   "metadata": {},
   "outputs": [],
   "source": [
    "*Next, this is one way to make the string variable of \"state\" into a numeric variable\n",
    "encode state, gen(state_num) label(\"State (numeric variable)\")\n",
    "*You will know if worked if state is in blue text color."
   ]
  },
  {
   "cell_type": "code",
   "execution_count": 15,
   "metadata": {},
   "outputs": [
    {
     "name": "stdout",
     "output_type": "stream",
     "text": [
      "\n",
      "Contains data\n",
      "  obs:            53                          \n",
      " vars:            13                          \n",
      " size:         6,254                          \n",
      "--------------------------------------------------------------------------------\n",
      "              storage   display    value\n",
      "variable name   type    format     label      variable label\n",
      "--------------------------------------------------------------------------------\n",
      "geoid           str63   %63s                  \n",
      "geoid2          byte    %10.0g                \n",
      "state           str20   %20s                  \n",
      "tot_incar       long    %10.0g                \n",
      "wht_incar       long    %10.0g                \n",
      "blk_incar       long    %10.0g                \n",
      "indig_incar     long    %10.0g                \n",
      "asian_incar     int     %10.0g                \n",
      "hawpi_incar     int     %10.0g                \n",
      "other_incar     long    %10.0g                \n",
      "multirace_incar int     %10.0g                \n",
      "lat_incar       long    %10.0g                \n",
      "state_num       long    %20.0g     State (numeric variable)\n",
      "                                              \n",
      "--------------------------------------------------------------------------------\n",
      "Sorted by: \n",
      "     Note: Dataset has changed since last saved.\n"
     ]
    }
   ],
   "source": [
    "*Let's make sure it worked\n",
    "desc"
   ]
  },
  {
   "cell_type": "markdown",
   "metadata": {},
   "source": [
    "### GENERATE\n",
    "\n",
    "In Stata, you can make (generate) a new variable using the ```generate``` command.\n",
    "\n",
    "The dataset reports raw counts of incarcerated individuals. Given the range of populations across states. It is useful to compare percentages. So I want to generate the following variables.\n",
    "\n",
    "### SUMMARIZE\n",
    "\n",
    "```summarize varname```\n",
    "\n",
    "This command gives basic descriptive statistics of a specified variable."
   ]
  },
  {
   "cell_type": "code",
   "execution_count": 16,
   "metadata": {
    "tags": []
   },
   "outputs": [
    {
     "name": "stdout",
     "output_type": "stream",
     "text": [
      "\n",
      "\n",
      "\n",
      "\n",
      "\n",
      "\n",
      "\n",
      "\n",
      "\n",
      "\n",
      "    Variable |        Obs        Mean    Std. Dev.       Min        Max\n",
      "-------------+---------------------------------------------------------\n",
      "whtincar_per |         53    55.42296    17.80663   5.669816   89.83419\n",
      "blkincar_per |         53    32.74913    20.98107   2.716373   87.43746\n",
      "indigincar~r |         53    4.141851    7.938771   .0929224   37.54161\n",
      "latincar_per |         53     15.2114     16.0398    1.87551   97.62694\n",
      "asianincar~r |         53    1.010316    2.884845   .0847523   21.29385\n",
      "-------------+---------------------------------------------------------\n",
      "hawpincar_~r |         53    .8842754    5.281817          0   38.55103\n",
      "otherincar~r |         53     4.30683    4.769431   .4042975   21.18251\n",
      "multincar_~r |         53    1.484637     1.59199   .3716896   9.272468\n"
     ]
    }
   ],
   "source": [
    "generate whtincar_per=(100*wht_incar)/tot_incar\n",
    "generate blkincar_per=(100*blk_incar)/tot_incar\n",
    "generate indigincar_per=(100*indig_incar)/tot_incar\n",
    "generate latincar_per=(100*lat_incar)/tot_incar\n",
    "generate asianincar_per=(100*asian_incar)/tot_incar\n",
    "generate hawpincar_per=(100*hawpi_incar)/tot_incar\n",
    "generate otherincar_per=(100*other_incar)/tot_incar\n",
    "generate multincar_per=(100*multirace_incar)/tot_incar\n",
    "\n",
    "summarize whtincar_per-multincar_per"
   ]
  },
  {
   "cell_type": "markdown",
   "metadata": {},
   "source": [
    "### FOREACH loop\n",
    "In coding you can use loops for repeative tasks. If you want to repeative tasks across variables, you can use the foreach loop. For example, we can shortcut the previous tasks to a single loop below.\n",
    "\n",
    "```foreach x of varlist varname { ... `x' ... }```"
   ]
  },
  {
   "cell_type": "code",
   "execution_count": 52,
   "metadata": {
    "tags": []
   },
   "outputs": [],
   "source": [
    "foreach x of varlist wht_incar-lat_incar {\n",
    "    gen `x'per=(100*`x')/tot_incar\n",
    "    }\n",
    "describe"
   ]
  },
  {
   "cell_type": "markdown",
   "metadata": {},
   "source": [
    "### RECODE\n",
    "Recode is a variable that will recode a numeric variable based on certain rules.\n",
    "\n",
    "``` recode v1 (3=0) (4=-1) (5=-2), generate(newv1)```"
   ]
  },
  {
   "cell_type": "code",
   "execution_count": 17,
   "metadata": {
    "tags": []
   },
   "outputs": [
    {
     "name": "stdout",
     "output_type": "stream",
     "text": [
      "\n",
      "(1 missing value generated)\n",
      "\n",
      "(eparegion: 50 changes made)\n"
     ]
    }
   ],
   "source": [
    "gen eparegion=geoid2\n",
    "recode eparegion ( 9 23 25 33 44 50 =1) ( 34 36 72 =2) ///\n",
    "    ( 10 11 24 42 51 54= 3) ( 1 12 13 21 28 37 45 47=4) ///\n",
    "    ( 17 18 26 27 39 55=5) ( 5 22 35 40 48=6) ( 19 20 29 31=7) ///\n",
    "    ( 8 30 38 46 49 56=8) ( 4 6 15 32=9) ( 16 41 53 =10)"
   ]
  },
  {
   "cell_type": "markdown",
   "metadata": {},
   "source": [
    "### FORVALUES loop\n",
    "The ```forvalues``` is a loop where you can specify specific values of a variable. \n",
    "\n",
    "```forvalues i = range { ... }```\n",
    "\n",
    "For example we can write summary statistics for each EPA region"
   ]
  },
  {
   "cell_type": "code",
   "execution_count": 62,
   "metadata": {
    "tags": []
   },
   "outputs": [
    {
     "name": "stdout",
     "output_type": "stream",
     "text": [
      "\n",
      "1\n",
      "\n",
      "    Variable |        Obs        Mean    Std. Dev.       Min        Max\n",
      "-------------+---------------------------------------------------------\n",
      "whtincar_per |          6    69.51284    22.18784   35.43547   89.83419\n",
      "blkincar_per |          6    19.92341    14.49321   6.632237    40.8146\n",
      "latincar_per |          6    15.07152    11.56767    1.87551   28.54579\n",
      "2\n",
      "\n",
      "    Variable |        Obs        Mean    Std. Dev.       Min        Max\n",
      "-------------+---------------------------------------------------------\n",
      "whtincar_per |          3    38.63895    3.935556   35.58852   43.08131\n",
      "blkincar_per |          3    38.16316    26.85431   7.156443   53.96915\n",
      "latincar_per |          3    16.37803    8.936492   6.062768   21.77512\n",
      "3\n",
      "\n",
      "    Variable |        Obs        Mean    Std. Dev.       Min        Max\n",
      "-------------+---------------------------------------------------------\n",
      "whtincar_per |          6    37.51135     20.0496   5.669816   67.63306\n",
      "blkincar_per |          6    57.77237    20.07656   28.00313   87.43746\n",
      "latincar_per |          6    6.742813    4.295579   2.834133   14.71989\n",
      "4\n",
      "\n",
      "    Variable |        Obs        Mean    Std. Dev.       Min        Max\n",
      "-------------+---------------------------------------------------------\n",
      "whtincar_per |          8    45.69043    11.20607   34.18329   67.68397\n",
      "blkincar_per |          8     50.6975     10.5928   29.09878   61.85743\n",
      "latincar_per |          8    7.472899    3.635323   3.455813   13.52021\n",
      "5\n",
      "\n",
      "    Variable |        Obs        Mean    Std. Dev.       Min        Max\n",
      "-------------+---------------------------------------------------------\n",
      "whtincar_per |          6    52.39605    8.980428   36.67335     63.285\n",
      "blkincar_per |          6    41.90432    9.374871   31.22028   56.08234\n",
      "latincar_per |          6     7.68721    3.938938   4.134787   13.51443\n",
      "6\n",
      "\n",
      "    Variable |        Obs        Mean    Std. Dev.       Min        Max\n",
      "-------------+---------------------------------------------------------\n",
      "whtincar_per |          5    54.48365    13.82931   32.80541   70.88848\n",
      "blkincar_per |          5    34.39727     21.8667   6.198693   65.65193\n",
      "latincar_per |          5    22.40815    20.53348   3.527729   52.18629\n",
      "7\n",
      "\n",
      "    Variable |        Obs        Mean    Std. Dev.       Min        Max\n",
      "-------------+---------------------------------------------------------\n",
      "whtincar_per |          4    65.32326    5.234911   59.56717   71.83861\n",
      "blkincar_per |          4    29.45689    6.898767   23.26245   38.61665\n",
      "latincar_per |          4    10.92089    6.578855   3.310611    17.9614\n",
      "8\n",
      "\n",
      "    Variable |        Obs        Mean    Std. Dev.       Min        Max\n",
      "-------------+---------------------------------------------------------\n",
      "whtincar_per |          6     70.2862    9.046512   58.60598   81.54362\n",
      "blkincar_per |          6    7.348238    5.551792   2.716373    18.1547\n",
      "latincar_per |          6    14.68957    11.41081   5.320345    32.7746\n",
      "9\n",
      "\n",
      "    Variable |        Obs        Mean    Std. Dev.       Min        Max\n",
      "-------------+---------------------------------------------------------\n",
      "whtincar_per |          3    54.79636    5.045221   50.62557    60.4042\n",
      "blkincar_per |          3     22.7292     9.18348   12.16816   28.83716\n",
      "latincar_per |          3    34.93715    10.43859   22.88975   41.29132\n",
      "10\n",
      "\n",
      "    Variable |        Obs        Mean    Std. Dev.       Min        Max\n",
      "-------------+---------------------------------------------------------\n",
      "whtincar_per |          3    78.73475    7.887797   71.02003   86.78492\n",
      "blkincar_per |          3    10.20009    7.494742   2.829268   17.81289\n",
      "latincar_per |          3    15.53778    1.163077   14.21464   16.39869\n"
     ]
    }
   ],
   "source": [
    "forvalues region = 1/10 {\n",
    "      display `region'\n",
    "      summarize whtincar_per blkincar_per latincar_per if eparegion == `region'\n",
    "  }"
   ]
  },
  {
   "cell_type": "code",
   "execution_count": 18,
   "metadata": {
    "scrolled": true,
    "tags": []
   },
   "outputs": [
    {
     "name": "stdout",
     "output_type": "stream",
     "text": [
      "\n",
      "D:\\documents copy\\teaching\\SOCG 206 spring 2025\\jupyter\\data\n",
      "\n",
      "file incarceration2021 4 14 25.dta saved\n"
     ]
    }
   ],
   "source": [
    "*Let's save our data\n",
    "cd \"D:\\documents copy\\teaching\\SOCG 206 spring 2025\\jupyter\\data\"\n",
    "save \"incarceration 4 14 25.dta\", replace"
   ]
  },
  {
   "cell_type": "markdown",
   "metadata": {},
   "source": [
    "## Getting Census data\n",
    "The *Census* is a popular secondary data source in sociology. In this workbook, we will use NHGIS to download census data and clean it in **Stata**.\n",
    "\n",
    "<a id=\"https://www.nhgis.org/\">NHGIS</a> is a data hub for census data over time. They have sorted the data made it easy to download. If you use NHGIS data, you must cite them (the citation information is found on their website). You need to make an account in order to use the site. Once you are logged in, click \"Select Data\" in the top right hand corner.\n",
    "\n",
    "For census data, there are two main dataset:\n",
    "### Census\n",
    "The Census reports data every ten years. They only report race, ethnicity, and home renter/owner. Note that how the census defines race and ethnicity HAS CHANGED over time. If possible, use the Census data. Census data is more reliable as compared to ACS.\n",
    "\n",
    "### American Community Survey\n",
    "The American Community Survey (ACS) is report more frequently than the Census. The ACS also report MORE information than the census. ACS reports income, family structures, educational attainment, etc... The ACS has different waves of data: 5-year wave and 3-year wave. Generally census tracts and census blocks are reported ONLY at the five-year wave. Counties and states are reported at the 3-year wave. Generally, the smaller geographic areas are less reliable. For example census tracts are more reliable than census blocks.\n",
    "\n",
    "There are four green tabs:\n",
    "#### Geographic Levels\n",
    "You can chose a variety of level of analysis such as census tract, county, state, etc..\n",
    "#### Years\n",
    "You can pick years or waves\n",
    "#### Topics\n",
    "There are many topics you can choose from\n",
    "#### OR AND\n",
    "You can choose \"or\" and \"and\" options"
   ]
  },
  {
   "cell_type": "markdown",
   "metadata": {},
   "source": [
    "### Linking Prison Policy Intiative data with Census data\n",
    "Let's say we want to compare the incarcerated percent with the states. We can easily get this census data from NHGIS. \n",
    "\n",
    "We can download census data from the [NHGIS](https://www.nhgis.org/). Make a account and download data at the state level for year 2020 for variable: \"Hispanic or Latino Origin by Race\"\n",
    "\n",
    "Once the file is ready, you can download it. You have to unzip the file.\n",
    "\n",
    "Once the file is unzipped, there is the .csv (data) and .txt (codebook) file.\n",
    "\n",
    "You must look at the codebook to figure out what variables. The geographic variables will make up unqiue ID."
   ]
  },
  {
   "cell_type": "code",
   "execution_count": 4,
   "metadata": {
    "tags": []
   },
   "outputs": [
    {
     "name": "stdout",
     "output_type": "stream",
     "text": [
      "\n",
      "(74 vars, 52 obs)\n",
      "\n",
      "\n",
      "Contains data\n",
      "  obs:            52                          \n",
      " vars:            74                          \n",
      " size:         9,672                          \n",
      "--------------------------------------------------------------------------------\n",
      "              storage   display    value\n",
      "variable name   type    format     label      variable label\n",
      "--------------------------------------------------------------------------------\n",
      "gisjoin         str4    %9s                   GISJOIN\n",
      "year            int     %8.0g                 YEAR\n",
      "stusab          str2    %9s                   STUSAB\n",
      "regiona         byte    %8.0g                 REGIONA\n",
      "divisiona       byte    %8.0g                 DIVISIONA\n",
      "state           str20   %20s                  STATE\n",
      "statea          byte    %8.0g                 STATEA\n",
      "countya         byte    %8.0g                 COUNTYA\n",
      "cousuba         byte    %8.0g                 COUSUBA\n",
      "cousubcc        byte    %8.0g                 COUSUBCC\n",
      "placea          byte    %8.0g                 PLACEA\n",
      "placecc         byte    %8.0g                 PLACECC\n",
      "tracta          byte    %8.0g                 TRACTA\n",
      "blkgrpa         byte    %8.0g                 BLKGRPA\n",
      "blocka          byte    %8.0g                 BLOCKA\n",
      "concita         byte    %8.0g                 CONCITA\n",
      "aianhha         byte    %8.0g                 AIANHHA\n",
      "res_onlya       byte    %8.0g                 RES_ONLYA\n",
      "trusta          byte    %8.0g                 TRUSTA\n",
      "aianhhcc        byte    %8.0g                 AIANHHCC\n",
      "aitscea         byte    %8.0g                 AITSCEA\n",
      "aits            byte    %8.0g                 AITS\n",
      "ttracta         byte    %8.0g                 TTRACTA\n",
      "tblkgrpa        byte    %8.0g                 TBLKGRPA\n",
      "anrca           byte    %8.0g                 ANRCA\n",
      "cbsaa           byte    %8.0g                 CBSAA\n",
      "metdiva         byte    %8.0g                 METDIVA\n",
      "csaa            byte    %8.0g                 CSAA\n",
      "nectaa          byte    %8.0g                 NECTAA\n",
      "nectadiva       byte    %8.0g                 NECTADIVA\n",
      "cnectaa         byte    %8.0g                 CNECTAA\n",
      "cbsapci         byte    %8.0g                 CBSAPCI\n",
      "nectapci        byte    %8.0g                 NECTAPCI\n",
      "uaa             byte    %8.0g                 UAA\n",
      "uatype          byte    %8.0g                 UATYPE\n",
      "ura             byte    %8.0g                 URA\n",
      "cda             byte    %8.0g                 CDA\n",
      "sldua           byte    %8.0g                 SLDUA\n",
      "sldla           byte    %8.0g                 SLDLA\n",
      "vtd             byte    %8.0g                 VTD\n",
      "vtdi            byte    %8.0g                 VTDI\n",
      "zcta5a          byte    %8.0g                 ZCTA5A\n",
      "submcda         byte    %8.0g                 SUBMCDA\n",
      "sdelma          byte    %8.0g                 SDELMA\n",
      "sdseca          byte    %8.0g                 SDSECA\n",
      "sdunia          byte    %8.0g                 SDUNIA\n",
      "arealand        double  %10.0g                AREALAND\n",
      "areawatr        double  %10.0g                AREAWATR\n",
      "name            str20   %20s                  NAME\n",
      "funcstat        str1    %9s                   FUNCSTAT\n",
      "intptlat        float   %9.0g                 INTPTLAT\n",
      "intptlon        float   %9.0g                 INTPTLON\n",
      "lsadc           byte    %8.0g                 LSADC\n",
      "memi            byte    %8.0g                 MEMI\n",
      "nmemi           byte    %8.0g                 NMEMI\n",
      "puma            byte    %8.0g                 PUMA\n",
      "sabinsa         byte    %8.0g                 SABINSA\n",
      "h7z001          long    %12.0g                H7Z001\n",
      "h7z002          long    %12.0g                H7Z002\n",
      "h7z003          long    %12.0g                H7Z003\n",
      "h7z004          long    %12.0g                H7Z004\n",
      "h7z005          long    %12.0g                H7Z005\n",
      "h7z006          long    %12.0g                H7Z006\n",
      "h7z007          long    %12.0g                H7Z007\n",
      "h7z008          long    %12.0g                H7Z008\n",
      "h7z009          long    %12.0g                H7Z009\n",
      "h7z010          long    %12.0g                H7Z010\n",
      "h7z011          long    %12.0g                H7Z011\n",
      "h7z012          long    %12.0g                H7Z012\n",
      "h7z013          long    %12.0g                H7Z013\n",
      "h7z014          long    %12.0g                H7Z014\n",
      "h7z015          int     %8.0g                 H7Z015\n",
      "h7z016          long    %12.0g                H7Z016\n",
      "h7z017          long    %12.0g                H7Z017\n",
      "--------------------------------------------------------------------------------\n",
      "Sorted by: \n",
      "     Note: Dataset has changed since last saved.\n"
     ]
    }
   ],
   "source": [
    "*read the csv file; make sure to include clear\n",
    "import delimited \"D:\\documents copy\\research\\Practice\\extract\\nhgis\\nhgis0138_csv\\nhgis0138_ds172_2010_state.csv\", clear\n",
    "describe"
   ]
  },
  {
   "cell_type": "code",
   "execution_count": 5,
   "metadata": {
    "tags": []
   },
   "outputs": [],
   "source": [
    "*Make sure to review the codebook to get a breakdown of the variables\n",
    "rename h7z001 tot\n",
    "rename h7z002 nt_lat\n",
    "rename h7z003 wht_ntl\n",
    "rename h7z004 blk_ntl\n",
    "rename h7z005 ami_ntl\n",
    "rename h7z006 asn_ntl\n",
    "rename h7z007 hawpac_ntl\n",
    "rename h7z008 other_ntl\n",
    "rename h7z009 multirace_ntl\n",
    "rename h7z010 lat\n",
    "rename h7z011 wht\n",
    "rename h7z012 blk\n",
    "rename h7z013 ami\n",
    "rename h7z014 asn\n",
    "rename h7z015 hawpac\n",
    "rename h7z016 other\n",
    "rename h7z017 multirace"
   ]
  },
  {
   "cell_type": "code",
   "execution_count": 6,
   "metadata": {
    "tags": []
   },
   "outputs": [],
   "source": [
    "*We could also do a foreach loop\n",
    "gen latper=100*(lat/tot)\n",
    "gen whtper=100*((wht_ntl+wht)/tot)\n",
    "gen blkper=100*((blk_ntl+blk)/tot)\n",
    "gen amiper=100*((ami_ntl+ami)/tot)\n",
    "gen asnper=100*((asn_ntl+asn)/tot)\n",
    "gen hawpacper=100*((hawpac_ntl+hawpac)/tot)\n",
    "gen otherper=100*((other_ntl+other)/tot)\n",
    "gen multiraceper=100*((multirace_ntl+multirace)/tot)"
   ]
  },
  {
   "cell_type": "code",
   "execution_count": 7,
   "metadata": {
    "tags": []
   },
   "outputs": [
    {
     "name": "stdout",
     "output_type": "stream",
     "text": [
      "\n",
      "     +------------------------------------------------------------------------+\n",
      "  1. | gisjoin  | year  | stusab  | regiona  | divisi~a  |   state  | statea  |\n",
      "     |    G010  | 2010  |     AL  |       3  |        6  | Alabama  |      1  |\n",
      "     |---------------------------------------------------+--------------------|\n",
      "     | countya | cousuba | cousubcc | placea  | placecc  | tracta  | blkgrpa  |\n",
      "     |       . |       . |        . |      .  |       .  |      .  |       .  |\n",
      "     |-------------------------------------------------------------+----------|\n",
      "     | blocka | concita | aianhha | res_on~a | trusta  | aianhhcc  | aitscea  |\n",
      "     |      . |       . |       . |        . |      .  |        .  |       .  |\n",
      "     |------------------------------------------------------------------------|\n",
      "     | aits | ttracta | tblkgrpa | anrca | cbsaa | metdiva  | csaa  | nectaa  |\n",
      "     |    . |       . |        . |     . |     . |       .  |    .  |      .  |\n",
      "     |------------------------------------------------------------------------|\n",
      "     | nectad~a | cnectaa | cbsapci | nectapci | uaa  | uatype  | ura  | cda  |\n",
      "     |        . |       . |       . |        . |   .  |      .  |   .  |   .  |\n",
      "     |-----------------------------------------+------------------------------|\n",
      "     | sldua | sldla  | vtd  | vtdi  | zcta5a  | submcda  | sdelma  | sdseca  |\n",
      "     |     . |     .  |   .  |    .  |      .  |       .  |      .  |      .  |\n",
      "     |------------------------------------------------------------------------|\n",
      "     | sdunia  |  arealand  |  areawatr  |    name  |  funcstat  |  intptlat  |\n",
      "     |      .  | 1.312e+11  | 4.597e+09  | Alabama  |         A  |  32.73963  |\n",
      "     |------------------------------------------------------------------------|\n",
      "     |  intptlon | lsadc | memi | nmemi | puma | sabinsa |     tot |  nt_lat  |\n",
      "     | -86.84346 |     0 |    . |     . |    . |       . | 4779736 | 4594134  |\n",
      "     |-------------------+-----------------------------------------+----------|\n",
      "     | wht_ntl | blk_ntl | ami_ntl | asn_ntl | hawpac~l | other_~l | multir~l |\n",
      "     | 3204402 | 1244437 |   25907 |   52937 |     1976 |     4030 |    60445 |\n",
      "     |---------+--------------------------------------------------------------|\n",
      "     |    lat  |   wht  |  blk  |  ami  | asn  | hawpac  | other  | multir~e  |\n",
      "     | 185602  | 70992  | 6874  | 2311  | 658  |   1081  | 92880  |    10806  |\n",
      "     |----------------------------------+-------------------------------------|\n",
      "     |   latper  |   whtper  |  blkper  |   amiper  |    asnper  |  hawpac~r  |\n",
      "     | 3.883101  | 68.52667  | 26.1795  | .5903673  |  1.121296  |  .0639575  |\n",
      "     |------------------------------------------------------------------------|\n",
      "     |             otherper              |              multir~r              |\n",
      "     |             2.027518              |              1.490689              |\n",
      "     +------------------------------------------------------------------------+\n"
     ]
    }
   ],
   "source": [
    "list in 1"
   ]
  },
  {
   "cell_type": "code",
   "execution_count": 5,
   "metadata": {
    "tags": []
   },
   "outputs": [],
   "source": [
    "*I only want to keep relevant variables\n",
    "keep name geocode latper-multiraceper"
   ]
  },
  {
   "cell_type": "markdown",
   "metadata": {},
   "source": [
    "#### MERGE\n",
    "Another important data cleaning tool is merging. Sometimes we want to link two different dataset together. In order to ```merge``` datasets, they need to be linked with key variable. In geographical data, the *Census* gives unique code to Census states, counties, tracts, and blocks. In the current dataset geocode is the FIPS code. In the PPI data, geoid2 is the FIPS code. When using ```merge``` the unique identifier needs to be same variable name.\n",
    "\n",
    "```merge 1:1 key_variable using file_path_name```"
   ]
  },
  {
   "cell_type": "code",
   "execution_count": 6,
   "metadata": {
    "tags": []
   },
   "outputs": [],
   "source": [
    "*I am renaming to make the using file\n",
    "rename geocode geoid2"
   ]
  },
  {
   "cell_type": "code",
   "execution_count": 7,
   "metadata": {
    "tags": []
   },
   "outputs": [
    {
     "name": "stdout",
     "output_type": "stream",
     "text": [
      "\n",
      "D:\\documents copy\\teaching\\SOCG 206 spring 2025\\jupyter\\data\n",
      "\n",
      "\n",
      "    Result                           # of obs.\n",
      "    -----------------------------------------\n",
      "    not matched                             1\n",
      "        from master                         0  (_merge==1)\n",
      "        from using                          1  (_merge==2)\n",
      "\n",
      "    matched                                52  (_merge==3)\n",
      "    -----------------------------------------\n"
     ]
    }
   ],
   "source": [
    "cd \"D:\\documents copy\\teaching\\SOCG 206 spring 2025\\jupyter\\data\\\"\n",
    "merge 1:1 geoid2 using \"incarceration2021 4 8 25.dta\""
   ]
  },
  {
   "cell_type": "markdown",
   "metadata": {},
   "source": [
    "This output gives us important information of the merge. It also creates a new variable"
   ]
  },
  {
   "cell_type": "code",
   "execution_count": 3,
   "metadata": {
    "tags": []
   },
   "outputs": [
    {
     "name": "stdout",
     "output_type": "stream",
     "text": [
      "\n",
      "Contains data\n",
      "  obs:             0                          \n",
      " vars:             0                          \n",
      " size:             0                          \n",
      "Sorted by: \n"
     ]
    }
   ],
   "source": [
    "describe"
   ]
  },
  {
   "cell_type": "code",
   "execution_count": 1,
   "metadata": {
    "tags": []
   },
   "outputs": [
    {
     "name": "stdout",
     "output_type": "stream",
     "text": [
      "no variables defined\n"
     ]
    },
    {
     "name": "stderr",
     "output_type": "stream",
     "text": [
      "r(111);\n"
     ]
    },
    {
     "name": "stdout",
     "output_type": "stream",
     "text": [
      "\n"
     ]
    }
   ],
   "source": [
    "list name latper latincar_per "
   ]
  },
  {
   "cell_type": "markdown",
   "metadata": {},
   "source": [
    "### COLLAPSE\n",
    "Making datasets based on summary statistics. Let's say we want the averages by EPA region.\n",
    "\n",
    "```collapse (statistics) varname, by(cat_name)```"
   ]
  },
  {
   "cell_type": "code",
   "execution_count": 73,
   "metadata": {
    "tags": []
   },
   "outputs": [],
   "source": [
    "collapse (mean) latper-multiraceper whtincar_per-multincar_per,by(eparegion)"
   ]
  },
  {
   "cell_type": "markdown",
   "metadata": {},
   "source": [
    "## World Bank Data\n",
    "Another popular secondary data is [World Bank's World Development Indicators](https://databank.worldbank.org/source/world-development-indicators). \n",
    "\n",
    "### Country\n",
    "They have countries and aggregates. You usually want countries. Aggregates are country groups like \"European counties\" or \"High income countries\"\n",
    "\n",
    "### Series\n",
    "This is the type of variables. \n",
    "\n",
    "### Time\n",
    "This is where to pick the years.\n",
    "\n",
    "For purpose of this assignment, pick all countries. Variables: GDP per capita (contstant 2015 US$) and carbon dioxide (CO2) emission (total) excluding LULUCF per capita. Years:  2010-2023. Then press \"Download options\" near the top, right corner. Pick .csv\n",
    "\n",
    "Again, you have the unzip the files. I have a folder where I unzip all files. Pick the one without metadata."
   ]
  },
  {
   "cell_type": "code",
   "execution_count": 105,
   "metadata": {
    "tags": []
   },
   "outputs": [
    {
     "name": "stdout",
     "output_type": "stream",
     "text": [
      "\n",
      "(18 vars, 440 obs)\n",
      "\n",
      "\n",
      "Contains data\n",
      "  obs:           440                          \n",
      " vars:            18                          \n",
      " size:       184,800                          \n",
      "--------------------------------------------------------------------------------\n",
      "              storage   display    value\n",
      "variable name   type    format     label      variable label\n",
      "--------------------------------------------------------------------------------\n",
      "v1              str48   %48s                  \n",
      "v2              str12   %12s                  \n",
      "v3              str74   %74s                  \n",
      "v4              str20   %20s                  \n",
      "v5              str19   %19s                  \n",
      "v6              str19   %19s                  \n",
      "v7              str19   %19s                  \n",
      "v8              str19   %19s                  \n",
      "v9              str19   %19s                  \n",
      "v10             str19   %19s                  \n",
      "v11             str19   %19s                  \n",
      "v12             str19   %19s                  \n",
      "v13             str19   %19s                  \n",
      "v14             str19   %19s                  \n",
      "v15             str19   %19s                  \n",
      "v16             str19   %19s                  \n",
      "v17             str19   %19s                  \n",
      "v18             str19   %19s                  \n",
      "--------------------------------------------------------------------------------\n",
      "Sorted by: \n",
      "     Note: Dataset has changed since last saved.\n"
     ]
    }
   ],
   "source": [
    "import delimited \"D:\\documents copy\\teaching\\SOCG 206 spring 2025\\jupyter\\data\\240b728c-ef6f-4084-8509-9c06e59888a9_Data.csv\", clear\n",
    "desc"
   ]
  },
  {
   "cell_type": "markdown",
   "metadata": {},
   "source": [
    "**Stata** read the variables as string meaning, there are some characters. Let's do some visual tests."
   ]
  },
  {
   "cell_type": "code",
   "execution_count": 40,
   "metadata": {
    "collapsed": true,
    "jupyter": {
     "outputs_hidden": true
    },
    "tags": []
   },
   "outputs": [
    {
     "name": "stdout",
     "output_type": "stream",
     "text": [
      "\n",
      "\n",
      "     +-------------------------------------------------------------------------+\n",
      "  1. |                      v1            |                      v2            |\n",
      "     |            Country Name            |            Country Code            |\n",
      "     |-------------------------------------------------------------------------|\n",
      "     | v3                                                                      |\n",
      "     | Series Name                                                             |\n",
      "     |-------------------------------------------------------------------------|\n",
      "     |                    v4   |                  v5   |                  v6   |\n",
      "     |           Series Code   |       2010 [YR2010]   |       2011 [YR2011]   |\n",
      "     |-------------------------------------------------------------------------|\n",
      "     |                  v7   |                  v8    |                  v9    |\n",
      "     |       2012 [YR2012]   |       2013 [YR2013]    |       2014 [YR2014]    |\n",
      "     |-----------------------+------------------------+------------------------|\n",
      "     |                 v10   |                 v11    |                 v12    |\n",
      "     |       2015 [YR2015]   |       2016 [YR2016]    |       2017 [YR2017]    |\n",
      "     |-------------------------------------------------------------------------|\n",
      "     |                 v13    |                 v14    |                v15    |\n",
      "     |       2018 [YR2018]    |       2019 [YR2019]    |      2020 [YR2020]    |\n",
      "     |-------------------------------------------------------------------------|\n",
      "     |                 v16   |                 v17    |                 v18    |\n",
      "     |       2021 [YR2021]   |       2022 [YR2022]    |       2023 [YR2023]    |\n",
      "     +-------------------------------------------------------------------------+\n",
      "\n",
      "     +-------------------------------------------------------------------------+\n",
      "  2. |                      v1            |                      v2            |\n",
      "     |             Afghanistan            |                     AFG            |\n",
      "     |-------------------------------------------------------------------------|\n",
      "     | v3                                                                      |\n",
      "     | GDP per capita (constant 2015 US$)                                      |\n",
      "     |-------------------------------------------------------------------------|\n",
      "     |                    v4   |                  v5   |                  v6   |\n",
      "     |        NY.GDP.PCAP.KD   |    542.871030476037   |     525.42698276582   |\n",
      "     |-------------------------------------------------------------------------|\n",
      "     |                  v7   |                  v8    |                  v9    |\n",
      "     |    568.929021458341   |    580.603833333096    |    575.146245808546    |\n",
      "     |-----------------------+------------------------+------------------------|\n",
      "     |                 v10   |                 v11    |                 v12    |\n",
      "     |    565.569730408751   |    563.872336723147    |    562.769574140988    |\n",
      "     |-------------------------------------------------------------------------|\n",
      "     |                 v13    |                 v14    |                v15    |\n",
      "     |    553.125151688293    |    557.861533207459    |   527.834554499306    |\n",
      "     |-------------------------------------------------------------------------|\n",
      "     |                 v16   |                 v17    |                 v18    |\n",
      "     |    408.625855217403   |    377.665627080705    |    379.707497269884    |\n",
      "     +-------------------------------------------------------------------------+\n",
      "\n",
      "     +-------------------------------------------------------------------------+\n",
      "  3. |                      v1            |                      v2            |\n",
      "     |             Afghanistan            |                     AFG            |\n",
      "     |-------------------------------------------------------------------------|\n",
      "     | v3                                                                      |\n",
      "     | Carbon dioxide (CO2) emissions excluding LULUCF per capita (t CO2e/ca.. |\n",
      "     |-------------------------------------------------------------------------|\n",
      "     |                    v4   |                  v5   |                  v6   |\n",
      "     |  EN.GHG.CO2.PC.CE.AR5   |   0.275380974794698   |   0.388742453073337   |\n",
      "     |-------------------------------------------------------------------------|\n",
      "     |                  v7   |                  v8    |                  v9    |\n",
      "     |   0.319626607745266   |   0.262469648389334    |   0.238642815009995    |\n",
      "     |-----------------------+------------------------+------------------------|\n",
      "     |                 v10   |                 v11    |                 v12    |\n",
      "     |   0.246706024551365   |   0.216929891611134    |   0.226011227289355    |\n",
      "     |-------------------------------------------------------------------------|\n",
      "     |                 v13    |                 v14    |                v15    |\n",
      "     |   0.215877625146902    |   0.191490829184533    |   0.18055501271226    |\n",
      "     |-------------------------------------------------------------------------|\n",
      "     |                 v16   |                 v17    |                 v18    |\n",
      "     |   0.198267957840034   |   0.203551890416193    |   0.210043425410172    |\n",
      "     +-------------------------------------------------------------------------+\n",
      "\n",
      "     +-------------------------------------------------------------------------+\n",
      "  4. |                      v1            |                      v2            |\n",
      "     |                 Albania            |                     ALB            |\n",
      "     |-------------------------------------------------------------------------|\n",
      "     | v3                                                                      |\n",
      "     | GDP per capita (constant 2015 US$)                                      |\n",
      "     |-------------------------------------------------------------------------|\n",
      "     |                    v4   |                  v5   |                  v6   |\n",
      "     |        NY.GDP.PCAP.KD   |    3577.11432498868   |    3678.04770145146   |\n",
      "     |-------------------------------------------------------------------------|\n",
      "     |                  v7   |                  v8    |                  v9    |\n",
      "     |    3736.34007957648   |    3780.69919254096    |    3855.76074409659    |\n",
      "     |-----------------------+------------------------+------------------------|\n",
      "     |                 v10   |                 v11    |                 v12    |\n",
      "     |    3952.80357364813   |    4090.37272829183    |     4249.8200493985    |\n",
      "     |-------------------------------------------------------------------------|\n",
      "     |                 v13    |                 v14    |                v15    |\n",
      "     |    4431.55559506989    |    4542.26866282892    |   4417.04105105395    |\n",
      "     |-------------------------------------------------------------------------|\n",
      "     |                 v16   |                 v17    |                 v18    |\n",
      "     |    4858.05201500931   |     5154.8274975368    |    5419.63779125273    |\n",
      "     +-------------------------------------------------------------------------+\n",
      "\n",
      "     +-------------------------------------------------------------------------+\n",
      "  5. |                      v1            |                      v2            |\n",
      "     |                 Albania            |                     ALB            |\n",
      "     |-------------------------------------------------------------------------|\n",
      "     | v3                                                                      |\n",
      "     | Carbon dioxide (CO2) emissions excluding LULUCF per capita (t CO2e/ca.. |\n",
      "     |-------------------------------------------------------------------------|\n",
      "     |                    v4   |                  v5   |                  v6   |\n",
      "     |  EN.GHG.CO2.PC.CE.AR5   |    1.56432102617866   |    1.71699317945955   |\n",
      "     |-------------------------------------------------------------------------|\n",
      "     |                  v7   |                  v8    |                  v9    |\n",
      "     |    1.56285286069064   |    1.64737424579253    |    1.76379943401137    |\n",
      "     |-----------------------+------------------------+------------------------|\n",
      "     |                 v10   |                 v11    |                 v12    |\n",
      "     |    1.68830316766428   |    1.57515330650766    |    1.85891071277559    |\n",
      "     |-------------------------------------------------------------------------|\n",
      "     |                 v13    |                 v14    |                v15    |\n",
      "     |    1.85097837827277    |    1.73551805047385    |   1.60713272623032    |\n",
      "     |-------------------------------------------------------------------------|\n",
      "     |                 v16   |                 v17    |                 v18    |\n",
      "     |    1.79228258263962   |    1.65929303100527    |    1.67219476382134    |\n",
      "     +-------------------------------------------------------------------------+\n",
      "\n",
      "\n",
      "     +-------------------------------------------------------------------------+\n",
      "435. |                                                   v1     |      v2      |\n",
      "     |                                             Zimbabwe     |     ZWE      |\n",
      "     |-------------------------------------------------------------------------|\n",
      "     | v3                                                                      |\n",
      "     | Carbon dioxide (CO2) emissions excluding LULUCF per capita (t CO2e/ca.. |\n",
      "     |-------------------------------------------------------------------------|\n",
      "     |                     v4   |                  v5   |                 v6   |\n",
      "     |   EN.GHG.CO2.PC.CE.AR5   |   0.753562971510303   |   1.16551716224518   |\n",
      "     |-------------------------------------------------------------------------|\n",
      "     |                  v7   |                  v8    |                  v9    |\n",
      "     |   0.921993355424024   |   0.907383631915037    |   0.886702447654064    |\n",
      "     |-----------------------+------------------------+------------------------|\n",
      "     |                 v10   |                 v11    |                 v12    |\n",
      "     |   0.881275681881807   |   0.771648844879425    |   0.714627028745081    |\n",
      "     |-----------------------+------------------------+------------------------|\n",
      "     |                 v13   |                 v14    |                 v15    |\n",
      "     |   0.816125522899006   |   0.731381759643275    |   0.584283212450557    |\n",
      "     |-----------------------+------------------------+------------------------|\n",
      "     |                v16    |                 v17    |                 v18    |\n",
      "     |   0.67247950745733    |   0.682242939473234    |   0.718697015364343    |\n",
      "     +-------------------------------------------------------------------------+\n",
      "\n",
      "     +-------------------------------------------------------------------------+\n",
      "436. |                                                   v1     |      v2      |\n",
      "     |                                                          |              |\n",
      "     |-------------------------------------------------------------------------|\n",
      "     | v3                                                                      |\n",
      "     |                                                                         |\n",
      "     |-------------------------------------------------------------------------|\n",
      "     |                     v4   |                  v5   |                 v6   |\n",
      "     |                          |                       |                      |\n",
      "     |-------------------------------------------------------------------------|\n",
      "     |                  v7   |                  v8    |                  v9    |\n",
      "     |                       |                        |                        |\n",
      "     |-----------------------+------------------------+------------------------|\n",
      "     |                 v10   |                 v11    |                 v12    |\n",
      "     |                       |                        |                        |\n",
      "     |-----------------------+------------------------+------------------------|\n",
      "     |                 v13   |                 v14    |                 v15    |\n",
      "     |                       |                        |                        |\n",
      "     |-----------------------+------------------------+------------------------|\n",
      "     |                v16    |                 v17    |                 v18    |\n",
      "     |                       |                        |                        |\n",
      "     +-------------------------------------------------------------------------+\n",
      "\n",
      "     +-------------------------------------------------------------------------+\n",
      "437. |                                                   v1     |      v2      |\n",
      "     |                                                          |              |\n",
      "     |-------------------------------------------------------------------------|\n",
      "     | v3                                                                      |\n",
      "     |                                                                         |\n",
      "     |-------------------------------------------------------------------------|\n",
      "     |                     v4   |                  v5   |                 v6   |\n",
      "     |                          |                       |                      |\n",
      "     |-------------------------------------------------------------------------|\n",
      "     |                  v7   |                  v8    |                  v9    |\n",
      "     |                       |                        |                        |\n",
      "     |-----------------------+------------------------+------------------------|\n",
      "     |                 v10   |                 v11    |                 v12    |\n",
      "     |                       |                        |                        |\n",
      "     |-----------------------+------------------------+------------------------|\n",
      "     |                 v13   |                 v14    |                 v15    |\n",
      "     |                       |                        |                        |\n",
      "     |-----------------------+------------------------+------------------------|\n",
      "     |                v16    |                 v17    |                 v18    |\n",
      "     |                       |                        |                        |\n",
      "     +-------------------------------------------------------------------------+\n",
      "\n",
      "     +-------------------------------------------------------------------------+\n",
      "438. |                                                   v1     |      v2      |\n",
      "     |                                                          |              |\n",
      "     |-------------------------------------------------------------------------|\n",
      "     | v3                                                                      |\n",
      "     |                                                                         |\n",
      "     |-------------------------------------------------------------------------|\n",
      "     |                     v4   |                  v5   |                 v6   |\n",
      "     |                          |                       |                      |\n",
      "     |-------------------------------------------------------------------------|\n",
      "     |                  v7   |                  v8    |                  v9    |\n",
      "     |                       |                        |                        |\n",
      "     |-----------------------+------------------------+------------------------|\n",
      "     |                 v10   |                 v11    |                 v12    |\n",
      "     |                       |                        |                        |\n",
      "     |-----------------------+------------------------+------------------------|\n",
      "     |                 v13   |                 v14    |                 v15    |\n",
      "     |                       |                        |                        |\n",
      "     |-----------------------+------------------------+------------------------|\n",
      "     |                v16    |                 v17    |                 v18    |\n",
      "     |                       |                        |                        |\n",
      "     +-------------------------------------------------------------------------+\n",
      "\n",
      "     +-------------------------------------------------------------------------+\n",
      "439. |                                                   v1     |      v2      |\n",
      "     |     Data from database: World Development Indicators     |              |\n",
      "     |-------------------------------------------------------------------------|\n",
      "     | v3                                                                      |\n",
      "     |                                                                         |\n",
      "     |-------------------------------------------------------------------------|\n",
      "     |                     v4   |                  v5   |                 v6   |\n",
      "     |                          |                       |                      |\n",
      "     |-------------------------------------------------------------------------|\n",
      "     |                  v7   |                  v8    |                  v9    |\n",
      "     |                       |                        |                        |\n",
      "     |-----------------------+------------------------+------------------------|\n",
      "     |                 v10   |                 v11    |                 v12    |\n",
      "     |                       |                        |                        |\n",
      "     |-----------------------+------------------------+------------------------|\n",
      "     |                 v13   |                 v14    |                 v15    |\n",
      "     |                       |                        |                        |\n",
      "     |-----------------------+------------------------+------------------------|\n",
      "     |                v16    |                 v17    |                 v18    |\n",
      "     |                       |                        |                        |\n",
      "     +-------------------------------------------------------------------------+\n",
      "\n",
      "     +-------------------------------------------------------------------------+\n",
      "440. |                                                   v1     |      v2      |\n",
      "     |                             Last Updated: 03/24/2025     |              |\n",
      "     |-------------------------------------------------------------------------|\n",
      "     | v3                                                                      |\n",
      "     |                                                                         |\n",
      "     |-------------------------------------------------------------------------|\n",
      "     |                     v4   |                  v5   |                 v6   |\n",
      "     |                          |                       |                      |\n",
      "     |-------------------------------------------------------------------------|\n",
      "     |                  v7   |                  v8    |                  v9    |\n",
      "     |                       |                        |                        |\n",
      "     |-----------------------+------------------------+------------------------|\n",
      "     |                 v10   |                 v11    |                 v12    |\n",
      "     |                       |                        |                        |\n",
      "     |-----------------------+------------------------+------------------------|\n",
      "     |                 v13   |                 v14    |                 v15    |\n",
      "     |                       |                        |                        |\n",
      "     |-----------------------+------------------------+------------------------|\n",
      "     |                v16    |                 v17    |                 v18    |\n",
      "     |                       |                        |                        |\n",
      "     +-------------------------------------------------------------------------+\n"
     ]
    }
   ],
   "source": [
    "list in 1/5\n",
    "list in 435/440"
   ]
  },
  {
   "cell_type": "code",
   "execution_count": 41,
   "metadata": {
    "tags": []
   },
   "outputs": [
    {
     "name": "stdout",
     "output_type": "stream",
     "text": [
      "\n",
      "     +---------------------+\n",
      "     |                  v5 |\n",
      "     |---------------------|\n",
      "  1. |       2010 [YR2010] |\n",
      "  2. |    542.871030476037 |\n",
      "  3. |   0.275380974794698 |\n",
      "  4. |    3577.11432498868 |\n",
      "  5. |    1.56432102617866 |\n",
      "     |---------------------|\n",
      "  6. |    4456.61027416201 |\n",
      "  7. |    3.27771433788594 |\n",
      "  8. |    12446.3086265015 |\n",
      "  9. | 0.00181067574418773 |\n",
      " 10. |    36277.2644412087 |\n",
      "     |---------------------|\n",
      " 11. |                  .. |\n",
      " 12. |    3114.69608592822 |\n",
      " 13. |   0.976178185498281 |\n",
      " 14. |    16132.6118723322 |\n",
      " 15. |    3.26418190342241 |\n",
      "     |---------------------|\n",
      " 16. |    13387.1553748458 |\n",
      " 17. |    4.29667743910718 |\n",
      " 18. |    2796.08143428043 |\n",
      " 19. |    1.41184971098266 |\n",
      " 20. |    27324.5554259804 |\n",
      "     +---------------------+\n"
     ]
    }
   ],
   "source": [
    "list v5 in 1/20"
   ]
  },
  {
   "cell_type": "markdown",
   "metadata": {},
   "source": [
    "We can see there are some notes at the bottom of the file.\n",
    "\n",
    "We also see that the data uses .. for missing values. <b>Remember missing values is different than zero!</b>"
   ]
  },
  {
   "cell_type": "code",
   "execution_count": 106,
   "metadata": {
    "tags": []
   },
   "outputs": [
    {
     "name": "stdout",
     "output_type": "stream",
     "text": [
      "(5 observations deleted)\n"
     ]
    }
   ],
   "source": [
    "*drops notes\n",
    "drop in 436/440"
   ]
  },
  {
   "cell_type": "code",
   "execution_count": 107,
   "metadata": {
    "tags": []
   },
   "outputs": [],
   "source": [
    "*Rename variables\n",
    "rename v1 countryname\n",
    "rename v2 countrycode\n",
    "rename v3 varname\n",
    "rename v4 varcode"
   ]
  },
  {
   "cell_type": "code",
   "execution_count": 108,
   "metadata": {
    "tags": []
   },
   "outputs": [],
   "source": [
    "*renaming variable years\n",
    "local i=2010\n",
    "foreach x of varlist v5-v18 {\n",
    "    rename `x' yr`i'\n",
    "    local i = `i' +1\n",
    "    }"
   ]
  },
  {
   "cell_type": "code",
   "execution_count": 109,
   "metadata": {
    "tags": []
   },
   "outputs": [
    {
     "name": "stdout",
     "output_type": "stream",
     "text": [
      "(1 observation deleted)\n"
     ]
    }
   ],
   "source": [
    "*the first row is column names; we need to drop it\n",
    "drop in 1"
   ]
  },
  {
   "cell_type": "code",
   "execution_count": 110,
   "metadata": {
    "tags": []
   },
   "outputs": [
    {
     "name": "stdout",
     "output_type": "stream",
     "text": [
      "yr2010: character . removed; replaced as double\n",
      "(23 missing values generated)\n",
      "yr2011: character . removed; replaced as double\n",
      "(22 missing values generated)\n",
      "yr2012: character . removed; replaced as double\n",
      "(23 missing values generated)\n",
      "yr2013: character . removed; replaced as double\n",
      "(22 missing values generated)\n",
      "yr2014: character . removed; replaced as double\n",
      "(22 missing values generated)\n",
      "yr2015: character . removed; replaced as double\n",
      "(20 missing values generated)\n",
      "yr2016: character . removed; replaced as double\n",
      "(23 missing values generated)\n",
      "yr2017: character . removed; replaced as double\n",
      "(23 missing values generated)\n",
      "yr2018: character . removed; replaced as double\n",
      "(23 missing values generated)\n",
      "yr2019: character . removed; replaced as double\n",
      "(23 missing values generated)\n",
      "yr2020: character . removed; replaced as double\n",
      "(23 missing values generated)\n",
      "yr2021: character . removed; replaced as double\n",
      "(23 missing values generated)\n",
      "yr2022: character . removed; replaced as double\n",
      "(25 missing values generated)\n",
      "yr2023: character . removed; replaced as double\n",
      "(35 missing values generated)\n"
     ]
    }
   ],
   "source": [
    "*need to destring the year data\n",
    "destring yr20*, replace ignore(\"..\")"
   ]
  },
  {
   "cell_type": "code",
   "execution_count": 47,
   "metadata": {
    "tags": []
   },
   "outputs": [
    {
     "name": "stdout",
     "output_type": "stream",
     "text": [
      "\n",
      "\n",
      "Contains data\n",
      "  obs:           434                          \n",
      " vars:            18                          \n",
      " size:       115,444                          \n",
      "--------------------------------------------------------------------------------\n",
      "              storage   display    value\n",
      "variable name   type    format     label      variable label\n",
      "--------------------------------------------------------------------------------\n",
      "countryname     str48   %48s                  \n",
      "countrycode     str12   %12s                  \n",
      "varname         str74   %74s                  \n",
      "varcode         str20   %20s                  \n",
      "yr2010          double  %10.0g                \n",
      "yr2011          double  %10.0g                \n",
      "yr2012          double  %10.0g                \n",
      "yr2013          double  %10.0g                \n",
      "yr2014          double  %10.0g                \n",
      "yr2015          double  %10.0g                \n",
      "yr2016          double  %10.0g                \n",
      "yr2017          double  %10.0g                \n",
      "yr2018          double  %10.0g                \n",
      "yr2019          double  %10.0g                \n",
      "yr2020          double  %10.0g                \n",
      "yr2021          double  %10.0g                \n",
      "yr2022          double  %10.0g                \n",
      "yr2023          double  %10.0g                \n",
      "--------------------------------------------------------------------------------\n",
      "Sorted by: \n",
      "     Note: Dataset has changed since last saved.\n",
      "\n",
      "\n",
      "     +-------------------------------------------------------------------------+\n",
      "  1. |             countryname             |             count~de              |\n",
      "     |             Afghanistan             |                  AFG              |\n",
      "     |-------------------------------------------------------------------------|\n",
      "     | varname                                                                 |\n",
      "     | GDP per capita (constant 2015 US$)                                      |\n",
      "     |-------------------------------------------------------------------------|\n",
      "     |              varcode |    yr2010 |    yr2011  |    yr2012  |    yr2013  |\n",
      "     |       NY.GDP.PCAP.KD | 5.429e+14 | 5.254e+13  | 5.689e+14  | 5.806e+14  |\n",
      "     |-----------------------------------------------+------------+------------|\n",
      "     |    yr2014 |    yr2015 |    yr2016 |    yr2017 |    yr2018  |    yr2019  |\n",
      "     | 5.751e+14 | 5.656e+14 | 5.639e+14 | 5.628e+14 | 5.531e+14  | 5.579e+14  |\n",
      "     |-----------------------------------+-------------------------------------|\n",
      "     |       yr2020    |       yr2021    |       yr2022     |       yr2023     |\n",
      "     |    5.278e+14    |    4.086e+14    |    3.777e+14     |    3.797e+14     |\n",
      "     +-------------------------------------------------------------------------+\n",
      "\n",
      "     +-------------------------------------------------------------------------+\n",
      "  2. |             countryname             |             count~de              |\n",
      "     |             Afghanistan             |                  AFG              |\n",
      "     |-------------------------------------------------------------------------|\n",
      "     | varname                                                                 |\n",
      "     | Carbon dioxide (CO2) emissions excluding LULUCF per capita (t CO2e/ca.. |\n",
      "     |-------------------------------------------------------------------------|\n",
      "     |              varcode |    yr2010 |    yr2011  |    yr2012  |    yr2013  |\n",
      "     | EN.GHG.CO2.PC.CE.AR5 | 2.754e+14 | 3.887e+14  | 3.196e+14  | 2.625e+14  |\n",
      "     |-----------------------------------------------+------------+------------|\n",
      "     |    yr2014 |    yr2015 |    yr2016 |    yr2017 |    yr2018  |    yr2019  |\n",
      "     | 2.386e+14 | 2.467e+14 | 2.169e+14 | 2.260e+14 | 2.159e+14  | 1.915e+14  |\n",
      "     |-----------------------------------+-------------------------------------|\n",
      "     |       yr2020    |       yr2021    |       yr2022     |       yr2023     |\n",
      "     |    1.806e+13    |    1.983e+14    |    2.036e+14     |    2.100e+14     |\n",
      "     +-------------------------------------------------------------------------+\n"
     ]
    }
   ],
   "source": [
    "desc\n",
    "list in 1/2"
   ]
  },
  {
   "cell_type": "code",
   "execution_count": 50,
   "metadata": {
    "tags": []
   },
   "outputs": [
    {
     "name": "stdout",
     "output_type": "stream",
     "text": [
      "\n",
      "     +-------------+\n",
      "     | countryname |\n",
      "     |-------------|\n",
      "  1. | Afghanistan |\n",
      "  2. | Afghanistan |\n",
      "  3. |     Albania |\n",
      "  4. |     Albania |\n",
      "  5. |     Algeria |\n",
      "     +-------------+\n"
     ]
    }
   ],
   "source": [
    "list countryname in 1/5"
   ]
  },
  {
   "cell_type": "code",
   "execution_count": 51,
   "metadata": {
    "tags": []
   },
   "outputs": [
    {
     "name": "stdout",
     "output_type": "stream",
     "text": [
      "\n",
      "     +-------------------------------------------------------------------------+\n",
      "     | varname                                                                 |\n",
      "     |-------------------------------------------------------------------------|\n",
      "  1. | GDP per capita (constant 2015 US$)                                      |\n",
      "  2. | Carbon dioxide (CO2) emissions excluding LULUCF per capita (t CO2e/ca.. |\n",
      "  3. | GDP per capita (constant 2015 US$)                                      |\n",
      "  4. | Carbon dioxide (CO2) emissions excluding LULUCF per capita (t CO2e/ca.. |\n",
      "  5. | GDP per capita (constant 2015 US$)                                      |\n",
      "     +-------------------------------------------------------------------------+\n"
     ]
    }
   ],
   "source": [
    "list varname in 1/5"
   ]
  },
  {
   "cell_type": "markdown",
   "metadata": {},
   "source": [
    "When using this data, you need to clean it too. One important tool is learning to ```reshape``` in **Stata**."
   ]
  },
  {
   "cell_type": "markdown",
   "metadata": {},
   "source": [
    "### RESHAPE\n",
    "Sometimes we want to flip data. \n",
    "\n",
    "<b>LONG FORM</b>\n",
    "| i | j | stub |\n",
    "|:--------:|:--------:|:--------:|\n",
    "|  1   |  1   |  4.1   |\n",
    "|  1   |  2   |  4.5   |\n",
    "|  2   |  1   |  3.3   |\n",
    "|  2   |  2   |  3.0   |\n",
    "\n",
    "<b>WIDE FORM</b>\n",
    "| i | stub1 | stub2 |\n",
    "|:--------:|:--------:|:--------:|\n",
    "|  1   |  4.1   |  4.5   |\n",
    "|  2   |  3.3   |  3.0   |\n",
    "\n",
    "The World Bank is in a mix of wide and long form. The years are in wide form, so lets first reshape the data where year is a variable"
   ]
  },
  {
   "cell_type": "code",
   "execution_count": 111,
   "metadata": {
    "tags": []
   },
   "outputs": [
    {
     "name": "stdout",
     "output_type": "stream",
     "text": [
      "\n",
      "(note: j = 2010 2011 2012 2013 2014 2015 2016 2017 2018 2019 2020 2021 2022 2023\n",
      "> )\n",
      "\n",
      "Data                               wide   ->   long\n",
      "-----------------------------------------------------------------------------\n",
      "Number of obs.                      434   ->    6076\n",
      "Number of variables                  18   ->       6\n",
      "j variable (14 values)                    ->   year\n",
      "xij variables:\n",
      "               yr2010 yr2011 ... yr2023   ->   yr\n",
      "-----------------------------------------------------------------------------\n",
      "\n"
     ]
    }
   ],
   "source": [
    "reshape long yr, i(countryname countrycode varname) j(year)\n",
    "\n",
    "rename yr value"
   ]
  },
  {
   "cell_type": "code",
   "execution_count": 93,
   "metadata": {
    "tags": []
   },
   "outputs": [
    {
     "name": "stdout",
     "output_type": "stream",
     "text": [
      "\n",
      "Contains data\n",
      "  obs:         6,076                          \n",
      " vars:             6                          \n",
      " size:       996,464                          \n",
      "--------------------------------------------------------------------------------\n",
      "              storage   display    value\n",
      "variable name   type    format     label      variable label\n",
      "--------------------------------------------------------------------------------\n",
      "countryname     str48   %48s                  \n",
      "countrycode     str12   %12s                  \n",
      "varname         str74   %74s                  \n",
      "year            int     %10.0g                \n",
      "varcode         str20   %20s                  \n",
      "value           double  %10.0g                \n",
      "--------------------------------------------------------------------------------\n",
      "Sorted by: countryname  countrycode  varname  year\n",
      "     Note: Dataset has changed since last saved.\n"
     ]
    }
   ],
   "source": [
    "desc"
   ]
  },
  {
   "cell_type": "markdown",
   "metadata": {},
   "source": [
    "Data went from wide to long"
   ]
  },
  {
   "cell_type": "code",
   "execution_count": 57,
   "metadata": {
    "tags": []
   },
   "outputs": [
    {
     "name": "stdout",
     "output_type": "stream",
     "text": [
      "\n",
      "     +----------------------------------------------------+\n",
      "     | count~de                varcode   year       value |\n",
      "     |----------------------------------------------------|\n",
      "  1. |      AFG   EN.GHG.CO2.PC.CE.AR5   2010   2.754e+14 |\n",
      "  2. |      AFG   EN.GHG.CO2.PC.CE.AR5   2011   3.887e+14 |\n",
      "  3. |      AFG   EN.GHG.CO2.PC.CE.AR5   2012   3.196e+14 |\n",
      "  4. |      AFG   EN.GHG.CO2.PC.CE.AR5   2013   2.625e+14 |\n",
      "  5. |      AFG   EN.GHG.CO2.PC.CE.AR5   2014   2.386e+14 |\n",
      "     +----------------------------------------------------+\n"
     ]
    }
   ],
   "source": [
    "list countrycode varcode year value in 1/5"
   ]
  },
  {
   "cell_type": "markdown",
   "metadata": {},
   "source": [
    "Now the rest of varname/varcode are in long form and need to be converted to wide."
   ]
  },
  {
   "cell_type": "code",
   "execution_count": 59,
   "metadata": {
    "tags": []
   },
   "outputs": [
    {
     "name": "stdout",
     "output_type": "stream",
     "text": [
      "\n",
      "\n",
      "                                varname |      Freq.     Percent        Cum.\n",
      "----------------------------------------+-----------------------------------\n",
      "Carbon dioxide (CO2) emissions exclud.. |      3,038       50.00       50.00\n",
      "     GDP per capita (constant 2015 US$) |      3,038       50.00      100.00\n",
      "----------------------------------------+-----------------------------------\n",
      "                                  Total |      6,076      100.00\n",
      "\n",
      "\n",
      "             varcode |      Freq.     Percent        Cum.\n",
      "---------------------+-----------------------------------\n",
      "EN.GHG.CO2.PC.CE.AR5 |      3,038       50.00       50.00\n",
      "      NY.GDP.PCAP.KD |      3,038       50.00      100.00\n",
      "---------------------+-----------------------------------\n",
      "               Total |      6,076      100.00\n"
     ]
    }
   ],
   "source": [
    "tab varname\n",
    "tab varcode"
   ]
  },
  {
   "cell_type": "code",
   "execution_count": 112,
   "metadata": {
    "tags": []
   },
   "outputs": [
    {
     "name": "stdout",
     "output_type": "stream",
     "text": [
      "\n",
      "(6,076 missing values generated)\n",
      "\n",
      "(3,038 real changes made)\n",
      "\n",
      "(3,038 real changes made)\n"
     ]
    }
   ],
   "source": [
    "gen varhold=.\n",
    "replace varhold=1 if varcode==\"EN.GHG.CO2.PC.CE.AR5\"\n",
    "replace varhold=2 if varcode==\"NY.GDP.PCAP.KD\""
   ]
  },
  {
   "cell_type": "code",
   "execution_count": 113,
   "metadata": {
    "tags": []
   },
   "outputs": [],
   "source": [
    "*reshape is sensitive to unnecessary variable\n",
    "drop varname varcode"
   ]
  },
  {
   "cell_type": "code",
   "execution_count": 114,
   "metadata": {
    "tags": []
   },
   "outputs": [
    {
     "name": "stdout",
     "output_type": "stream",
     "text": [
      "(note: j = 1 2)\n",
      "\n",
      "Data                               long   ->   wide\n",
      "-----------------------------------------------------------------------------\n",
      "Number of obs.                     6076   ->    3038\n",
      "Number of variables                   5   ->       5\n",
      "j variable (2 values)           varhold   ->   (dropped)\n",
      "xij variables:\n",
      "                                  value   ->   value1 value2\n",
      "-----------------------------------------------------------------------------\n"
     ]
    }
   ],
   "source": [
    "reshape wide value, i(countryname countrycode year) j(varhold)"
   ]
  },
  {
   "cell_type": "code",
   "execution_count": 116,
   "metadata": {
    "tags": []
   },
   "outputs": [
    {
     "name": "stdout",
     "output_type": "stream",
     "text": [
      "\n",
      "     +-------------------------------------------------------+\n",
      "     | countryname   count~de   year      value1      value2 |\n",
      "     |-------------------------------------------------------|\n",
      "  1. | Afghanistan        AFG   2010   2.754e+14   5.429e+14 |\n",
      "  2. | Afghanistan        AFG   2011   3.887e+14   5.254e+13 |\n",
      "  3. | Afghanistan        AFG   2012   3.196e+14   5.689e+14 |\n",
      "  4. | Afghanistan        AFG   2013   2.625e+14   5.806e+14 |\n",
      "  5. | Afghanistan        AFG   2014   2.386e+14   5.751e+14 |\n",
      "     +-------------------------------------------------------+\n"
     ]
    }
   ],
   "source": [
    "list in 1/5"
   ]
  },
  {
   "cell_type": "code",
   "execution_count": 117,
   "metadata": {
    "tags": []
   },
   "outputs": [
    {
     "name": "stdout",
     "output_type": "stream",
     "text": [
      "\n",
      "\n",
      "\n",
      "\n",
      "     +-------------------------------------------------------+\n",
      "     | countryname   count~de   year       co2pc       gdppc |\n",
      "     |-------------------------------------------------------|\n",
      "  1. | Afghanistan        AFG   2010   2.754e+14   5.429e+14 |\n",
      "  2. | Afghanistan        AFG   2011   3.887e+14   5.254e+13 |\n",
      "  3. | Afghanistan        AFG   2012   3.196e+14   5.689e+14 |\n",
      "  4. | Afghanistan        AFG   2013   2.625e+14   5.806e+14 |\n",
      "  5. | Afghanistan        AFG   2014   2.386e+14   5.751e+14 |\n",
      "     +-------------------------------------------------------+\n"
     ]
    }
   ],
   "source": [
    "rename value1 co2pc\n",
    "rename value2 gdppc\n",
    "list in 1/5"
   ]
  },
  {
   "cell_type": "code",
   "execution_count": null,
   "metadata": {},
   "outputs": [],
   "source": []
  }
 ],
 "metadata": {
  "kernelspec": {
   "display_name": "Stata",
   "language": "stata",
   "name": "stata"
  },
  "language_info": {
   "codemirror_mode": "stata",
   "file_extension": ".do",
   "mimetype": "text/x-stata",
   "name": "stata",
   "version": "15.1"
  }
 },
 "nbformat": 4,
 "nbformat_minor": 4
}

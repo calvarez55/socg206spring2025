{
 "cells": [
  {
   "cell_type": "markdown",
   "id": "4254dcbf-8017-4e6e-8fbc-d44d76cd3eb6",
   "metadata": {},
   "source": [
    "# Workbook 4 Predicted probabilities, Model Building, and Model Fit"
   ]
  },
  {
   "cell_type": "code",
   "execution_count": 1,
   "id": "f3373127-61ba-402a-b4d6-c2a9a0b1d79c",
   "metadata": {
    "tags": []
   },
   "outputs": [
    {
     "name": "stdout",
     "output_type": "stream",
     "text": [
      "\n",
      "\n",
      "\n",
      "Contains data from https://www.stata-press.com/data/r17/nhanes2.dta\n",
      "  obs:        10,351                          \n",
      " vars:            58                          20 Dec 2020 10:07\n",
      " size:     1,107,557                          \n",
      "--------------------------------------------------------------------------------\n",
      "              storage   display    value\n",
      "variable name   type    format     label      variable label\n",
      "--------------------------------------------------------------------------------\n",
      "sampl           long    %9.0g                 Unique case identifier\n",
      "strata          byte    %9.0g                 Stratum identifier\n",
      "psu             byte    %9.0g      psulbl     Primary sampling unit\n",
      "region          byte    %9.0g      region     Region\n",
      "smsa            byte    %22.0g     smsalbl    SMSA type\n",
      "location        byte    %9.0g                 Location (stand office ID)\n",
      "houssiz         byte    %9.0g                 Number of people in household\n",
      "sex             byte    %9.0g      sex        Sex\n",
      "race            byte    %9.0g      race       Race\n",
      "age             byte    %9.0g                 Age (years)\n",
      "height          float   %9.0g                 Height (cm)\n",
      "weight          float   %9.0g                 Weight (kg)\n",
      "bpsystol        int     %9.0g                 Systolic blood pressure\n",
      "bpdiast         int     %9.0g                 Diastolic blood pressure\n",
      "tcresult        int     %9.0g                 Serum cholesterol (mg/dL)\n",
      "tgresult        int     %9.0g                 Serum triglycerides (mg/dL)\n",
      "hdresult        int     %9.0g                 High density lipids (mg/dL)\n",
      "hgb             float   %9.0g                 Hemoglobin (g/dL)\n",
      "hct             float   %9.0g                 Hematocrit (%)\n",
      "tibc            int     %9.0g                 Total iron bind. cap. (mcg/dL)\n",
      "iron            int     %9.0g                 Serum iron (mcg/dL)\n",
      "hlthstat        byte    %20.0g     hlth       Health status\n",
      "heartatk        byte    %16.0g     heartlbl   Prior heart attack\n",
      "diabetes        byte    %12.0g     diabetes   Diabetes status\n",
      "sizplace        byte    %39.0g     size       Size of place\n",
      "finalwgt        long    %9.0g                 Sampling weight (except lead)\n",
      "leadwt          long    %9.0g                 Sampling weight for lead\n",
      "corpuscl        float   %9.0g                 Mean corpuscular volume (fL)\n",
      "trnsfern        float   %9.0g                 Transferrin saturation (%)\n",
      "albumin         float   %9.0g                 Serum albumin (g/dL)\n",
      "vitaminc        float   %9.0g                 Serum vitamin C (mg/dL)\n",
      "zinc            int     %9.0g                 Serum zinc (mcg/dL)\n",
      "copper          int     %9.0g                 Serum copper (mcg/dL)\n",
      "porphyrn        int     %9.0g                 Erythrocyte porphyrin (mcg/dl)\n",
      "lead            byte    %9.0g                 Lead (mcg/dL)\n",
      "female          byte    %8.0g      female     Female\n",
      "black           byte    %9.0g      black      Black\n",
      "orace           byte    %14.0g     orace      Other race\n",
      "fhtatk          byte    %8.0g      yn         Female heart attack\n",
      "hsizgp          byte    %8.0g                 # in household or 5 if #>=5\n",
      "hsiz1           byte    %8.0g                 Household size is 1\n",
      "hsiz2           byte    %8.0g                 Household size is 2\n",
      "hsiz3           byte    %8.0g                 Household size is 3\n",
      "hsiz4           byte    %8.0g                 Household size is 4\n",
      "hsiz5           byte    %8.0g                 Household size is 5 or more\n",
      "region1         byte    %8.0g                 Northeast\n",
      "region2         byte    %8.0g                 Midwest\n",
      "region3         byte    %8.0g                 South\n",
      "region4         byte    %8.0g                 West\n",
      "smsa1           byte    %8.0g                 SMSA, central city\n",
      "smsa2           byte    %8.0g                 SMSA, not central city\n",
      "smsa3           byte    %8.0g                 Not in an SMSA\n",
      "rural           byte    %8.0g      rurallbl   Rural\n",
      "loglead         float   %9.0g                 log(lead)\n",
      "agegrp          byte    %8.0g      agegrp     Age group\n",
      "highlead        byte    %10.0g     highlead   High lead level\n",
      "bmi             float   %9.0g                 Body mass index (BMI)\n",
      "highbp          byte    %8.0g               * High blood pressure\n",
      "                                            * indicated variables have notes\n",
      "--------------------------------------------------------------------------------\n",
      "Sorted by: \n"
     ]
    }
   ],
   "source": [
    "use \"https://www.stata-press.com/data/r17/nhanes2.dta\", clear\n",
    "desc"
   ]
  },
  {
   "cell_type": "code",
   "execution_count": 2,
   "id": "1cc3a692-e948-4f94-b42f-f82bde79ae58",
   "metadata": {
    "tags": []
   },
   "outputs": [
    {
     "name": "stdout",
     "output_type": "stream",
     "text": [
      "\n",
      "\n",
      " High blood |\n",
      "   pressure |      Freq.     Percent        Cum.\n",
      "------------+-----------------------------------\n",
      "          0 |      5,975       57.72       57.72\n",
      "          1 |      4,376       42.28      100.00\n",
      "------------+-----------------------------------\n",
      "      Total |     10,351      100.00\n",
      "\n",
      "\n",
      "     Region |      Freq.     Percent        Cum.\n",
      "------------+-----------------------------------\n",
      "         NE |      2,096       20.25       20.25\n",
      "         MW |      2,774       26.80       47.05\n",
      "          S |      2,853       27.56       74.61\n",
      "          W |      2,628       25.39      100.00\n",
      "------------+-----------------------------------\n",
      "      Total |     10,351      100.00\n",
      "\n",
      "\n",
      "Logistic regression                             Number of obs     =     10,351\n",
      "                                                Wald chi2(5)      =    1418.62\n",
      "                                                Prob > chi2       =     0.0000\n",
      "Log pseudolikelihood = -6267.0671               Pseudo R2         =     0.1112\n",
      "\n",
      "------------------------------------------------------------------------------\n",
      "             |               Robust\n",
      "      highbp | Odds Ratio   Std. Err.      z    P>|z|     [95% Conf. Interval]\n",
      "-------------+----------------------------------------------------------------\n",
      "      female |\n",
      "     Female  |   .6493823    .028047   -10.00   0.000     .5966736    .7067473\n",
      "         age |   1.048995   .0013751    36.49   0.000     1.046303    1.051693\n",
      "             |\n",
      "      region |\n",
      "         MW  |   .8839051   .0556034    -1.96   0.050     .7813751    .9998889\n",
      "          S  |   .9276174   .0582999    -1.20   0.232     .8201091    1.049219\n",
      "          W  |   .9418383   .0601726    -0.94   0.348     .8309872    1.067476\n",
      "             |\n",
      "       _cons |   .0952711   .0078756   -28.44   0.000     .0810208    .1120277\n",
      "------------------------------------------------------------------------------\n",
      "Note: _cons estimates baseline odds.\n"
     ]
    }
   ],
   "source": [
    "tab highbp\n",
    "tab region\n",
    "*We can use the robust standard errors feature in logistic regression\n",
    "logistic highbp i.female age i.region, vce(robust)"
   ]
  },
  {
   "cell_type": "markdown",
   "id": "95d34914-d60e-478f-87e4-4137c9deff8c",
   "metadata": {},
   "source": [
    "Here, we are making a model to assess high blood pressure and we included gender, age, and region. Based on the model we find:\n",
    "* Women have 35% significantly lower likelihood of high blood pressure as compared to men.\n",
    "* We see a general positive, significant increase in age and high blood pressure. With every year increase there is a 5% likelihood signifcant increase in high blood pressure.\n",
    "* Generally, we see Northeast region associated with higher blood pressure. Mountain west has 12% significant lower likelihood in high blood pressure as compared to Northeast. South has 7% lower likelihood in high blood pressure as compared to Northeast. West has 6% lower likelihood in high blood pressure as compared to Northeast. \n",
    "* For men at zero age in the northeast, an odds ratio of high blood pressure is .10 (intercept)."
   ]
  },
  {
   "cell_type": "markdown",
   "id": "8af4115a-77cc-45a4-8381-5d91ecadac54",
   "metadata": {},
   "source": [
    "## Predicted probabilites\n",
    "In the last workbook, I stressed that we have <b>predicted probabilities</b> instead of <b>predicted values</b>. That is because within in logistic models we have the logit transformation, we are estimating the probability instead of value. \n",
    "\n",
    "Logistic regression model:\n",
    "\n",
    "$Pr(outcome_i=1|x)=\\pi(x)=\\frac{e^{\\beta_0+\\beta_{1}x+...+\\beta_{k}x}}{1+e^{\\beta_0+\\beta_{1}x+...+\\beta_{k}x}}$\n",
    "\n",
    "where the logit is $g(x) = ln{\\frac{\\pi(x)}{(1-\\pi(x))}} = \\beta_0 + \\beta_{1}x...+\\beta_{k}x$ \n",
    "\n",
    "The beta are technically logits not odds ratio."
   ]
  },
  {
   "cell_type": "code",
   "execution_count": 15,
   "id": "5a0dbf48-5893-429f-8fba-da375d6dcba3",
   "metadata": {
    "tags": []
   },
   "outputs": [
    {
     "name": "stdout",
     "output_type": "stream",
     "text": [
      "\n",
      "Iteration 0:   log pseudolikelihood = -7050.7655  \n",
      "Iteration 1:   log pseudolikelihood = -6271.3989  \n",
      "Iteration 2:   log pseudolikelihood = -6267.0675  \n",
      "Iteration 3:   log pseudolikelihood = -6267.0671  \n",
      "\n",
      "Logistic regression                             Number of obs     =     10,351\n",
      "                                                Wald chi2(5)      =    1418.62\n",
      "                                                Prob > chi2       =     0.0000\n",
      "Log pseudolikelihood = -6267.0671               Pseudo R2         =     0.1112\n",
      "\n",
      "------------------------------------------------------------------------------\n",
      "             |               Robust\n",
      "      highbp |      Coef.   Std. Err.      z    P>|z|     [95% Conf. Interval]\n",
      "-------------+----------------------------------------------------------------\n",
      "      female |\n",
      "     Female  |  -.4317336   .0431903   -10.00   0.000    -.5163851   -.3470822\n",
      "         age |   .0478323   .0013109    36.49   0.000      .045263    .0504016\n",
      "             |\n",
      "      region |\n",
      "         MW  |  -.1234056   .0629065    -1.96   0.050       -.2467   -.0001112\n",
      "          S  |   -.075136   .0628491    -1.20   0.232    -.1983179     .048046\n",
      "          W  |  -.0599217   .0638885    -0.94   0.348    -.1851408    .0652974\n",
      "             |\n",
      "       _cons |  -2.351029   .0826647   -28.44   0.000    -2.513049   -2.189009\n",
      "------------------------------------------------------------------------------\n"
     ]
    }
   ],
   "source": [
    "logit highbp i.female age i.region, vce(robust)"
   ]
  },
  {
   "cell_type": "markdown",
   "id": "de1f2aed-de32-4cb0-a677-0066d5ab4340",
   "metadata": {},
   "source": [
    "<center>$g(x)=  ln{\\frac{\\pi(x)}{(1-\\pi(x))}}  = \\beta_0+\\beta_1*(female_i)+\\beta_2*(age_i)+\\beta_3*(mw_i)+\\beta_4*(south_i)+\\beta_5*(west_i)$\n",
    "    \n",
    "<center> where $\\pi(x)=Pr(high_bp_i=1|x)$"
   ]
  },
  {
   "cell_type": "markdown",
   "id": "6163fd8f-c5d9-45a7-bad7-3552dce36c0b",
   "metadata": {},
   "source": [
    "Our model estimated this:\n",
    "\n",
    "<center>$g(x)= -2.351029 -.4317336*(female_i)+ .0478323*(age_i)-.1234056*(mw_i)-.075136*(south_i)-.0599217*(west_i)$"
   ]
  },
  {
   "cell_type": "markdown",
   "id": "40efbe70-a14e-40eb-acee-006e77b48349",
   "metadata": {},
   "source": [
    "#### Please note the equation has the logits and not odds ratios"
   ]
  },
  {
   "cell_type": "markdown",
   "id": "c78e9764-0e32-4ebf-b933-0e2418daa7cc",
   "metadata": {},
   "source": [
    "### Margins\n",
    "We can use ```margins``` command in **Stata** to calculate the predicted probablites. You can also calculate them by hand, but usually with a lot of independent variables it can get messy."
   ]
  },
  {
   "cell_type": "code",
   "execution_count": 3,
   "id": "4938dd8a-45b2-462a-8042-aa090e4f8457",
   "metadata": {
    "tags": []
   },
   "outputs": [
    {
     "name": "stdout",
     "output_type": "stream",
     "text": [
      "\n",
      "\n",
      "\n",
      "    Variable |        Obs        Mean    Std. Dev.       Min        Max\n",
      "-------------+---------------------------------------------------------\n",
      "      female |     10,351    .5251667    .4993904          0          1\n",
      "         age |     10,351    47.57965    17.21483         20         74\n",
      "\n",
      "\n",
      "     Region |      Freq.     Percent        Cum.\n",
      "------------+-----------------------------------\n",
      "         NE |      2,096       20.25       20.25\n",
      "         MW |      2,774       26.80       47.05\n",
      "          S |      2,853       27.56       74.61\n",
      "          W |      2,628       25.39      100.00\n",
      "------------+-----------------------------------\n",
      "      Total |     10,351      100.00\n"
     ]
    }
   ],
   "source": [
    "quietly logit highbp i.female age i.region, vce(robust)\n",
    "*find means of variables\n",
    "summ female age \n",
    "tab region"
   ]
  },
  {
   "cell_type": "markdown",
   "id": "19e2a597-8238-4f82-8c9f-8db73427b9b3",
   "metadata": {},
   "source": [
    "<center>\n",
    "$\\frac{e^{\\beta_0+\\beta_1*x}}{(1-e^{\\beta_0+\\beta_1*x})}$"
   ]
  },
  {
   "cell_type": "code",
   "execution_count": 4,
   "id": "7119f4bc-9484-4a19-8f8d-e519490eb00c",
   "metadata": {
    "tags": []
   },
   "outputs": [
    {
     "name": "stdout",
     "output_type": "stream",
     "text": [
      ".40832083\n"
     ]
    }
   ],
   "source": [
    "di exp(-2.351029 -.4317336*.5251667 + .0478323*47.57965 -.1234056*.2680 -.075136*.2756 -.0599217*.2539)/(1+exp(-2.351029 -.4317336*.5251667 + .0478323*47.57965 -.1234056*.2680 -.075136*.2756 -.0599217*.2539))"
   ]
  },
  {
   "cell_type": "code",
   "execution_count": 5,
   "id": "8bcad6d9-0c82-477d-b284-ce0ae8a9d2a4",
   "metadata": {
    "tags": []
   },
   "outputs": [
    {
     "name": "stdout",
     "output_type": "stream",
     "text": [
      "\n",
      "Adjusted predictions                            Number of obs     =     10,351\n",
      "Model VCE    : Robust\n",
      "\n",
      "Expression   : Pr(highbp), predict()\n",
      "at           : 0.female        =    .4748333 (mean)\n",
      "               1.female        =    .5251667 (mean)\n",
      "               age             =    47.57965 (mean)\n",
      "               1.region        =    .2024925 (mean)\n",
      "               2.region        =    .2679934 (mean)\n",
      "               3.region        =    .2756255 (mean)\n",
      "               4.region        =    .2538885 (mean)\n",
      "\n",
      "------------------------------------------------------------------------------\n",
      "             |            Delta-method\n",
      "             |     Margin   Std. Err.      z    P>|z|     [95% Conf. Interval]\n",
      "-------------+----------------------------------------------------------------\n",
      "       _cons |   .4083206   .0052204    78.22   0.000     .3980889    .4185524\n",
      "------------------------------------------------------------------------------\n"
     ]
    }
   ],
   "source": [
    "*margins with \"atmeans\" will calculate everything at the mean\n",
    "margins, atmeans"
   ]
  },
  {
   "cell_type": "markdown",
   "id": "5d0474db-8f5a-4ff3-97cf-fcc69eec4df7",
   "metadata": {},
   "source": [
    "Having means of categorical variables doesn't make sense"
   ]
  },
  {
   "cell_type": "code",
   "execution_count": 6,
   "id": "11ba6dd7-1a00-43c5-a244-a986a5d612b5",
   "metadata": {
    "tags": []
   },
   "outputs": [
    {
     "name": "stdout",
     "output_type": "stream",
     "text": [
      "\n",
      "\n",
      "Adjusted predictions                            Number of obs     =     10,351\n",
      "Model VCE    : Robust\n",
      "\n",
      "Expression   : Pr(highbp), predict()\n",
      "at           : female          =           1\n",
      "               age             =          40\n",
      "               region          =           1\n",
      "\n",
      "------------------------------------------------------------------------------\n",
      "             |            Delta-method\n",
      "             |     Margin   Std. Err.      z    P>|z|     [95% Conf. Interval]\n",
      "-------------+----------------------------------------------------------------\n",
      "       _cons |   .2953644   .0109949    26.86   0.000     .2738147     .316914\n",
      "------------------------------------------------------------------------------\n",
      "\n",
      "\n",
      "Adjusted predictions                            Number of obs     =     10,351\n",
      "Model VCE    : Robust\n",
      "\n",
      "Expression   : Pr(highbp), predict()\n",
      "at           : female          =           0\n",
      "               age             =          40\n",
      "               region          =           1\n",
      "\n",
      "------------------------------------------------------------------------------\n",
      "             |            Delta-method\n",
      "             |     Margin   Std. Err.      z    P>|z|     [95% Conf. Interval]\n",
      "-------------+----------------------------------------------------------------\n",
      "       _cons |   .3922802   .0128263    30.58   0.000     .3671412    .4174192\n",
      "------------------------------------------------------------------------------\n"
     ]
    }
   ],
   "source": [
    "margins, at(female=1 age=40 region==1)\n",
    "margins, at(female=0 age=40 region==1)"
   ]
  },
  {
   "cell_type": "markdown",
   "id": "6dbf6384-baf3-4b33-b3be-ba37238cfec8",
   "metadata": {},
   "source": [
    "Based on our model, we see that the predicted probabilities of having high blood pressure for a 40 year old woman in the Northeast region is 30%. The estimated probability of having high blood pressure for a 40 year old man in the Northeast region is 39%. A 9% difference. This demonstrates a gender gap for high blood pressure based on our model.\n",
    "\n",
    "Using predicted probabilites is a accessible way to present findings."
   ]
  },
  {
   "cell_type": "code",
   "execution_count": 7,
   "id": "c3ec06bb-ea79-4d02-bdf2-dd2a26f4de5d",
   "metadata": {
    "tags": []
   },
   "outputs": [
    {
     "name": "stdout",
     "output_type": "stream",
     "text": [
      "\n",
      "Contains data from https://www.stata-press.com/data/r17/nhanes2.dta\n",
      "  obs:        10,351                          \n",
      " vars:            58                          20 Dec 2020 10:07\n",
      " size:     1,107,557                          \n",
      "--------------------------------------------------------------------------------\n",
      "              storage   display    value\n",
      "variable name   type    format     label      variable label\n",
      "--------------------------------------------------------------------------------\n",
      "sampl           long    %9.0g                 Unique case identifier\n",
      "strata          byte    %9.0g                 Stratum identifier\n",
      "psu             byte    %9.0g      psulbl     Primary sampling unit\n",
      "region          byte    %9.0g      region     Region\n",
      "smsa            byte    %22.0g     smsalbl    SMSA type\n",
      "location        byte    %9.0g                 Location (stand office ID)\n",
      "houssiz         byte    %9.0g                 Number of people in household\n",
      "sex             byte    %9.0g      sex        Sex\n",
      "race            byte    %9.0g      race       Race\n",
      "age             byte    %9.0g                 Age (years)\n",
      "height          float   %9.0g                 Height (cm)\n",
      "weight          float   %9.0g                 Weight (kg)\n",
      "bpsystol        int     %9.0g                 Systolic blood pressure\n",
      "bpdiast         int     %9.0g                 Diastolic blood pressure\n",
      "tcresult        int     %9.0g                 Serum cholesterol (mg/dL)\n",
      "tgresult        int     %9.0g                 Serum triglycerides (mg/dL)\n",
      "hdresult        int     %9.0g                 High density lipids (mg/dL)\n",
      "hgb             float   %9.0g                 Hemoglobin (g/dL)\n",
      "hct             float   %9.0g                 Hematocrit (%)\n",
      "tibc            int     %9.0g                 Total iron bind. cap. (mcg/dL)\n",
      "iron            int     %9.0g                 Serum iron (mcg/dL)\n",
      "hlthstat        byte    %20.0g     hlth       Health status\n",
      "heartatk        byte    %16.0g     heartlbl   Prior heart attack\n",
      "diabetes        byte    %12.0g     diabetes   Diabetes status\n",
      "sizplace        byte    %39.0g     size       Size of place\n",
      "finalwgt        long    %9.0g                 Sampling weight (except lead)\n",
      "leadwt          long    %9.0g                 Sampling weight for lead\n",
      "corpuscl        float   %9.0g                 Mean corpuscular volume (fL)\n",
      "trnsfern        float   %9.0g                 Transferrin saturation (%)\n",
      "albumin         float   %9.0g                 Serum albumin (g/dL)\n",
      "vitaminc        float   %9.0g                 Serum vitamin C (mg/dL)\n",
      "zinc            int     %9.0g                 Serum zinc (mcg/dL)\n",
      "copper          int     %9.0g                 Serum copper (mcg/dL)\n",
      "porphyrn        int     %9.0g                 Erythrocyte porphyrin (mcg/dl)\n",
      "lead            byte    %9.0g                 Lead (mcg/dL)\n",
      "female          byte    %8.0g      female     Female\n",
      "black           byte    %9.0g      black      Black\n",
      "orace           byte    %14.0g     orace      Other race\n",
      "fhtatk          byte    %8.0g      yn         Female heart attack\n",
      "hsizgp          byte    %8.0g                 # in household or 5 if #>=5\n",
      "hsiz1           byte    %8.0g                 Household size is 1\n",
      "hsiz2           byte    %8.0g                 Household size is 2\n",
      "hsiz3           byte    %8.0g                 Household size is 3\n",
      "hsiz4           byte    %8.0g                 Household size is 4\n",
      "hsiz5           byte    %8.0g                 Household size is 5 or more\n",
      "region1         byte    %8.0g                 Northeast\n",
      "region2         byte    %8.0g                 Midwest\n",
      "region3         byte    %8.0g                 South\n",
      "region4         byte    %8.0g                 West\n",
      "smsa1           byte    %8.0g                 SMSA, central city\n",
      "smsa2           byte    %8.0g                 SMSA, not central city\n",
      "smsa3           byte    %8.0g                 Not in an SMSA\n",
      "rural           byte    %8.0g      rurallbl   Rural\n",
      "loglead         float   %9.0g                 log(lead)\n",
      "agegrp          byte    %8.0g      agegrp     Age group\n",
      "highlead        byte    %10.0g     highlead   High lead level\n",
      "bmi             float   %9.0g                 Body mass index (BMI)\n",
      "highbp          byte    %8.0g               * High blood pressure\n",
      "                                            * indicated variables have notes\n",
      "--------------------------------------------------------------------------------\n",
      "Sorted by: \n"
     ]
    }
   ],
   "source": [
    "describe"
   ]
  },
  {
   "cell_type": "code",
   "execution_count": 8,
   "id": "b50f7730-5b7b-4c1e-90f7-b64ce212933e",
   "metadata": {
    "tags": []
   },
   "outputs": [
    {
     "name": "stdout",
     "output_type": "stream",
     "text": [
      "\n",
      "\n",
      "Iteration 0:   log pseudolikelihood = -7050.7655  \n",
      "Iteration 1:   log pseudolikelihood = -6271.3989  \n",
      "Iteration 2:   log pseudolikelihood = -6267.0675  \n",
      "Iteration 3:   log pseudolikelihood = -6267.0671  \n",
      "\n",
      "Logistic regression                             Number of obs     =     10,351\n",
      "                                                Wald chi2(5)      =    1418.62\n",
      "                                                Prob > chi2       =     0.0000\n",
      "Log pseudolikelihood = -6267.0671               Pseudo R2         =     0.1112\n",
      "\n",
      "------------------------------------------------------------------------------\n",
      "             |               Robust\n",
      "      highbp |      Coef.   Std. Err.      z    P>|z|     [95% Conf. Interval]\n",
      "-------------+----------------------------------------------------------------\n",
      "      female |\n",
      "     Female  |  -.4317336   .0431903   -10.00   0.000    -.5163851   -.3470822\n",
      "         age |   .0478323   .0013109    36.49   0.000      .045263    .0504016\n",
      "             |\n",
      "      region |\n",
      "         MW  |  -.1234056   .0629065    -1.96   0.050       -.2467   -.0001112\n",
      "          S  |   -.075136   .0628491    -1.20   0.232    -.1983179     .048046\n",
      "          W  |  -.0599217   .0638885    -0.94   0.348    -.1851408    .0652974\n",
      "             |\n",
      "       _cons |  -2.351029   .0826647   -28.44   0.000    -2.513049   -2.189009\n",
      "------------------------------------------------------------------------------\n",
      "\n",
      "\n",
      "Measures of Fit for logit of highbp\n",
      "\n",
      "Log-Lik Intercept Only:    -7050.765     Log-Lik Full Model:        -6267.067\n",
      "D(10343):                  12534.134     LR(5):                      1567.397\n",
      "                                         Prob > LR:                     0.000\n",
      "McFadden's R2:                 0.111     McFadden's Adj R2:             0.110\n",
      "Maximum Likelihood R2:         1.000     Cragg & Uhler's R2:            1.000\n",
      "McKelvey and Zavoina's R2:     0.181     Efron's R2:                    0.141\n",
      "Variance of y*:                4.015     Variance of error:             3.290\n",
      "Count R2:                      0.663     Adj Count R2:                  0.203\n",
      "AIC:                           1.212     AIC*n:                     12550.134\n",
      "BIC:                      -83085.229     BIC':                      -1521.173\n"
     ]
    }
   ],
   "source": [
    "logit highbp i.female age i.region, vce(robust)\n",
    "fitstat"
   ]
  },
  {
   "cell_type": "markdown",
   "id": "1b57c48e-d1ad-4692-9759-7e910c2694ec",
   "metadata": {},
   "source": [
    "## Comparing models\n",
    "We often estimate mutiple models in our research. For example, when I publish a paper, I will include at least three models. How can we assess model fit? How do we build models? \n",
    "\n",
    "#### Ways to assess model fit\n",
    "In OLS, you can compare R-squared. Models estimated with MLE, we can use Akaike Information Criterion (AIC) and Bayesian Information Criterion (BIC). These model fit statistics use log-likelihood information. Generally smaller AIC and BIC is better. But these criterion are relative.\n",
    "\n",
    "For nested models, you can compare likelihood ratio tests.\n",
    "\n",
    "#### Steps I usually follow for model building:\n",
    "* Null models: Generally, I will start with a null model (without any independent variables). Now, null models can be estimated for contiunous dependent variable. However, null models cannot be estimated for categorical outcomes.\n",
    "\n",
    "* Slowly building models: You can slowly start to add independent variables to the model. I usually group similar variables together like racial/ethnic model or socio-economic model. When I have set of variable aligned with a theory, I will make different theory models. For example, treadmill of production model and treadmill of destruction model. I'll make notes of significant and model fit statistics.\n",
    "\n",
    "* Fit a full/saturated model: This is the model with all the independent variables included. I'll make notes of significant and model fit statistics."
   ]
  },
  {
   "cell_type": "markdown",
   "id": "efb0fb72-2b8c-4773-b826-5f87f2555c7a",
   "metadata": {},
   "source": [
    "#### Let's practice with an example\n",
    "This is a dataset from Hosmer et al of low birth study at Baystate Medical Center."
   ]
  },
  {
   "cell_type": "code",
   "execution_count": 9,
   "id": "8b7d34cd-85f5-4c18-a7b6-3a779e1dd940",
   "metadata": {
    "tags": []
   },
   "outputs": [
    {
     "name": "stdout",
     "output_type": "stream",
     "text": [
      "\n",
      "(59 vars, 112 obs)\n",
      "\n",
      "(94 missing values generated)\n",
      "\n",
      "(94 real changes made)\n",
      "\n",
      "\n",
      "(94 missing values generated)\n",
      "\n",
      "(94 real changes made)\n",
      "\n",
      "\n",
      "(94 missing values generated)\n",
      "\n",
      "(94 real changes made)\n",
      "\n",
      "\n",
      "(31 missing values generated)\n",
      "\n",
      "(29 real changes made)\n",
      "\n",
      "(2 real changes made)\n",
      "\n",
      "\n",
      "(31 missing values generated)\n",
      "\n",
      "(29 real changes made)\n",
      "\n",
      "(2 real changes made)\n",
      "\n",
      "\n",
      "(31 missing values generated)\n",
      "\n",
      "(29 real changes made)\n",
      "\n",
      "(2 real changes made)\n",
      "\n",
      "\n",
      "(31 missing values generated)\n",
      "\n",
      "(29 real changes made)\n",
      "\n",
      "(2 real changes made)\n",
      "\n",
      "\n",
      "(31 missing values generated)\n",
      "\n",
      "(29 real changes made)\n",
      "\n",
      "(2 real changes made)\n",
      "\n",
      "\n",
      "(31 missing values generated)\n",
      "\n",
      "(29 real changes made)\n",
      "\n",
      "(2 real changes made)\n",
      "\n",
      "\n",
      "\n",
      "\n",
      "    Variable |        Obs        Mean    Std. Dev.       Min        Max\n",
      "-------------+---------------------------------------------------------\n",
      "        pair |        112        28.5    16.23587          1         56\n",
      "         low |        112          .5    .5022472          0          1\n",
      "         age |        112    22.50893    4.341286         14         35\n",
      "         lwt |        112    127.1696    30.46986         80        241\n",
      "       smoke |        112    .4107143    .4941746          0          1\n",
      "-------------+---------------------------------------------------------\n",
      "         ptd |        112    .2232143    .4182723          0          1\n",
      "          ht |        112    .0892857    .2864373          0          1\n",
      "          ui |        112    .1785714    .3847144          0          1\n",
      "\n",
      "\n",
      " race 1=wht |\n",
      "      2=blk |\n",
      "    3=other |      Freq.     Percent        Cum.\n",
      "------------+-----------------------------------\n",
      "          1 |         44       39.29       39.29\n",
      "          2 |         21       18.75       58.04\n",
      "          3 |         47       41.96      100.00\n",
      "------------+-----------------------------------\n",
      "      Total |        112      100.00\n"
     ]
    }
   ],
   "source": [
    "import delimited \"C:\\Users\\cam\\Downloads\\alr\\logistic\\lowbwt11.dat\", delimiters(\" \") clear\n",
    "\n",
    "gen pair=v12\n",
    "replace pair=v11 if v11!=.\n",
    "label variable pair \"pair\"\n",
    "\n",
    "gen low=v18\n",
    "replace low=v17 if v17!=.\n",
    "label variable low \"low birth weight 1<=25000g\"\n",
    "\n",
    "gen age=v23\n",
    "replace age=v22 if v22!=.\n",
    "label variable age \"age\"\n",
    "\n",
    "gen lwt=v26\n",
    "replace lwt=v27 if v27!=.\n",
    "replace lwt=v28 if v28!=.\n",
    "label variable lwt \"weight of mother at last menstrual period\"\n",
    "\n",
    "gen race=v33\n",
    "replace race=v34 if v34!=.\n",
    "replace race=v35 if v35!=.\n",
    "label variable race \"race 1=wht 2=blk 3=other\"\n",
    "\n",
    "gen smoke=v41\n",
    "replace smoke=v42 if v42!=.\n",
    "replace smoke=v43 if v43!=.\n",
    "label variable smoke \"smoking status\"\n",
    "\n",
    "gen ptd=v47\n",
    "replace ptd=v48 if v48!=.\n",
    "replace ptd=v49 if v49!=.\n",
    "label variable ptd \"history of premature labor\"\n",
    "\n",
    "gen ht=v52\n",
    "replace ht=v53 if v53!=.\n",
    "replace ht=v54 if v54!=.\n",
    "label variable ht \"history of hypertension\"\n",
    "\n",
    "gen ui=v57\n",
    "replace ui=v58 if v58!=.\n",
    "replace ui=v59 if v59!=.\n",
    "label variable ui \"presence of uterine irritability\"\n",
    "\n",
    "drop v1-v59\n",
    "\n",
    "summ pair low age lwt smoke ptd ht ui\n",
    "tab race"
   ]
  },
  {
   "cell_type": "markdown",
   "id": "df368f3b-2974-453c-84f0-fd6c75c51403",
   "metadata": {},
   "source": [
    "Given the variables, I am going to group them by demographics, health status, and activity. I will run each group variables as single models and then I will run the full saturate model.\n",
    "\n",
    "<b>Demographic model</b>\n",
    "<center>$g(x)=  ln{\\frac{\\pi(x)}{(1-\\pi(x))}}  = \\beta_0+\\beta_1*(black_i)+\\beta_2*(other_i)+\\beta_3*(age_i)$\n",
    "    \n",
    "<center> where $\\pi(x)=Pr(lbw_i=1|x)$\n",
    "    \n",
    "<b>Health status model</b>\n",
    "<center>$g(x)=  ln{\\frac{\\pi(x)}{(1-\\pi(x))}}  = \\beta_0+\\beta_1*(hist_premature_labor_i)+\\beta_2*(history_hypertension_i)+\\beta_3*(pres_uterine_irr_i)$\n",
    "    \n",
    "<center> where $\\pi(x)=Pr(lbw_i=1|x)$\n",
    "\n",
    "<b>Activity model</b>\n",
    "<center>$g(x)=  ln{\\frac{\\pi(x)}{(1-\\pi(x))}}  = \\beta_0+\\beta_1*(weight_i)+\\beta_2*(smoke_i)$\n",
    "    \n",
    "<center> where $\\pi(x)=Pr(lbw_i=1|x)$\n",
    "    \n",
    "<b>Full model</b>\n",
    "<center>$g(x)=  ln{\\frac{\\pi(x)}{(1-\\pi(x))}}  = \\beta_0+ \\beta_1*(black_i)+ \\beta_2*(other_i)+\\beta_3*(age_i)+ \\beta_4*(hist_premature_labor_i)+ \\beta_5*(history_hypertension_i)+ \\beta_6*(pres_uterine_irr_i)+ \\beta_7*(weight_i)+\\beta_8*(smoke_i)$\n",
    "    \n",
    "<center> where $\\pi(x)=Pr(lbw_i=1|x)$"
   ]
  },
  {
   "cell_type": "markdown",
   "id": "56e4fdaa-f75e-49ed-a391-9accdb88af49",
   "metadata": {},
   "source": [
    "#### estimate command\n",
    "```estimates store model_name``` command will save model statistics for later comparison. It is a post-estimation command meaning it has to be used after estimating a model. \n",
    "\n",
    "```estimates table model_name, stats(aic bic)``` will show you the saved information."
   ]
  },
  {
   "cell_type": "code",
   "execution_count": 12,
   "id": "406a8b36-0ffd-4995-bc52-ced8beacbb51",
   "metadata": {
    "tags": []
   },
   "outputs": [
    {
     "name": "stdout",
     "output_type": "stream",
     "text": [
      "\n",
      "\n",
      "Iteration 0:   log likelihood = -77.632484  \n",
      "Iteration 1:   log likelihood = -77.597923  \n",
      "Iteration 2:   log likelihood = -77.597923  \n",
      "\n",
      "Logistic regression                             Number of obs     =        112\n",
      "                                                LR chi2(3)        =       0.07\n",
      "                                                Prob > chi2       =     0.9953\n",
      "Log likelihood = -77.597923                     Pseudo R2         =     0.0004\n",
      "\n",
      "------------------------------------------------------------------------------\n",
      "         low |      Coef.   Std. Err.      z    P>|z|     [95% Conf. Interval]\n",
      "-------------+----------------------------------------------------------------\n",
      "        race |\n",
      "          2  |   .0942566   .5358725     0.18   0.860    -.9560342    1.144547\n",
      "          3  |  -.0433902   .4235261    -0.10   0.918    -.8734862    .7867058\n",
      "             |\n",
      "         age |  -.0006389    .044323    -0.01   0.988    -.0875104    .0862326\n",
      "       _cons |   .0149276   1.078548     0.01   0.989    -2.098987    2.128842\n",
      "------------------------------------------------------------------------------\n",
      "\n"
     ]
    }
   ],
   "source": [
    "*demographic model\n",
    "logit low i.race age\n",
    "estimates store demo"
   ]
  },
  {
   "cell_type": "markdown",
   "id": "3d4d13ac-c568-4805-9995-de0993994b23",
   "metadata": {},
   "source": [
    "For the demographics model, we find none of the variables are significant."
   ]
  },
  {
   "cell_type": "code",
   "execution_count": 13,
   "id": "dfabc1c6-02f8-43be-adc3-7c3103ae9944",
   "metadata": {
    "tags": []
   },
   "outputs": [
    {
     "name": "stdout",
     "output_type": "stream",
     "text": [
      "\n",
      "\n",
      "Iteration 0:   log likelihood = -77.632484  \n",
      "Iteration 1:   log likelihood = -71.573504  \n",
      "Iteration 2:   log likelihood = -71.563778  \n",
      "Iteration 3:   log likelihood = -71.563777  \n",
      "\n",
      "Logistic regression                             Number of obs     =        112\n",
      "                                                LR chi2(3)        =      12.14\n",
      "                                                Prob > chi2       =     0.0069\n",
      "Log likelihood = -71.563777                     Pseudo R2         =     0.0782\n",
      "\n",
      "------------------------------------------------------------------------------\n",
      "         low |      Coef.   Std. Err.      z    P>|z|     [95% Conf. Interval]\n",
      "-------------+----------------------------------------------------------------\n",
      "       1.ptd |   1.142014    .507797     2.25   0.025     .1467501    2.137278\n",
      "        1.ht |   1.185478   .7380595     1.61   0.108    -.2610916    2.632048\n",
      "        1.ui |   1.031845   .5509494     1.87   0.061    -.0479955    2.111686\n",
      "       _cons |  -.5210001   .2486633    -2.10   0.036    -1.008371   -.0336291\n",
      "------------------------------------------------------------------------------\n",
      "\n"
     ]
    }
   ],
   "source": [
    "*health model\n",
    "logit low i.ptd i.ht i.ui\n",
    "estimates store health"
   ]
  },
  {
   "cell_type": "markdown",
   "id": "33c531a4-4b34-49b8-81b9-c118a55880f4",
   "metadata": {},
   "source": [
    "For the health status model, we find: 1) history of premature labor significantly increases likelihood of low birth weight; 2) history of hypertension marginally (p=.108) increases likelihood of low birth weight; 3) presence of uterine irritability marginally (p=.061) increases likelihood of low birth weight."
   ]
  },
  {
   "cell_type": "code",
   "execution_count": 14,
   "id": "5a03e1e7-7f0c-4b89-ab89-f683e6685813",
   "metadata": {
    "tags": []
   },
   "outputs": [
    {
     "name": "stdout",
     "output_type": "stream",
     "text": [
      "\n",
      "\n",
      "Iteration 0:   log likelihood = -77.632484  \n",
      "Iteration 1:   log likelihood = -72.365234  \n",
      "Iteration 2:   log likelihood = -72.350205  \n",
      "Iteration 3:   log likelihood = -72.350204  \n",
      "\n",
      "Logistic regression                             Number of obs     =        112\n",
      "                                                LR chi2(2)        =      10.56\n",
      "                                                Prob > chi2       =     0.0051\n",
      "Log likelihood = -72.350204                     Pseudo R2         =     0.0680\n",
      "\n",
      "------------------------------------------------------------------------------\n",
      "         low |      Coef.   Std. Err.      z    P>|z|     [95% Conf. Interval]\n",
      "-------------+----------------------------------------------------------------\n",
      "         lwt |  -.0119339   .0068241    -1.75   0.080    -.0253088    .0014411\n",
      "     1.smoke |   1.094499   .4073455     2.69   0.007     .2961168    1.892882\n",
      "       _cons |   1.072159   .8880152     1.21   0.227    -.6683192    2.812636\n",
      "------------------------------------------------------------------------------\n",
      "\n"
     ]
    }
   ],
   "source": [
    "*activity model\n",
    "logit low lwt i.smoke\n",
    "estimates store activity"
   ]
  },
  {
   "cell_type": "markdown",
   "id": "26563495-84a0-4cc8-acf2-a20680542a3f",
   "metadata": {},
   "source": [
    "Mothers with higher weight are marginally (p=.080) less likely to have children with low birth weight. We find that mother smokers are significantly more likely to have low birth weight."
   ]
  },
  {
   "cell_type": "code",
   "execution_count": 15,
   "id": "84d2b14c-6f41-4b2c-ae51-6a685a1813b0",
   "metadata": {
    "tags": []
   },
   "outputs": [
    {
     "name": "stdout",
     "output_type": "stream",
     "text": [
      "\n",
      "\n",
      "Iteration 0:   log likelihood = -77.632484  \n",
      "Iteration 1:   log likelihood = -65.552263  \n",
      "Iteration 2:   log likelihood = -65.494219  \n",
      "Iteration 3:   log likelihood = -65.494139  \n",
      "Iteration 4:   log likelihood = -65.494139  \n",
      "\n",
      "Logistic regression                             Number of obs     =        112\n",
      "                                                LR chi2(8)        =      24.28\n",
      "                                                Prob > chi2       =     0.0021\n",
      "Log likelihood = -65.494139                     Pseudo R2         =     0.1564\n",
      "\n",
      "------------------------------------------------------------------------------\n",
      "         low |      Coef.   Std. Err.      z    P>|z|     [95% Conf. Interval]\n",
      "-------------+----------------------------------------------------------------\n",
      "        race |\n",
      "          2  |   .7244131   .6219839     1.16   0.244    -.4946529    1.943479\n",
      "          3  |   .3722791   .5922604     0.63   0.530      -.78853    1.533088\n",
      "             |\n",
      "         age |   .0050955   .0514913     0.10   0.921    -.0958255    .1060166\n",
      "         ptd |   .9833094   .5434138     1.81   0.070    -.0817621    2.048381\n",
      "          ht |   1.777286   .8530079     2.08   0.037     .1054208     3.44915\n",
      "          ui |   1.113758   .5892373     1.89   0.059    -.0411261    2.268642\n",
      "         lwt |  -.0169424   .0082235    -2.06   0.039    -.0330601   -.0008247\n",
      "     1.smoke |   1.220092   .5264752     2.32   0.020     .1882193    2.251964\n",
      "       _cons |   .6909678   1.574057     0.44   0.661    -2.394127    3.776063\n",
      "------------------------------------------------------------------------------\n",
      "\n"
     ]
    }
   ],
   "source": [
    "logit low i.race age ptd ht ui lwt i.smoke\n",
    "estimates store full"
   ]
  },
  {
   "cell_type": "code",
   "execution_count": null,
   "id": "a165bb5d-f0eb-4234-9fef-1ffbf8678ff6",
   "metadata": {},
   "outputs": [],
   "source": [
    "estimates table demo health activity full, stats(r2_p aic bic)\n",
    "\n",
    "*save to excel\n",
    "cd \"D:\\documents copy\\teaching\\SOCG 206 spring 2025\\jupyter\\results\"\n",
    "putdocx begin\n",
    "putdocx table results = etable\n",
    "putdocx save myresults.docx"
   ]
  },
  {
   "cell_type": "markdown",
   "id": "7d8bad58-c009-4aa5-bc08-530298944395",
   "metadata": {},
   "source": [
    "|  | Demographics | Health status | Activity | Full |\n",
    "| --- | --- | --- | --- | --- |\n",
    "| White | ref | | | | \n",
    "| Black | .094 (.536) | | | .724 (.622) |\n",
    "| Other |  -.043 (.424) | | |.372 (.592)| \n",
    "| Age | -.001 ( .044) | | | .005 (.0515) |\n",
    "| His. premat labor | | 1.142 (.508)* | | .983 (.543) |\n",
    "| His. hypertension | | 1.185 (.738) | | 1.777 (.853)* |\n",
    "| Pres. uterine irri. | |  1.032 (.551) | | 1.114 (.589) |\n",
    "| Weight | | | -.0119 (.007) | -.0169 (.0082)* | \n",
    "| Smoker | | | 1.094 (.407)** | 1.220 (.526)* |\n",
    "| intercept | .015 ( 1.079) | -.521 (.249)* | 1.072 (.888) |  .691 (1.574) |\n",
    "| N | 112 | 112 | 112 | 112 |\n",
    "| AIC | 163.19585 | 151.12755 | 150.70041 | 148.98828 |\n",
    "| BIC | 174.06984 | 162.00155 | 158.85591 | 173.45477 |\n",
    "\n",
    "Notice any changes from the singular model? Significance changes from history of premature labor, hypertension, and weight. Based on the AIC, the full model is the relatively best. BIC suggests the activity is the relatively the best. I am starting to see that demographic variables are not as important.\n",
    "\n",
    "Next we can compare nested models."
   ]
  },
  {
   "cell_type": "markdown",
   "id": "1b1364d6-02b3-4a2b-9bd5-8abd38878e1e",
   "metadata": {},
   "source": [
    "### lrtest\n",
    "```lrtest``` command is a postestimation command and tests nested models. You want to store the larger model first, then estimate the smaller model.\n",
    "\n",
    "```lrtest full restricted```"
   ]
  },
  {
   "cell_type": "code",
   "execution_count": 16,
   "id": "8aeb8ca5-8915-4ad5-a1f1-ddf5ee13d564",
   "metadata": {
    "tags": []
   },
   "outputs": [
    {
     "name": "stdout",
     "output_type": "stream",
     "text": [
      "\n",
      "\n",
      "\n",
      "\n",
      "\n",
      "\n",
      "Likelihood-ratio test                                 LR chi2(5)  =     24.21\n",
      "(Assumption: demo nested in full)                     Prob > chi2 =    0.0002\n"
     ]
    }
   ],
   "source": [
    "quietly logit low i.race age ptd ht ui lwt i.smoke\n",
    "estimate store full\n",
    "\n",
    "quietly logit low i.race age\n",
    "estimate store demo\n",
    "\n",
    "lrtest full demo"
   ]
  },
  {
   "cell_type": "markdown",
   "id": "92aa20ab-c03b-415c-a40d-f91145b1a76f",
   "metadata": {},
   "source": [
    "The likelihood ratio tests whether the full model adds improves the model fit relative to the smaller model."
   ]
  },
  {
   "cell_type": "markdown",
   "id": "4d51d5bf-ddbf-4ad9-86d0-b42ee0d526b2",
   "metadata": {},
   "source": [
    "## Practice: Logistic regression\n",
    "* Q1: Open the nhanes2 dataset: https://www.stata-press.com/data/r17/nhanes2.dta\n",
    "* Q2: Use the ```describe``` command and observe the variables. Use the ```codebook variable``` to see variable breakdown. Use ```summ num_variable``` and ```tab cat_variable``` to see the descriptive statistics of different variables.\n",
    "* Q3: Use either highbp or diabetes as the outcome variable. Estimate four models including three subnested models and one full/saturated model.\n",
    "* Q3: Estimate the models with Stata. Compare the models."
   ]
  },
  {
   "cell_type": "code",
   "execution_count": 17,
   "id": "31320e75-765f-4bb7-9892-893f615372b3",
   "metadata": {
    "tags": []
   },
   "outputs": [
    {
     "name": "stdout",
     "output_type": "stream",
     "text": [
      "\n",
      "\n",
      "\n",
      "Contains data from https://www.stata-press.com/data/r17/nhanes2.dta\n",
      "  obs:        10,351                          \n",
      " vars:            58                          20 Dec 2020 10:07\n",
      " size:     1,107,557                          \n",
      "--------------------------------------------------------------------------------\n",
      "              storage   display    value\n",
      "variable name   type    format     label      variable label\n",
      "--------------------------------------------------------------------------------\n",
      "sampl           long    %9.0g                 Unique case identifier\n",
      "strata          byte    %9.0g                 Stratum identifier\n",
      "psu             byte    %9.0g      psulbl     Primary sampling unit\n",
      "region          byte    %9.0g      region     Region\n",
      "smsa            byte    %22.0g     smsalbl    SMSA type\n",
      "location        byte    %9.0g                 Location (stand office ID)\n",
      "houssiz         byte    %9.0g                 Number of people in household\n",
      "sex             byte    %9.0g      sex        Sex\n",
      "race            byte    %9.0g      race       Race\n",
      "age             byte    %9.0g                 Age (years)\n",
      "height          float   %9.0g                 Height (cm)\n",
      "weight          float   %9.0g                 Weight (kg)\n",
      "bpsystol        int     %9.0g                 Systolic blood pressure\n",
      "bpdiast         int     %9.0g                 Diastolic blood pressure\n",
      "tcresult        int     %9.0g                 Serum cholesterol (mg/dL)\n",
      "tgresult        int     %9.0g                 Serum triglycerides (mg/dL)\n",
      "hdresult        int     %9.0g                 High density lipids (mg/dL)\n",
      "hgb             float   %9.0g                 Hemoglobin (g/dL)\n",
      "hct             float   %9.0g                 Hematocrit (%)\n",
      "tibc            int     %9.0g                 Total iron bind. cap. (mcg/dL)\n",
      "iron            int     %9.0g                 Serum iron (mcg/dL)\n",
      "hlthstat        byte    %20.0g     hlth       Health status\n",
      "heartatk        byte    %16.0g     heartlbl   Prior heart attack\n",
      "diabetes        byte    %12.0g     diabetes   Diabetes status\n",
      "sizplace        byte    %39.0g     size       Size of place\n",
      "finalwgt        long    %9.0g                 Sampling weight (except lead)\n",
      "leadwt          long    %9.0g                 Sampling weight for lead\n",
      "corpuscl        float   %9.0g                 Mean corpuscular volume (fL)\n",
      "trnsfern        float   %9.0g                 Transferrin saturation (%)\n",
      "albumin         float   %9.0g                 Serum albumin (g/dL)\n",
      "vitaminc        float   %9.0g                 Serum vitamin C (mg/dL)\n",
      "zinc            int     %9.0g                 Serum zinc (mcg/dL)\n",
      "copper          int     %9.0g                 Serum copper (mcg/dL)\n",
      "porphyrn        int     %9.0g                 Erythrocyte porphyrin (mcg/dl)\n",
      "lead            byte    %9.0g                 Lead (mcg/dL)\n",
      "female          byte    %8.0g      female     Female\n",
      "black           byte    %9.0g      black      Black\n",
      "orace           byte    %14.0g     orace      Other race\n",
      "fhtatk          byte    %8.0g      yn         Female heart attack\n",
      "hsizgp          byte    %8.0g                 # in household or 5 if #>=5\n",
      "hsiz1           byte    %8.0g                 Household size is 1\n",
      "hsiz2           byte    %8.0g                 Household size is 2\n",
      "hsiz3           byte    %8.0g                 Household size is 3\n",
      "hsiz4           byte    %8.0g                 Household size is 4\n",
      "hsiz5           byte    %8.0g                 Household size is 5 or more\n",
      "region1         byte    %8.0g                 Northeast\n",
      "region2         byte    %8.0g                 Midwest\n",
      "region3         byte    %8.0g                 South\n",
      "region4         byte    %8.0g                 West\n",
      "smsa1           byte    %8.0g                 SMSA, central city\n",
      "smsa2           byte    %8.0g                 SMSA, not central city\n",
      "smsa3           byte    %8.0g                 Not in an SMSA\n",
      "rural           byte    %8.0g      rurallbl   Rural\n",
      "loglead         float   %9.0g                 log(lead)\n",
      "agegrp          byte    %8.0g      agegrp     Age group\n",
      "highlead        byte    %10.0g     highlead   High lead level\n",
      "bmi             float   %9.0g                 Body mass index (BMI)\n",
      "highbp          byte    %8.0g               * High blood pressure\n",
      "                                            * indicated variables have notes\n",
      "--------------------------------------------------------------------------------\n",
      "Sorted by: \n"
     ]
    }
   ],
   "source": [
    "use \"https://www.stata-press.com/data/r17/nhanes2.dta\", clear\n",
    "describe"
   ]
  },
  {
   "cell_type": "code",
   "execution_count": 5,
   "id": "fafc20c5-f96d-4d0a-bff9-5a0a09725554",
   "metadata": {
    "tags": []
   },
   "outputs": [
    {
     "name": "stdout",
     "output_type": "stream",
     "text": [
      "\n",
      " High blood |\n",
      "   pressure |      Freq.     Percent        Cum.\n",
      "------------+-----------------------------------\n",
      "          0 |      5,975       57.72       57.72\n",
      "          1 |      4,376       42.28      100.00\n",
      "------------+-----------------------------------\n",
      "      Total |     10,351      100.00\n"
     ]
    }
   ],
   "source": [
    "tab highbp"
   ]
  },
  {
   "cell_type": "code",
   "execution_count": 18,
   "id": "a37ac9c9-f6a9-42c8-a9c5-221b3a5abd3e",
   "metadata": {
    "tags": []
   },
   "outputs": [
    {
     "name": "stdout",
     "output_type": "stream",
     "text": [
      "\n",
      "\n",
      "Iteration 0:   log pseudolikelihood = -1999.7591  \n",
      "Iteration 1:   log pseudolikelihood = -1996.8303  \n",
      "Iteration 2:   log pseudolikelihood = -1996.8158  \n",
      "Iteration 3:   log pseudolikelihood = -1996.8158  \n",
      "\n",
      "Logistic regression                             Number of obs     =     10,349\n",
      "                                                Wald chi2(4)      =       6.01\n",
      "                                                Prob > chi2       =     0.1981\n",
      "Log pseudolikelihood = -1996.8158               Pseudo R2         =     0.0015\n",
      "\n",
      "------------------------------------------------------------------------------\n",
      "             |               Robust\n",
      "    diabetes |      Coef.   Std. Err.      z    P>|z|     [95% Conf. Interval]\n",
      "-------------+----------------------------------------------------------------\n",
      "      region |\n",
      "         MW  |  -.0380387   .1378366    -0.28   0.783    -.3081935    .2321161\n",
      "          S  |    .200742   .1333676     1.51   0.132    -.0606536    .4621376\n",
      "          W  |  -.0686786   .1404585    -0.49   0.625    -.3439722    .2066151\n",
      "             |\n",
      "       rural |\n",
      "      Rural  |  -.0147694    .097399    -0.15   0.879    -.2056679    .1761292\n",
      "       _cons |  -3.010351   .1077904   -27.93   0.000    -3.221616   -2.799085\n",
      "------------------------------------------------------------------------------\n",
      "\n",
      "\n",
      "\n",
      "Iteration 0:   log pseudolikelihood = -7050.7655  \n",
      "Iteration 1:   log pseudolikelihood = -7045.9184  \n",
      "Iteration 2:   log pseudolikelihood = -7045.9181  \n",
      "\n",
      "Logistic regression                             Number of obs     =     10,351\n",
      "                                                Wald chi2(4)      =       9.69\n",
      "                                                Prob > chi2       =     0.0459\n",
      "Log pseudolikelihood = -7045.9181               Pseudo R2         =     0.0007\n",
      "\n",
      "------------------------------------------------------------------------------\n",
      "             |               Robust\n",
      "      highbp |      Coef.   Std. Err.      z    P>|z|     [95% Conf. Interval]\n",
      "-------------+----------------------------------------------------------------\n",
      "      region |\n",
      "         MW  |  -.1687738   .0586672    -2.88   0.004    -.2837594   -.0537882\n",
      "          S  |  -.0644476    .058645    -1.10   0.272    -.1793898    .0504946\n",
      "          W  |  -.0544812   .0591546    -0.92   0.357    -.1704221    .0614597\n",
      "             |\n",
      "       rural |\n",
      "      Rural  |   .0317722   .0417751     0.76   0.447    -.0501055    .1136498\n",
      "       _cons |   -.246604   .0455795    -5.41   0.000    -.3359383   -.1572698\n",
      "------------------------------------------------------------------------------\n",
      "\n"
     ]
    }
   ],
   "source": [
    "logit diabetes i.region i.rural, vce(robust)\n",
    "estimate store dia_geo\n",
    "\n",
    "logit highbp i.region i.rural, vce(robust)\n",
    "estimate store hbp_geo"
   ]
  },
  {
   "cell_type": "code",
   "execution_count": 28,
   "id": "a63a5517-de80-4ad8-bf68-8dc9eb5deaf2",
   "metadata": {
    "tags": []
   },
   "outputs": [
    {
     "name": "stdout",
     "output_type": "stream",
     "text": [
      "LR test likely invalid for models with robust vce\n"
     ]
    },
    {
     "name": "stderr",
     "output_type": "stream",
     "text": [
      "r(498);\n"
     ]
    },
    {
     "name": "stdout",
     "output_type": "stream",
     "text": [
      "\n"
     ]
    }
   ],
   "source": [
    "lrtest dia_full dia_geo"
   ]
  },
  {
   "cell_type": "code",
   "execution_count": 19,
   "id": "0eae08fd-5197-4139-8237-87c039d544d3",
   "metadata": {
    "tags": []
   },
   "outputs": [
    {
     "name": "stdout",
     "output_type": "stream",
     "text": [
      "\n",
      "\n",
      "Iteration 0:   log pseudolikelihood = -1999.7591  \n",
      "Iteration 1:   log pseudolikelihood = -1969.5459  \n",
      "Iteration 2:   log pseudolikelihood = -1967.3389  \n",
      "Iteration 3:   log pseudolikelihood =  -1967.335  \n",
      "Iteration 4:   log pseudolikelihood =  -1967.335  \n",
      "\n",
      "Logistic regression                             Number of obs     =     10,349\n",
      "                                                Wald chi2(4)      =      63.95\n",
      "                                                Prob > chi2       =     0.0000\n",
      "Log pseudolikelihood =  -1967.335               Pseudo R2         =     0.0162\n",
      "\n",
      "------------------------------------------------------------------------------\n",
      "             |               Robust\n",
      "    diabetes |      Coef.   Std. Err.      z    P>|z|     [95% Conf. Interval]\n",
      "-------------+----------------------------------------------------------------\n",
      "         sex |\n",
      "     Female  |   .1454004   .0930728     1.56   0.118    -.0370189    .3278198\n",
      "             |\n",
      "        race |\n",
      "      Black  |   .6778764   .1240618     5.46   0.000     .4347198     .921033\n",
      "      Other  |   .2044562   .3461615     0.59   0.555     -.474008    .8829203\n",
      "             |\n",
      "     houssiz |  -.1894319   .0335894    -5.64   0.000     -.255266   -.1235979\n",
      "       _cons |  -2.638413   .1153367   -22.88   0.000    -2.864469   -2.412357\n",
      "------------------------------------------------------------------------------\n",
      "\n",
      "\n",
      "\n",
      "Iteration 0:   log pseudolikelihood = -7050.7655  \n",
      "Iteration 1:   log pseudolikelihood = -6951.6844  \n",
      "Iteration 2:   log pseudolikelihood = -6951.5688  \n",
      "Iteration 3:   log pseudolikelihood = -6951.5688  \n",
      "\n",
      "Logistic regression                             Number of obs     =     10,351\n",
      "                                                Wald chi2(4)      =     191.29\n",
      "                                                Prob > chi2       =     0.0000\n",
      "Log pseudolikelihood = -6951.5688               Pseudo R2         =     0.0141\n",
      "\n",
      "------------------------------------------------------------------------------\n",
      "             |               Robust\n",
      "      highbp |      Coef.   Std. Err.      z    P>|z|     [95% Conf. Interval]\n",
      "-------------+----------------------------------------------------------------\n",
      "         sex |\n",
      "     Female  |  -.3780516   .0402282    -9.40   0.000    -.4568974   -.2992058\n",
      "             |\n",
      "        race |\n",
      "      Black  |   .4122139   .0662591     6.22   0.000     .2823484    .5420794\n",
      "      Other  |   .2049763   .1502861     1.36   0.173     -.089579    .4995317\n",
      "             |\n",
      "     houssiz |  -.1139296   .0127687    -8.92   0.000    -.1389558   -.0889035\n",
      "       _cons |   .1689822   .0473977     3.57   0.000     .0760845    .2618799\n",
      "------------------------------------------------------------------------------\n",
      "\n"
     ]
    }
   ],
   "source": [
    "logit diabetes i.sex i.race houssiz, vce(robust)\n",
    "estimate store dia_demo\n",
    "\n",
    "logit highbp i.sex i.race  houssiz, vce(robust)\n",
    "estimate store hbp_demo"
   ]
  },
  {
   "cell_type": "code",
   "execution_count": 23,
   "id": "6fbaa4d4-a63f-4899-af34-f033a04fcab5",
   "metadata": {
    "tags": []
   },
   "outputs": [
    {
     "name": "stdout",
     "output_type": "stream",
     "text": [
      "\n",
      "\n",
      "Iteration 0:   log pseudolikelihood = -1999.7591  \n",
      "Iteration 1:   log pseudolikelihood = -1965.2895  \n",
      "Iteration 2:   log pseudolikelihood = -1943.6421  \n",
      "Iteration 3:   log pseudolikelihood = -1943.4857  \n",
      "Iteration 4:   log pseudolikelihood = -1943.4856  \n",
      "\n",
      "Logistic regression                             Number of obs     =     10,349\n",
      "                                                Wald chi2(3)      =     126.33\n",
      "                                                Prob > chi2       =     0.0000\n",
      "Log pseudolikelihood = -1943.4856               Pseudo R2         =     0.0281\n",
      "\n",
      "------------------------------------------------------------------------------\n",
      "             |               Robust\n",
      "    diabetes |      Coef.   Std. Err.      z    P>|z|     [95% Conf. Interval]\n",
      "-------------+----------------------------------------------------------------\n",
      "      weight |    .018354   .0028067     6.54   0.000     .0128531     .023855\n",
      "    tcresult |   .0032118   .0008891     3.61   0.000     .0014691    .0049545\n",
      "    heartatk |   1.120402   .1451351     7.72   0.000     .8359428    1.404862\n",
      "       _cons |  -5.142906   .2924488   -17.59   0.000    -5.716095   -4.569717\n",
      "------------------------------------------------------------------------------\n",
      "\n",
      "\n",
      "\n",
      "Iteration 0:   log pseudolikelihood = -7049.6663  \n",
      "Iteration 1:   log pseudolikelihood = -6413.5577  \n",
      "Iteration 2:   log pseudolikelihood = -6412.5085  \n",
      "Iteration 3:   log pseudolikelihood = -6412.5085  \n",
      "\n",
      "Logistic regression                             Number of obs     =     10,349\n",
      "                                                Wald chi2(3)      =    1039.44\n",
      "                                                Prob > chi2       =     0.0000\n",
      "Log pseudolikelihood = -6412.5085               Pseudo R2         =     0.0904\n",
      "\n",
      "------------------------------------------------------------------------------\n",
      "             |               Robust\n",
      "      highbp |      Coef.   Std. Err.      z    P>|z|     [95% Conf. Interval]\n",
      "-------------+----------------------------------------------------------------\n",
      "      weight |    .038734   .0014826    26.13   0.000     .0358282    .0416398\n",
      "    tcresult |   .0089019   .0004734    18.80   0.000      .007974    .0098298\n",
      "    heartatk |   .5010938   .1046075     4.79   0.000      .296067    .7061207\n",
      "       _cons |  -5.086918    .152695   -33.31   0.000    -5.386194   -4.787641\n",
      "------------------------------------------------------------------------------\n",
      "\n"
     ]
    }
   ],
   "source": [
    "logit diabetes weight tcresult heartatk, vce(robust)\n",
    "estimate store dia_health\n",
    "\n",
    "logit highbp weight tcresult heartatk, vce(robust)\n",
    "estimate store hbp_health"
   ]
  },
  {
   "cell_type": "code",
   "execution_count": 24,
   "id": "52a96cbf-2928-42f5-be6e-a833afc92302",
   "metadata": {
    "tags": []
   },
   "outputs": [
    {
     "name": "stdout",
     "output_type": "stream",
     "text": [
      "\n",
      "\n",
      "Iteration 0:   log pseudolikelihood = -1999.7591  \n",
      "Iteration 1:   log pseudolikelihood = -1935.1592  \n",
      "Iteration 2:   log pseudolikelihood = -1904.1958  \n",
      "Iteration 3:   log pseudolikelihood = -1904.0324  \n",
      "Iteration 4:   log pseudolikelihood = -1904.0323  \n",
      "\n",
      "Logistic regression                             Number of obs     =     10,349\n",
      "                                                Wald chi2(11)     =     200.77\n",
      "                                                Prob > chi2       =     0.0000\n",
      "Log pseudolikelihood = -1904.0323               Pseudo R2         =     0.0479\n",
      "\n",
      "------------------------------------------------------------------------------\n",
      "             |               Robust\n",
      "    diabetes |      Coef.   Std. Err.      z    P>|z|     [95% Conf. Interval]\n",
      "-------------+----------------------------------------------------------------\n",
      "         sex |\n",
      "     Female  |    .427921   .1011299     4.23   0.000     .2297101     .626132\n",
      "             |\n",
      "        race |\n",
      "      Black  |   .5884612   .1352397     4.35   0.000     .3233962    .8535263\n",
      "      Other  |   .5658198    .356095     1.59   0.112    -.1321137    1.263753\n",
      "             |\n",
      "     houssiz |  -.1879441    .035481    -5.30   0.000    -.2574857   -.1184026\n",
      "      weight |   .0228171   .0028945     7.88   0.000     .0171441    .0284901\n",
      "    tcresult |   .0023122   .0009254     2.50   0.012     .0004984     .004126\n",
      "    heartatk |    1.13601   .1495235     7.60   0.000     .8429498    1.429071\n",
      "             |\n",
      "      region |\n",
      "         MW  |  -.1273886   .1399475    -0.91   0.363    -.4016808    .1469035\n",
      "          S  |   .0541578   .1375109     0.39   0.694    -.2153587    .3236742\n",
      "          W  |  -.1763097   .1434539    -1.23   0.219    -.4574742    .1048549\n",
      "             |\n",
      "       rural |\n",
      "      Rural  |   .1000094   .1030278     0.97   0.332    -.1019213    .3019401\n",
      "       _cons |  -5.058401   .3322878   -15.22   0.000    -5.709674   -4.407129\n",
      "------------------------------------------------------------------------------\n",
      "\n",
      "\n",
      "\n",
      "Iteration 0:   log pseudolikelihood = -7049.6663  \n",
      "Iteration 1:   log pseudolikelihood = -6356.0111  \n",
      "Iteration 2:   log pseudolikelihood = -6354.4585  \n",
      "Iteration 3:   log pseudolikelihood = -6354.4584  \n",
      "\n",
      "Logistic regression                             Number of obs     =     10,349\n",
      "                                                Wald chi2(11)     =    1123.92\n",
      "                                                Prob > chi2       =     0.0000\n",
      "Log pseudolikelihood = -6354.4584               Pseudo R2         =     0.0986\n",
      "\n",
      "------------------------------------------------------------------------------\n",
      "             |               Robust\n",
      "      highbp |      Coef.   Std. Err.      z    P>|z|     [95% Conf. Interval]\n",
      "-------------+----------------------------------------------------------------\n",
      "         sex |\n",
      "     Female  |  -.0136656   .0467948    -0.29   0.770    -.1053816    .0780504\n",
      "             |\n",
      "        race |\n",
      "      Black  |   .4033816   .0750102     5.38   0.000     .2563642    .5503989\n",
      "      Other  |   .6449157   .1615956     3.99   0.000     .3281942    .9616372\n",
      "             |\n",
      "     houssiz |  -.1181004   .0137333    -8.60   0.000    -.1450171   -.0911837\n",
      "      weight |   .0399368   .0016502    24.20   0.000     .0367025    .0431712\n",
      "    tcresult |   .0085593   .0004814    17.78   0.000     .0076158    .0095028\n",
      "    heartatk |   .4486958   .1052021     4.27   0.000     .2425036    .6548881\n",
      "             |\n",
      "      region |\n",
      "         MW  |  -.1834319   .0626208    -2.93   0.003    -.3061665   -.0606974\n",
      "          S  |  -.1297074   .0641348    -2.02   0.043    -.2554094   -.0040054\n",
      "          W  |  -.1073315   .0632885    -1.70   0.090    -.2313747    .0167117\n",
      "             |\n",
      "       rural |\n",
      "      Rural  |   .0621819   .0461395     1.35   0.178    -.0282497    .1526136\n",
      "       _cons |  -4.713067   .1749122   -26.95   0.000    -5.055889   -4.370246\n",
      "------------------------------------------------------------------------------\n",
      "\n"
     ]
    }
   ],
   "source": [
    "logit diabetes i.sex i.race houssiz weight tcresult heartatk i.region i.rural, vce(robust)\n",
    "estimate store dia_full\n",
    "\n",
    "logit highbp i.sex i.race houssiz weight tcresult heartatk i.region i.rural, vce(robust)\n",
    "estimate store hbp_full"
   ]
  },
  {
   "cell_type": "code",
   "execution_count": 27,
   "id": "d74e3e18-67ee-4150-a962-d077411a4e06",
   "metadata": {
    "tags": []
   },
   "outputs": [
    {
     "name": "stdout",
     "output_type": "stream",
     "text": [
      "\n",
      "\n",
      "------------------------------------------------------\n",
      "    Variable | dia_d~o   dia_h~h   dia_geo   dia_f~l  \n",
      "-------------+----------------------------------------\n",
      "         sex |\n",
      "     Female  |    0.15                          0.43  \n",
      "             |   0.118                         0.000  \n",
      "             |\n",
      "        race |\n",
      "      Black  |    0.68                          0.59  \n",
      "             |   0.000                         0.000  \n",
      "      Other  |    0.20                          0.57  \n",
      "             |   0.555                         0.112  \n",
      "             |\n",
      "     houssiz |   -0.19                         -0.19  \n",
      "             |   0.000                         0.000  \n",
      "      weight |              0.02                0.02  \n",
      "             |             0.000               0.000  \n",
      "    tcresult |              0.00                0.00  \n",
      "             |             0.000               0.012  \n",
      "    heartatk |              1.12                1.14  \n",
      "             |             0.000               0.000  \n",
      "             |\n",
      "      region |\n",
      "         MW  |                       -0.04     -0.13  \n",
      "             |                       0.783     0.363  \n",
      "          S  |                        0.20      0.05  \n",
      "             |                       0.132     0.694  \n",
      "          W  |                       -0.07     -0.18  \n",
      "             |                       0.625     0.219  \n",
      "             |\n",
      "       rural |\n",
      "      Rural  |                       -0.01      0.10  \n",
      "             |                       0.879     0.332  \n",
      "             |\n",
      "       _cons |   -2.64     -5.14     -3.01     -5.06  \n",
      "             |   0.000     0.000     0.000     0.000  \n",
      "-------------+----------------------------------------\n",
      "         bic | 3980.89   3923.95   4039.85   3919.00  \n",
      "         aic | 3944.67   3894.97   4003.63   3832.06  \n",
      "------------------------------------------------------\n",
      "                                           legend: b/p\n",
      "\n",
      "\n",
      "------------------------------------------------------\n",
      "    Variable | hbp_d~o   hbp_h~h   hbp_geo   hbp_f~l  \n",
      "-------------+----------------------------------------\n",
      "         sex |\n",
      "     Female  |   -0.38                         -0.01  \n",
      "             |   0.000                         0.770  \n",
      "             |\n",
      "        race |\n",
      "      Black  |    0.41                          0.40  \n",
      "             |   0.000                         0.000  \n",
      "      Other  |    0.20                          0.64  \n",
      "             |   0.173                         0.000  \n",
      "             |\n",
      "     houssiz |   -0.11                         -0.12  \n",
      "             |   0.000                         0.000  \n",
      "      weight |              0.04                0.04  \n",
      "             |             0.000               0.000  \n",
      "    tcresult |              0.01                0.01  \n",
      "             |             0.000               0.000  \n",
      "    heartatk |              0.50                0.45  \n",
      "             |             0.000               0.000  \n",
      "             |\n",
      "      region |\n",
      "         MW  |                       -0.17     -0.18  \n",
      "             |                       0.004     0.003  \n",
      "          S  |                       -0.06     -0.13  \n",
      "             |                       0.272     0.043  \n",
      "          W  |                       -0.05     -0.11  \n",
      "             |                       0.357     0.090  \n",
      "             |\n",
      "       rural |\n",
      "      Rural  |                        0.03      0.06  \n",
      "             |                       0.447     0.178  \n",
      "             |\n",
      "       _cons |    0.17     -5.09     -0.25     -4.71  \n",
      "             |   0.000     0.000     0.000     0.000  \n",
      "-------------+----------------------------------------\n",
      "         bic | 13949.36   12862.00   14138.06   12819.85  \n",
      "         aic | 13913.14   12833.02   14101.84   12732.92  \n",
      "------------------------------------------------------\n",
      "                                           legend: b/p\n"
     ]
    }
   ],
   "source": [
    "est table dia_demo dia_health dia_geo dia_full, b(%7.2f) p(%4.3f) stat(bic aic)\n",
    "est table hbp_demo hbp_health hbp_geo hbp_full, b(%7.2f) p(%4.3f) stat(bic aic)"
   ]
  },
  {
   "cell_type": "code",
   "execution_count": null,
   "id": "ff67f769-8007-47c4-84eb-126c88f85b31",
   "metadata": {},
   "outputs": [],
   "source": []
  }
 ],
 "metadata": {
  "kernelspec": {
   "display_name": "Stata",
   "language": "stata",
   "name": "stata"
  },
  "language_info": {
   "codemirror_mode": "stata",
   "file_extension": ".do",
   "mimetype": "text/x-stata",
   "name": "stata",
   "version": "15.1"
  }
 },
 "nbformat": 4,
 "nbformat_minor": 5
}

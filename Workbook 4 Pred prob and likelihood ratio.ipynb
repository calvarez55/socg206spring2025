{
 "cells": [
  {
   "cell_type": "markdown",
   "id": "4254dcbf-8017-4e6e-8fbc-d44d76cd3eb6",
   "metadata": {},
   "source": [
    "# Workbook 4 Predicted probabilities, Model Building, and Model Fit"
   ]
  },
  {
   "cell_type": "code",
   "execution_count": 1,
   "id": "f3373127-61ba-402a-b4d6-c2a9a0b1d79c",
   "metadata": {
    "tags": []
   },
   "outputs": [
    {
     "name": "stdout",
     "output_type": "stream",
     "text": [
      "\n",
      "\n",
      "\n",
      "Contains data from https://www.stata-press.com/data/r17/nhanes2.dta\n",
      "  obs:        10,351                          \n",
      " vars:            58                          20 Dec 2020 10:07\n",
      " size:     1,107,557                          \n",
      "--------------------------------------------------------------------------------\n",
      "              storage   display    value\n",
      "variable name   type    format     label      variable label\n",
      "--------------------------------------------------------------------------------\n",
      "sampl           long    %9.0g                 Unique case identifier\n",
      "strata          byte    %9.0g                 Stratum identifier\n",
      "psu             byte    %9.0g      psulbl     Primary sampling unit\n",
      "region          byte    %9.0g      region     Region\n",
      "smsa            byte    %22.0g     smsalbl    SMSA type\n",
      "location        byte    %9.0g                 Location (stand office ID)\n",
      "houssiz         byte    %9.0g                 Number of people in household\n",
      "sex             byte    %9.0g      sex        Sex\n",
      "race            byte    %9.0g      race       Race\n",
      "age             byte    %9.0g                 Age (years)\n",
      "height          float   %9.0g                 Height (cm)\n",
      "weight          float   %9.0g                 Weight (kg)\n",
      "bpsystol        int     %9.0g                 Systolic blood pressure\n",
      "bpdiast         int     %9.0g                 Diastolic blood pressure\n",
      "tcresult        int     %9.0g                 Serum cholesterol (mg/dL)\n",
      "tgresult        int     %9.0g                 Serum triglycerides (mg/dL)\n",
      "hdresult        int     %9.0g                 High density lipids (mg/dL)\n",
      "hgb             float   %9.0g                 Hemoglobin (g/dL)\n",
      "hct             float   %9.0g                 Hematocrit (%)\n",
      "tibc            int     %9.0g                 Total iron bind. cap. (mcg/dL)\n",
      "iron            int     %9.0g                 Serum iron (mcg/dL)\n",
      "hlthstat        byte    %20.0g     hlth       Health status\n",
      "heartatk        byte    %16.0g     heartlbl   Prior heart attack\n",
      "diabetes        byte    %12.0g     diabetes   Diabetes status\n",
      "sizplace        byte    %39.0g     size       Size of place\n",
      "finalwgt        long    %9.0g                 Sampling weight (except lead)\n",
      "leadwt          long    %9.0g                 Sampling weight for lead\n",
      "corpuscl        float   %9.0g                 Mean corpuscular volume (fL)\n",
      "trnsfern        float   %9.0g                 Transferrin saturation (%)\n",
      "albumin         float   %9.0g                 Serum albumin (g/dL)\n",
      "vitaminc        float   %9.0g                 Serum vitamin C (mg/dL)\n",
      "zinc            int     %9.0g                 Serum zinc (mcg/dL)\n",
      "copper          int     %9.0g                 Serum copper (mcg/dL)\n",
      "porphyrn        int     %9.0g                 Erythrocyte porphyrin (mcg/dl)\n",
      "lead            byte    %9.0g                 Lead (mcg/dL)\n",
      "female          byte    %8.0g      female     Female\n",
      "black           byte    %9.0g      black      Black\n",
      "orace           byte    %14.0g     orace      Other race\n",
      "fhtatk          byte    %8.0g      yn         Female heart attack\n",
      "hsizgp          byte    %8.0g                 # in household or 5 if #>=5\n",
      "hsiz1           byte    %8.0g                 Household size is 1\n",
      "hsiz2           byte    %8.0g                 Household size is 2\n",
      "hsiz3           byte    %8.0g                 Household size is 3\n",
      "hsiz4           byte    %8.0g                 Household size is 4\n",
      "hsiz5           byte    %8.0g                 Household size is 5 or more\n",
      "region1         byte    %8.0g                 Northeast\n",
      "region2         byte    %8.0g                 Midwest\n",
      "region3         byte    %8.0g                 South\n",
      "region4         byte    %8.0g                 West\n",
      "smsa1           byte    %8.0g                 SMSA, central city\n",
      "smsa2           byte    %8.0g                 SMSA, not central city\n",
      "smsa3           byte    %8.0g                 Not in an SMSA\n",
      "rural           byte    %8.0g      rurallbl   Rural\n",
      "loglead         float   %9.0g                 log(lead)\n",
      "agegrp          byte    %8.0g      agegrp     Age group\n",
      "highlead        byte    %10.0g     highlead   High lead level\n",
      "bmi             float   %9.0g                 Body mass index (BMI)\n",
      "highbp          byte    %8.0g               * High blood pressure\n",
      "                                            * indicated variables have notes\n",
      "--------------------------------------------------------------------------------\n",
      "Sorted by: \n"
     ]
    }
   ],
   "source": [
    "use \"https://www.stata-press.com/data/r17/nhanes2.dta\", clear\n",
    "desc"
   ]
  },
  {
   "cell_type": "code",
   "execution_count": 2,
   "id": "1cc3a692-e948-4f94-b42f-f82bde79ae58",
   "metadata": {
    "tags": []
   },
   "outputs": [
    {
     "name": "stdout",
     "output_type": "stream",
     "text": [
      "\n",
      "\n",
      " High blood |\n",
      "   pressure |      Freq.     Percent        Cum.\n",
      "------------+-----------------------------------\n",
      "          0 |      5,975       57.72       57.72\n",
      "          1 |      4,376       42.28      100.00\n",
      "------------+-----------------------------------\n",
      "      Total |     10,351      100.00\n",
      "\n",
      "\n",
      "     Region |      Freq.     Percent        Cum.\n",
      "------------+-----------------------------------\n",
      "         NE |      2,096       20.25       20.25\n",
      "         MW |      2,774       26.80       47.05\n",
      "          S |      2,853       27.56       74.61\n",
      "          W |      2,628       25.39      100.00\n",
      "------------+-----------------------------------\n",
      "      Total |     10,351      100.00\n",
      "\n",
      "\n",
      "Logistic regression                             Number of obs     =     10,351\n",
      "                                                Wald chi2(5)      =    1418.62\n",
      "                                                Prob > chi2       =     0.0000\n",
      "Log pseudolikelihood = -6267.0671               Pseudo R2         =     0.1112\n",
      "\n",
      "------------------------------------------------------------------------------\n",
      "             |               Robust\n",
      "      highbp | Odds Ratio   Std. Err.      z    P>|z|     [95% Conf. Interval]\n",
      "-------------+----------------------------------------------------------------\n",
      "      female |\n",
      "     Female  |   .6493823    .028047   -10.00   0.000     .5966736    .7067473\n",
      "         age |   1.048995   .0013751    36.49   0.000     1.046303    1.051693\n",
      "             |\n",
      "      region |\n",
      "         MW  |   .8839051   .0556034    -1.96   0.050     .7813751    .9998889\n",
      "          S  |   .9276174   .0582999    -1.20   0.232     .8201091    1.049219\n",
      "          W  |   .9418383   .0601726    -0.94   0.348     .8309872    1.067476\n",
      "             |\n",
      "       _cons |   .0952711   .0078756   -28.44   0.000     .0810208    .1120277\n",
      "------------------------------------------------------------------------------\n",
      "Note: _cons estimates baseline odds.\n"
     ]
    }
   ],
   "source": [
    "tab highbp\n",
    "tab region\n",
    "*We can use the robust standard errors feature in logistic regression\n",
    "logistic highbp i.female age i.region, vce(robust)"
   ]
  },
  {
   "cell_type": "markdown",
   "id": "95d34914-d60e-478f-87e4-4137c9deff8c",
   "metadata": {},
   "source": [
    "Here, we are making a model to assess high blood pressure and we included gender, age, and region. Based on the model we find:\n",
    "* Women have 35% significantly lower likelihood of high blood pressure as compared to men.\n",
    "* We see a general positive, significant increase in age and high blood pressure. With every year increase there is a 5% likelihood signifcant increase in high blood pressure.\n",
    "* Generally, we see Northeast region associated with higher blood pressure. Mountain west has 12% significant lower likelihood in high blood pressure as compared to Northeast. South has 7% lower likelihood in high blood pressure as compared to Northeast. West has 6% lower likelihood in high blood pressure as compared to Northeast. \n",
    "* For men at zero age in the northeast, an odds ratio of high blood pressure is .10 (intercept)."
   ]
  },
  {
   "cell_type": "markdown",
   "id": "8af4115a-77cc-45a4-8381-5d91ecadac54",
   "metadata": {},
   "source": [
    "## Predicted probabilites\n",
    "In the last workbook, I stressed that we have <b>predicted probabilities</b> instead of <b>predicted values</b>. That is because within in logistic models we have the logit transformation, we are estimating the probability instead of value. \n",
    "\n",
    "Logistic regression model:\n",
    "\n",
    "$Pr(outcome_i=1|x)=\\pi(x)=\\frac{e^{\\beta_0+\\beta_{1}x+...+\\beta_{k}x}}{1+e^{\\beta_0+\\beta_{1}x+...+\\beta_{k}x}}$\n",
    "\n",
    "where the logit is $g(x) = ln{\\frac{\\pi(x)}{(1-\\pi(x))}} = \\beta_0 + \\beta_{1}x...+\\beta_{k}x$ \n",
    "\n",
    "The beta are technically logits not odds ratio."
   ]
  },
  {
   "cell_type": "code",
   "execution_count": 15,
   "id": "5a0dbf48-5893-429f-8fba-da375d6dcba3",
   "metadata": {
    "tags": []
   },
   "outputs": [
    {
     "name": "stdout",
     "output_type": "stream",
     "text": [
      "\n",
      "Iteration 0:   log pseudolikelihood = -7050.7655  \n",
      "Iteration 1:   log pseudolikelihood = -6271.3989  \n",
      "Iteration 2:   log pseudolikelihood = -6267.0675  \n",
      "Iteration 3:   log pseudolikelihood = -6267.0671  \n",
      "\n",
      "Logistic regression                             Number of obs     =     10,351\n",
      "                                                Wald chi2(5)      =    1418.62\n",
      "                                                Prob > chi2       =     0.0000\n",
      "Log pseudolikelihood = -6267.0671               Pseudo R2         =     0.1112\n",
      "\n",
      "------------------------------------------------------------------------------\n",
      "             |               Robust\n",
      "      highbp |      Coef.   Std. Err.      z    P>|z|     [95% Conf. Interval]\n",
      "-------------+----------------------------------------------------------------\n",
      "      female |\n",
      "     Female  |  -.4317336   .0431903   -10.00   0.000    -.5163851   -.3470822\n",
      "         age |   .0478323   .0013109    36.49   0.000      .045263    .0504016\n",
      "             |\n",
      "      region |\n",
      "         MW  |  -.1234056   .0629065    -1.96   0.050       -.2467   -.0001112\n",
      "          S  |   -.075136   .0628491    -1.20   0.232    -.1983179     .048046\n",
      "          W  |  -.0599217   .0638885    -0.94   0.348    -.1851408    .0652974\n",
      "             |\n",
      "       _cons |  -2.351029   .0826647   -28.44   0.000    -2.513049   -2.189009\n",
      "------------------------------------------------------------------------------\n"
     ]
    }
   ],
   "source": [
    "logit highbp i.female age i.region, vce(robust)"
   ]
  },
  {
   "cell_type": "markdown",
   "id": "de1f2aed-de32-4cb0-a677-0066d5ab4340",
   "metadata": {},
   "source": [
    "<center>$g(x)=  ln{\\frac{\\pi(x)}{(1-\\pi(x))}}  = \\beta_0+\\beta_1*(female_i)+\\beta_2*(age_i)+\\beta_3*(mw_i)+\\beta_4*(south_i)+\\beta_5*(west_i)$\n",
    "    \n",
    "<center> where $\\pi(x)=Pr(high_bp_i=1|x)$"
   ]
  },
  {
   "cell_type": "markdown",
   "id": "6163fd8f-c5d9-45a7-bad7-3552dce36c0b",
   "metadata": {},
   "source": [
    "Our model estimated this:\n",
    "\n",
    "<center>$g(x)= -2.351029 -.4317336*(female_i)+ .0478323*(age_i)-.1234056*(mw_i)-.075136*(south_i)-.0599217*(west_i)$"
   ]
  },
  {
   "cell_type": "markdown",
   "id": "40efbe70-a14e-40eb-acee-006e77b48349",
   "metadata": {},
   "source": [
    "#### Please note the equation has the logits and not odds ratios"
   ]
  },
  {
   "cell_type": "markdown",
   "id": "c78e9764-0e32-4ebf-b933-0e2418daa7cc",
   "metadata": {},
   "source": [
    "### Margins\n",
    "We can use ```margins``` command in **Stata** to calculate the predicted probablites. You can also calculate them by hand, but usually with a lot of independent variables it can get messy."
   ]
  },
  {
   "cell_type": "code",
   "execution_count": 18,
   "id": "4938dd8a-45b2-462a-8042-aa090e4f8457",
   "metadata": {
    "tags": []
   },
   "outputs": [
    {
     "name": "stdout",
     "output_type": "stream",
     "text": [
      "\n",
      "\n",
      "\n",
      "    Variable |        Obs        Mean    Std. Dev.       Min        Max\n",
      "-------------+---------------------------------------------------------\n",
      "      female |     10,351    .5251667    .4993904          0          1\n",
      "         age |     10,351    47.57965    17.21483         20         74\n",
      "\n",
      "\n",
      "     Region |      Freq.     Percent        Cum.\n",
      "------------+-----------------------------------\n",
      "         NE |      2,096       20.25       20.25\n",
      "         MW |      2,774       26.80       47.05\n",
      "          S |      2,853       27.56       74.61\n",
      "          W |      2,628       25.39      100.00\n",
      "------------+-----------------------------------\n",
      "      Total |     10,351      100.00\n"
     ]
    }
   ],
   "source": [
    "quietly logit highbp i.female age i.region, vce(robust)\n",
    "*find means of variables\n",
    "summ female age \n",
    "tab region"
   ]
  },
  {
   "cell_type": "markdown",
   "id": "19e2a597-8238-4f82-8c9f-8db73427b9b3",
   "metadata": {},
   "source": [
    "<center>\n",
    "$\\frac{e^{\\beta_0+\\beta_1*x}}{(1-e^{\\beta_0+\\beta_1*x})}$"
   ]
  },
  {
   "cell_type": "code",
   "execution_count": 17,
   "id": "7119f4bc-9484-4a19-8f8d-e519490eb00c",
   "metadata": {
    "tags": []
   },
   "outputs": [
    {
     "name": "stdout",
     "output_type": "stream",
     "text": [
      ".40832083\n"
     ]
    }
   ],
   "source": [
    "di exp(-2.351029 -.4317336*.5251667 + .0478323*47.57965 -.1234056*.2680 -.075136*.2756 -.0599217*.2539)/(1+exp(-2.351029 -.4317336*.5251667 + .0478323*47.57965 -.1234056*.2680 -.075136*.2756 -.0599217*.2539))"
   ]
  },
  {
   "cell_type": "code",
   "execution_count": 12,
   "id": "8bcad6d9-0c82-477d-b284-ce0ae8a9d2a4",
   "metadata": {
    "tags": []
   },
   "outputs": [
    {
     "name": "stdout",
     "output_type": "stream",
     "text": [
      "\n",
      "Adjusted predictions                            Number of obs     =     10,351\n",
      "Model VCE    : Robust\n",
      "\n",
      "Expression   : Pr(highbp), predict()\n",
      "at           : 0.female        =    .4748333 (mean)\n",
      "               1.female        =    .5251667 (mean)\n",
      "               age             =    47.57965 (mean)\n",
      "               1.region        =    .2024925 (mean)\n",
      "               2.region        =    .2679934 (mean)\n",
      "               3.region        =    .2756255 (mean)\n",
      "               4.region        =    .2538885 (mean)\n",
      "\n",
      "------------------------------------------------------------------------------\n",
      "             |            Delta-method\n",
      "             |     Margin   Std. Err.      z    P>|z|     [95% Conf. Interval]\n",
      "-------------+----------------------------------------------------------------\n",
      "       _cons |   .4083206   .0052204    78.22   0.000     .3980889    .4185524\n",
      "------------------------------------------------------------------------------\n"
     ]
    }
   ],
   "source": [
    "*margins with \"atmeans\" will calculate everything at the mean\n",
    "margins, atmeans"
   ]
  },
  {
   "cell_type": "markdown",
   "id": "5d0474db-8f5a-4ff3-97cf-fcc69eec4df7",
   "metadata": {},
   "source": [
    "Having means of categorical variables doesn't make sense"
   ]
  },
  {
   "cell_type": "code",
   "execution_count": 27,
   "id": "11ba6dd7-1a00-43c5-a244-a986a5d612b5",
   "metadata": {
    "tags": []
   },
   "outputs": [
    {
     "name": "stdout",
     "output_type": "stream",
     "text": [
      "\n",
      "\n",
      "Adjusted predictions                            Number of obs     =     10,351\n",
      "Model VCE    : Robust\n",
      "\n",
      "Expression   : Pr(highbp), predict()\n",
      "at           : female          =           1\n",
      "               age             =          40\n",
      "               region          =           1\n",
      "\n",
      "------------------------------------------------------------------------------\n",
      "             |            Delta-method\n",
      "             |     Margin   Std. Err.      z    P>|z|     [95% Conf. Interval]\n",
      "-------------+----------------------------------------------------------------\n",
      "       _cons |   .2953644   .0109949    26.86   0.000     .2738147     .316914\n",
      "------------------------------------------------------------------------------\n",
      "\n",
      "\n",
      "Adjusted predictions                            Number of obs     =     10,351\n",
      "Model VCE    : Robust\n",
      "\n",
      "Expression   : Pr(highbp), predict()\n",
      "at           : female          =           0\n",
      "               age             =          40\n",
      "               region          =           1\n",
      "\n",
      "------------------------------------------------------------------------------\n",
      "             |            Delta-method\n",
      "             |     Margin   Std. Err.      z    P>|z|     [95% Conf. Interval]\n",
      "-------------+----------------------------------------------------------------\n",
      "       _cons |   .3922802   .0128263    30.58   0.000     .3671412    .4174192\n",
      "------------------------------------------------------------------------------\n"
     ]
    }
   ],
   "source": [
    "margins, at(female=1 age=40 region==1)\n",
    "margins, at(female=0 age=40 region==1)"
   ]
  },
  {
   "cell_type": "markdown",
   "id": "6dbf6384-baf3-4b33-b3be-ba37238cfec8",
   "metadata": {},
   "source": [
    "Based on our model, we see that the predicted probabilities of having high blood pressure for a 40 year old woman in the Northeast region is 30%. The estimated probability of having high blood pressure for a 40 year old man in the Northeast region is 39%. A 9% difference. This demonstrates a gender gap for high blood pressure based on our model.\n",
    "\n",
    "Using predicted probabilites is a accessible way to present findings."
   ]
  },
  {
   "cell_type": "markdown",
   "id": "1b57c48e-d1ad-4692-9759-7e910c2694ec",
   "metadata": {},
   "source": [
    "## Comparing models\n",
    "We often estimate mutiple models in our research. For example, when I publish a paper, I will include at least three models. How can we assess model fit? How do we build models? \n",
    "\n",
    "#### Ways to assess model fit\n",
    "In OLS, you can compare R-squared. Models estimated with MLE, we can use Akaike Information Criterion (AIC) and Bayesian Information Criterion (BIC). These model fit statistics use log-likelihood information. Generally smaller AIC and BIC is better. But these criterion are relative.\n",
    "\n",
    "For nested models, you can compare likelihood ratio tests.\n",
    "\n",
    "#### Steps I usually follow for model building:\n",
    "* Null models: Generally, I will start with a null model (without any independent variables). Now, null models can be estimated for contiunous dependent variable. However, null models cannot be estimated for categorical outcomes.\n",
    "\n",
    "* Slowly building models: You can slowly start to add independent variables to the model. I usually group similar variables together like racial/ethnic model or socio-economic model. When I have set of variable aligned with a theory, I will make different theory models. For example, treadmill of production model and treadmill of destruction model. I'll make notes of significant and model fit statistics.\n",
    "\n",
    "* Fit a full/saturated model: This is the model with all the independent variables included. I'll make notes of significant and model fit statistics."
   ]
  },
  {
   "cell_type": "markdown",
   "id": "efb0fb72-2b8c-4773-b826-5f87f2555c7a",
   "metadata": {},
   "source": [
    "#### Let's practice with an example\n",
    "This is a dataset from Hosmer et al of low birth study at Baystate Medical Center."
   ]
  },
  {
   "cell_type": "code",
   "execution_count": 1,
   "id": "8b7d34cd-85f5-4c18-a7b6-3a779e1dd940",
   "metadata": {
    "tags": []
   },
   "outputs": [
    {
     "name": "stdout",
     "output_type": "stream",
     "text": [
      "\n",
      "(59 vars, 112 obs)\n",
      "\n",
      "(94 missing values generated)\n",
      "\n",
      "(94 real changes made)\n",
      "\n",
      "\n",
      "(94 missing values generated)\n",
      "\n",
      "(94 real changes made)\n",
      "\n",
      "\n",
      "(94 missing values generated)\n",
      "\n",
      "(94 real changes made)\n",
      "\n",
      "\n",
      "(31 missing values generated)\n",
      "\n",
      "(29 real changes made)\n",
      "\n",
      "(2 real changes made)\n",
      "\n",
      "\n",
      "(31 missing values generated)\n",
      "\n",
      "(29 real changes made)\n",
      "\n",
      "(2 real changes made)\n",
      "\n",
      "\n",
      "(31 missing values generated)\n",
      "\n",
      "(29 real changes made)\n",
      "\n",
      "(2 real changes made)\n",
      "\n",
      "\n",
      "(31 missing values generated)\n",
      "\n",
      "(29 real changes made)\n",
      "\n",
      "(2 real changes made)\n",
      "\n",
      "\n",
      "(31 missing values generated)\n",
      "\n",
      "(29 real changes made)\n",
      "\n",
      "(2 real changes made)\n",
      "\n",
      "\n",
      "(31 missing values generated)\n",
      "\n",
      "(29 real changes made)\n",
      "\n",
      "(2 real changes made)\n",
      "\n",
      "\n",
      "\n",
      "\n",
      "    Variable |        Obs        Mean    Std. Dev.       Min        Max\n",
      "-------------+---------------------------------------------------------\n",
      "        pair |        112        28.5    16.23587          1         56\n",
      "         low |        112          .5    .5022472          0          1\n",
      "         age |        112    22.50893    4.341286         14         35\n",
      "         lwt |        112    127.1696    30.46986         80        241\n",
      "       smoke |        112    .4107143    .4941746          0          1\n",
      "-------------+---------------------------------------------------------\n",
      "         ptd |        112    .2232143    .4182723          0          1\n",
      "          ht |        112    .0892857    .2864373          0          1\n",
      "          ui |        112    .1785714    .3847144          0          1\n",
      "\n",
      "\n",
      " race 1=wht |\n",
      "      2=blk |\n",
      "    3=other |      Freq.     Percent        Cum.\n",
      "------------+-----------------------------------\n",
      "          1 |         44       39.29       39.29\n",
      "          2 |         21       18.75       58.04\n",
      "          3 |         47       41.96      100.00\n",
      "------------+-----------------------------------\n",
      "      Total |        112      100.00\n"
     ]
    }
   ],
   "source": [
    "import delimited \"C:\\Users\\cam\\Downloads\\alr\\logistic\\lowbwt11.dat\", delimiters(\" \") clear\n",
    "\n",
    "gen pair=v12\n",
    "replace pair=v11 if v11!=.\n",
    "label variable pair \"pair\"\n",
    "\n",
    "gen low=v18\n",
    "replace low=v17 if v17!=.\n",
    "label variable low \"low birth weight 1<=25000g\"\n",
    "\n",
    "gen age=v23\n",
    "replace age=v22 if v22!=.\n",
    "label variable age \"age\"\n",
    "\n",
    "gen lwt=v26\n",
    "replace lwt=v27 if v27!=.\n",
    "replace lwt=v28 if v28!=.\n",
    "label variable lwt \"weight of mother at last menstrual period\"\n",
    "\n",
    "gen race=v33\n",
    "replace race=v34 if v34!=.\n",
    "replace race=v35 if v35!=.\n",
    "label variable race \"race 1=wht 2=blk 3=other\"\n",
    "\n",
    "gen smoke=v41\n",
    "replace smoke=v42 if v42!=.\n",
    "replace smoke=v43 if v43!=.\n",
    "label variable smoke \"smoking status\"\n",
    "\n",
    "gen ptd=v47\n",
    "replace ptd=v48 if v48!=.\n",
    "replace ptd=v49 if v49!=.\n",
    "label variable ptd \"history of premature labor\"\n",
    "\n",
    "gen ht=v52\n",
    "replace ht=v53 if v53!=.\n",
    "replace ht=v54 if v54!=.\n",
    "label variable ht \"history of hypertension\"\n",
    "\n",
    "gen ui=v57\n",
    "replace ui=v58 if v58!=.\n",
    "replace ui=v59 if v59!=.\n",
    "label variable ui \"presence of uterine irritability\"\n",
    "\n",
    "drop v1-v59\n",
    "\n",
    "summ pair low age lwt smoke ptd ht ui\n",
    "tab race"
   ]
  },
  {
   "cell_type": "markdown",
   "id": "df368f3b-2974-453c-84f0-fd6c75c51403",
   "metadata": {},
   "source": [
    "Given the variables, I am going to group them by demographics, health status, and activity. I will run each group variables as single models and then I will run the full saturate model.\n",
    "\n",
    "<b>Demographic model</b>\n",
    "<center>$g(x)=  ln{\\frac{\\pi(x)}{(1-\\pi(x))}}  = \\beta_0+\\beta_1*(black_i)+\\beta_2*(other_i)+\\beta_3*(age_i)$\n",
    "    \n",
    "<center> where $\\pi(x)=Pr(lbw_i=1|x)$\n",
    "    \n",
    "<b>Health status model</b>\n",
    "<center>$g(x)=  ln{\\frac{\\pi(x)}{(1-\\pi(x))}}  = \\beta_0+\\beta_1*(hist_premature_labor_i)+\\beta_2*(history_hypertension_i)+\\beta_3*(pres_uterine_irr_i)$\n",
    "    \n",
    "<center> where $\\pi(x)=Pr(lbw_i=1|x)$\n",
    "\n",
    "<b>Activity model</b>\n",
    "<center>$g(x)=  ln{\\frac{\\pi(x)}{(1-\\pi(x))}}  = \\beta_0+\\beta_1*(weight_i)+\\beta_2*(smoke_i)$\n",
    "    \n",
    "<center> where $\\pi(x)=Pr(lbw_i=1|x)$\n",
    "    \n",
    "<b>Full model</b>\n",
    "<center>$g(x)=  ln{\\frac{\\pi(x)}{(1-\\pi(x))}}  = \\beta_0+ \\beta_1*(black_i)+ \\beta_2*(other_i)+\\beta_3*(age_i)+ \\beta_4*(hist_premature_labor_i)+ \\beta_5*(history_hypertension_i)+ \\beta_6*(pres_uterine_irr_i)+ \\beta_7*(weight_i)+\\beta_8*(smoke_i)$\n",
    "    \n",
    "<center> where $\\pi(x)=Pr(lbw_i=1|x)$"
   ]
  },
  {
   "cell_type": "markdown",
   "id": "56e4fdaa-f75e-49ed-a391-9accdb88af49",
   "metadata": {},
   "source": [
    "#### estimate command\n",
    "```estimates store model_name``` command will save model statistics for later comparison. It is a post-estimation command meaning it has to be used after estimating a model. \n",
    "\n",
    "```estimates table model_name, stats(aic bic)``` will show you the saved information."
   ]
  },
  {
   "cell_type": "code",
   "execution_count": 2,
   "id": "406a8b36-0ffd-4995-bc52-ced8beacbb51",
   "metadata": {
    "tags": []
   },
   "outputs": [
    {
     "name": "stdout",
     "output_type": "stream",
     "text": [
      "\n",
      "\n",
      "Iteration 0:   log likelihood = -77.632484  \n",
      "Iteration 1:   log likelihood = -77.597923  \n",
      "Iteration 2:   log likelihood = -77.597923  \n",
      "\n",
      "Logistic regression                             Number of obs     =        112\n",
      "                                                LR chi2(3)        =       0.07\n",
      "                                                Prob > chi2       =     0.9953\n",
      "Log likelihood = -77.597923                     Pseudo R2         =     0.0004\n",
      "\n",
      "------------------------------------------------------------------------------\n",
      "         low |      Coef.   Std. Err.      z    P>|z|     [95% Conf. Interval]\n",
      "-------------+----------------------------------------------------------------\n",
      "        race |\n",
      "          2  |   .0942566   .5358725     0.18   0.860    -.9560342    1.144547\n",
      "          3  |  -.0433902   .4235261    -0.10   0.918    -.8734862    .7867058\n",
      "             |\n",
      "         age |  -.0006389    .044323    -0.01   0.988    -.0875104    .0862326\n",
      "       _cons |   .0149276   1.078548     0.01   0.989    -2.098987    2.128842\n",
      "------------------------------------------------------------------------------\n",
      "\n"
     ]
    }
   ],
   "source": [
    "*demographic model\n",
    "logit low i.race age\n",
    "estimates store demo"
   ]
  },
  {
   "cell_type": "markdown",
   "id": "3d4d13ac-c568-4805-9995-de0993994b23",
   "metadata": {},
   "source": [
    "For the demographics model, we find none of the variables are significant."
   ]
  },
  {
   "cell_type": "code",
   "execution_count": 32,
   "id": "dfabc1c6-02f8-43be-adc3-7c3103ae9944",
   "metadata": {
    "tags": []
   },
   "outputs": [
    {
     "name": "stdout",
     "output_type": "stream",
     "text": [
      "\n",
      "\n",
      "Iteration 0:   log likelihood = -77.632484  \n",
      "Iteration 1:   log likelihood = -71.573504  \n",
      "Iteration 2:   log likelihood = -71.563778  \n",
      "Iteration 3:   log likelihood = -71.563777  \n",
      "\n",
      "Logistic regression                             Number of obs     =        112\n",
      "                                                LR chi2(3)        =      12.14\n",
      "                                                Prob > chi2       =     0.0069\n",
      "Log likelihood = -71.563777                     Pseudo R2         =     0.0782\n",
      "\n",
      "------------------------------------------------------------------------------\n",
      "         low |      Coef.   Std. Err.      z    P>|z|     [95% Conf. Interval]\n",
      "-------------+----------------------------------------------------------------\n",
      "       1.ptd |   1.142014    .507797     2.25   0.025     .1467501    2.137278\n",
      "        1.ht |   1.185478   .7380595     1.61   0.108    -.2610916    2.632048\n",
      "        1.ui |   1.031845   .5509494     1.87   0.061    -.0479955    2.111686\n",
      "       _cons |  -.5210001   .2486633    -2.10   0.036    -1.008371   -.0336291\n",
      "------------------------------------------------------------------------------\n",
      "\n"
     ]
    }
   ],
   "source": [
    "*health model\n",
    "logit low i.ptd i.ht i.ui\n",
    "estimates store health"
   ]
  },
  {
   "cell_type": "markdown",
   "id": "33c531a4-4b34-49b8-81b9-c118a55880f4",
   "metadata": {},
   "source": [
    "For the health status model, we find: 1) history of premature labor significantly increases likelihood of low birth weight; 2) history of hypertension marginally (p=.108) increases likelihood of low birth weight; 3) presence of uterine irritability marginally (p=.061) increases likelihood of low birth weight."
   ]
  },
  {
   "cell_type": "code",
   "execution_count": 33,
   "id": "5a03e1e7-7f0c-4b89-ab89-f683e6685813",
   "metadata": {
    "tags": []
   },
   "outputs": [
    {
     "name": "stdout",
     "output_type": "stream",
     "text": [
      "\n",
      "\n",
      "Iteration 0:   log likelihood = -77.632484  \n",
      "Iteration 1:   log likelihood = -72.365234  \n",
      "Iteration 2:   log likelihood = -72.350205  \n",
      "Iteration 3:   log likelihood = -72.350204  \n",
      "\n",
      "Logistic regression                             Number of obs     =        112\n",
      "                                                LR chi2(2)        =      10.56\n",
      "                                                Prob > chi2       =     0.0051\n",
      "Log likelihood = -72.350204                     Pseudo R2         =     0.0680\n",
      "\n",
      "------------------------------------------------------------------------------\n",
      "         low |      Coef.   Std. Err.      z    P>|z|     [95% Conf. Interval]\n",
      "-------------+----------------------------------------------------------------\n",
      "         lwt |  -.0119339   .0068241    -1.75   0.080    -.0253088    .0014411\n",
      "     1.smoke |   1.094499   .4073455     2.69   0.007     .2961168    1.892882\n",
      "       _cons |   1.072159   .8880152     1.21   0.227    -.6683192    2.812636\n",
      "------------------------------------------------------------------------------\n",
      "\n"
     ]
    }
   ],
   "source": [
    "*activity model\n",
    "logit low lwt i.smoke\n",
    "estimates store activity"
   ]
  },
  {
   "cell_type": "markdown",
   "id": "26563495-84a0-4cc8-acf2-a20680542a3f",
   "metadata": {},
   "source": [
    "Mothers with higher weight are marginally (p=.080) less likely to have children with low birth weight. We find that mother smokers are significantly more likely to have low birth weight."
   ]
  },
  {
   "cell_type": "code",
   "execution_count": 34,
   "id": "84d2b14c-6f41-4b2c-ae51-6a685a1813b0",
   "metadata": {
    "tags": []
   },
   "outputs": [
    {
     "name": "stdout",
     "output_type": "stream",
     "text": [
      "\n",
      "\n",
      "Iteration 0:   log likelihood = -77.632484  \n",
      "Iteration 1:   log likelihood = -65.552263  \n",
      "Iteration 2:   log likelihood = -65.494219  \n",
      "Iteration 3:   log likelihood = -65.494139  \n",
      "Iteration 4:   log likelihood = -65.494139  \n",
      "\n",
      "Logistic regression                             Number of obs     =        112\n",
      "                                                LR chi2(8)        =      24.28\n",
      "                                                Prob > chi2       =     0.0021\n",
      "Log likelihood = -65.494139                     Pseudo R2         =     0.1564\n",
      "\n",
      "------------------------------------------------------------------------------\n",
      "         low |      Coef.   Std. Err.      z    P>|z|     [95% Conf. Interval]\n",
      "-------------+----------------------------------------------------------------\n",
      "        race |\n",
      "          2  |   .7244131   .6219839     1.16   0.244    -.4946529    1.943479\n",
      "          3  |   .3722791   .5922604     0.63   0.530      -.78853    1.533088\n",
      "             |\n",
      "         age |   .0050955   .0514913     0.10   0.921    -.0958255    .1060166\n",
      "         ptd |   .9833094   .5434138     1.81   0.070    -.0817621    2.048381\n",
      "          ht |   1.777286   .8530079     2.08   0.037     .1054208     3.44915\n",
      "          ui |   1.113758   .5892373     1.89   0.059    -.0411261    2.268642\n",
      "         lwt |  -.0169424   .0082235    -2.06   0.039    -.0330601   -.0008247\n",
      "     1.smoke |   1.220092   .5264752     2.32   0.020     .1882193    2.251964\n",
      "       _cons |   .6909678   1.574057     0.44   0.661    -2.394127    3.776063\n",
      "------------------------------------------------------------------------------\n",
      "\n"
     ]
    }
   ],
   "source": [
    "logit low i.race age ptd ht ui lwt i.smoke\n",
    "estimates store full"
   ]
  },
  {
   "cell_type": "code",
   "execution_count": null,
   "id": "a165bb5d-f0eb-4234-9fef-1ffbf8678ff6",
   "metadata": {},
   "outputs": [],
   "source": [
    "estimates table demo health activity full, stats(r2_p aic bic)\n",
    "\n",
    "*save to excel\n",
    "cd \"D:\\documents copy\\teaching\\SOCG 206 spring 2025\\jupyter\\results\"\n",
    "putdocx begin\n",
    "putdocx table results = etable\n",
    "putdocx save myresults.docx"
   ]
  },
  {
   "cell_type": "markdown",
   "id": "7d8bad58-c009-4aa5-bc08-530298944395",
   "metadata": {},
   "source": [
    "|  | Demographics | Health status | Activity | Full |\n",
    "| --- | --- | --- | --- | --- |\n",
    "| White | ref | | | | \n",
    "| Black | .094 (.536) | | | .724 (.622) |\n",
    "| Other |  -.043 (.424) | | |.372 (.592)| \n",
    "| Age | -.001 ( .044) | | | .005 (.0515) |\n",
    "| His. premat labor | | 1.142 (.508)* | | .983 (.543) |\n",
    "| His. hypertension | | 1.185 (.738) | | 1.777 (.853)* |\n",
    "| Pres. uterine irri. | |  1.032 (.551) | | 1.114 (.589) |\n",
    "| Weight | | | -.0119 (.007) | -.0169 (.0082)* | \n",
    "| Smoker | | | 1.094 (.407)** | 1.220 (.526)* |\n",
    "| intercept | .015 ( 1.079) | -.521 (.249)* | 1.072 (.888) |  .691 (1.574) |\n",
    "| N | 112 | 112 | 112 | 112 |\n",
    "| AIC | 163.19585 | 151.12755 | 150.70041 | 148.98828 |\n",
    "| BIC | 174.06984 | 162.00155 | 158.85591 | 173.45477 |\n",
    "\n",
    "Notice any changes from the singular model? Significance changes from history of premature labor, hypertension, and weight. Based on the AIC, the full model is the relatively best. BIC suggests the activity is the relatively the best. I am starting to see that demographic variables are not as important.\n",
    "\n",
    "Next we can compare nested models."
   ]
  },
  {
   "cell_type": "markdown",
   "id": "1b1364d6-02b3-4a2b-9bd5-8abd38878e1e",
   "metadata": {},
   "source": [
    "### lrtest\n",
    "```lrtest``` command is a postestimation command and tests nested models. You want to store the larger model first, then estimate the smaller model.\n",
    "\n",
    "```lrtest full restricted```"
   ]
  },
  {
   "cell_type": "code",
   "execution_count": 3,
   "id": "8aeb8ca5-8915-4ad5-a1f1-ddf5ee13d564",
   "metadata": {
    "tags": []
   },
   "outputs": [
    {
     "name": "stdout",
     "output_type": "stream",
     "text": [
      "\n",
      "\n",
      "Iteration 0:   log likelihood = -77.632484  \n",
      "Iteration 1:   log likelihood = -65.552263  \n",
      "Iteration 2:   log likelihood = -65.494219  \n",
      "Iteration 3:   log likelihood = -65.494139  \n",
      "Iteration 4:   log likelihood = -65.494139  \n",
      "\n",
      "Logistic regression                             Number of obs     =        112\n",
      "                                                LR chi2(8)        =      24.28\n",
      "                                                Prob > chi2       =     0.0021\n",
      "Log likelihood = -65.494139                     Pseudo R2         =     0.1564\n",
      "\n",
      "------------------------------------------------------------------------------\n",
      "         low |      Coef.   Std. Err.      z    P>|z|     [95% Conf. Interval]\n",
      "-------------+----------------------------------------------------------------\n",
      "        race |\n",
      "          2  |   .7244131   .6219839     1.16   0.244    -.4946529    1.943479\n",
      "          3  |   .3722791   .5922604     0.63   0.530      -.78853    1.533088\n",
      "             |\n",
      "         age |   .0050955   .0514913     0.10   0.921    -.0958255    .1060166\n",
      "         ptd |   .9833094   .5434138     1.81   0.070    -.0817621    2.048381\n",
      "          ht |   1.777286   .8530079     2.08   0.037     .1054208     3.44915\n",
      "          ui |   1.113758   .5892373     1.89   0.059    -.0411261    2.268642\n",
      "         lwt |  -.0169424   .0082235    -2.06   0.039    -.0330601   -.0008247\n",
      "     1.smoke |   1.220092   .5264752     2.32   0.020     .1882193    2.251964\n",
      "       _cons |   .6909678   1.574057     0.44   0.661    -2.394127    3.776063\n",
      "------------------------------------------------------------------------------\n",
      "\n",
      "\n",
      "\n",
      "Iteration 0:   log likelihood = -77.632484  \n",
      "Iteration 1:   log likelihood = -77.598027  \n",
      "Iteration 2:   log likelihood = -77.598027  \n",
      "\n",
      "Logistic regression                             Number of obs     =        112\n",
      "                                                LR chi2(2)        =       0.07\n",
      "                                                Prob > chi2       =     0.9661\n",
      "Log likelihood = -77.598027                     Pseudo R2         =     0.0004\n",
      "\n",
      "------------------------------------------------------------------------------\n",
      "         low |      Coef.   Std. Err.      z    P>|z|     [95% Conf. Interval]\n",
      "-------------+----------------------------------------------------------------\n",
      "        race |\n",
      "          2  |   .0953102   .5308655     0.18   0.858    -.9451671    1.135787\n",
      "          3  |  -.0425596   .4195879    -0.10   0.919    -.8649368    .7798176\n",
      "             |\n",
      "       _cons |   3.39e-21   .3015113     0.00   1.000    -.5909514    .5909514\n",
      "------------------------------------------------------------------------------\n",
      "\n",
      "\n",
      "\n",
      "Likelihood-ratio test                                 LR chi2(6)  =     24.21\n",
      "(Assumption: demo nested in full)                     Prob > chi2 =    0.0005\n"
     ]
    }
   ],
   "source": [
    "quietly logit low i.race age ptd ht ui lwt i.smoke\n",
    "estimate store full\n",
    "\n",
    "quietly logit low i.race age\n",
    "estimate store demo\n",
    "\n",
    "lrtest full demo"
   ]
  },
  {
   "cell_type": "markdown",
   "id": "92aa20ab-c03b-415c-a40d-f91145b1a76f",
   "metadata": {},
   "source": [
    "The likelihood ratio tests whether the full model adds improves the model fit relative to the smaller model."
   ]
  },
  {
   "cell_type": "markdown",
   "id": "4d51d5bf-ddbf-4ad9-86d0-b42ee0d526b2",
   "metadata": {},
   "source": [
    "## Practice: Logistic regression\n",
    "* Q1: Open the nhanes2 dataset: https://www.stata-press.com/data/r17/nhanes2.dta\n",
    "* Q2: Use the ```describe``` command and observe the variables. Use the ```codebook variable``` to see variable breakdown. Use ```summ num_variable``` and ```tab cat_variable``` to see the descriptive statistics of different variables.\n",
    "* Q3: Use either highbp or diabetes as the outcome variable. Estimate four models including three subnested models and one full/saturated model.\n",
    "* Q3: Estimate the models with Stata. Compare the models."
   ]
  },
  {
   "cell_type": "code",
   "execution_count": 4,
   "id": "31320e75-765f-4bb7-9892-893f615372b3",
   "metadata": {
    "tags": []
   },
   "outputs": [
    {
     "name": "stdout",
     "output_type": "stream",
     "text": [
      "\n",
      "\n",
      "\n",
      "Contains data from https://www.stata-press.com/data/r17/nhanes2.dta\n",
      "  obs:        10,351                          \n",
      " vars:            58                          20 Dec 2020 10:07\n",
      " size:     1,107,557                          \n",
      "--------------------------------------------------------------------------------\n",
      "              storage   display    value\n",
      "variable name   type    format     label      variable label\n",
      "--------------------------------------------------------------------------------\n",
      "sampl           long    %9.0g                 Unique case identifier\n",
      "strata          byte    %9.0g                 Stratum identifier\n",
      "psu             byte    %9.0g      psulbl     Primary sampling unit\n",
      "region          byte    %9.0g      region     Region\n",
      "smsa            byte    %22.0g     smsalbl    SMSA type\n",
      "location        byte    %9.0g                 Location (stand office ID)\n",
      "houssiz         byte    %9.0g                 Number of people in household\n",
      "sex             byte    %9.0g      sex        Sex\n",
      "race            byte    %9.0g      race       Race\n",
      "age             byte    %9.0g                 Age (years)\n",
      "height          float   %9.0g                 Height (cm)\n",
      "weight          float   %9.0g                 Weight (kg)\n",
      "bpsystol        int     %9.0g                 Systolic blood pressure\n",
      "bpdiast         int     %9.0g                 Diastolic blood pressure\n",
      "tcresult        int     %9.0g                 Serum cholesterol (mg/dL)\n",
      "tgresult        int     %9.0g                 Serum triglycerides (mg/dL)\n",
      "hdresult        int     %9.0g                 High density lipids (mg/dL)\n",
      "hgb             float   %9.0g                 Hemoglobin (g/dL)\n",
      "hct             float   %9.0g                 Hematocrit (%)\n",
      "tibc            int     %9.0g                 Total iron bind. cap. (mcg/dL)\n",
      "iron            int     %9.0g                 Serum iron (mcg/dL)\n",
      "hlthstat        byte    %20.0g     hlth       Health status\n",
      "heartatk        byte    %16.0g     heartlbl   Prior heart attack\n",
      "diabetes        byte    %12.0g     diabetes   Diabetes status\n",
      "sizplace        byte    %39.0g     size       Size of place\n",
      "finalwgt        long    %9.0g                 Sampling weight (except lead)\n",
      "leadwt          long    %9.0g                 Sampling weight for lead\n",
      "corpuscl        float   %9.0g                 Mean corpuscular volume (fL)\n",
      "trnsfern        float   %9.0g                 Transferrin saturation (%)\n",
      "albumin         float   %9.0g                 Serum albumin (g/dL)\n",
      "vitaminc        float   %9.0g                 Serum vitamin C (mg/dL)\n",
      "zinc            int     %9.0g                 Serum zinc (mcg/dL)\n",
      "copper          int     %9.0g                 Serum copper (mcg/dL)\n",
      "porphyrn        int     %9.0g                 Erythrocyte porphyrin (mcg/dl)\n",
      "lead            byte    %9.0g                 Lead (mcg/dL)\n",
      "female          byte    %8.0g      female     Female\n",
      "black           byte    %9.0g      black      Black\n",
      "orace           byte    %14.0g     orace      Other race\n",
      "fhtatk          byte    %8.0g      yn         Female heart attack\n",
      "hsizgp          byte    %8.0g                 # in household or 5 if #>=5\n",
      "hsiz1           byte    %8.0g                 Household size is 1\n",
      "hsiz2           byte    %8.0g                 Household size is 2\n",
      "hsiz3           byte    %8.0g                 Household size is 3\n",
      "hsiz4           byte    %8.0g                 Household size is 4\n",
      "hsiz5           byte    %8.0g                 Household size is 5 or more\n",
      "region1         byte    %8.0g                 Northeast\n",
      "region2         byte    %8.0g                 Midwest\n",
      "region3         byte    %8.0g                 South\n",
      "region4         byte    %8.0g                 West\n",
      "smsa1           byte    %8.0g                 SMSA, central city\n",
      "smsa2           byte    %8.0g                 SMSA, not central city\n",
      "smsa3           byte    %8.0g                 Not in an SMSA\n",
      "rural           byte    %8.0g      rurallbl   Rural\n",
      "loglead         float   %9.0g                 log(lead)\n",
      "agegrp          byte    %8.0g      agegrp     Age group\n",
      "highlead        byte    %10.0g     highlead   High lead level\n",
      "bmi             float   %9.0g                 Body mass index (BMI)\n",
      "highbp          byte    %8.0g               * High blood pressure\n",
      "                                            * indicated variables have notes\n",
      "--------------------------------------------------------------------------------\n",
      "Sorted by: \n"
     ]
    }
   ],
   "source": [
    "use \"https://www.stata-press.com/data/r17/nhanes2.dta\", clear\n",
    "describe"
   ]
  },
  {
   "cell_type": "code",
   "execution_count": 5,
   "id": "fafc20c5-f96d-4d0a-bff9-5a0a09725554",
   "metadata": {
    "tags": []
   },
   "outputs": [
    {
     "name": "stdout",
     "output_type": "stream",
     "text": [
      "\n",
      " High blood |\n",
      "   pressure |      Freq.     Percent        Cum.\n",
      "------------+-----------------------------------\n",
      "          0 |      5,975       57.72       57.72\n",
      "          1 |      4,376       42.28      100.00\n",
      "------------+-----------------------------------\n",
      "      Total |     10,351      100.00\n"
     ]
    }
   ],
   "source": [
    "tab highbp"
   ]
  },
  {
   "cell_type": "code",
   "execution_count": null,
   "id": "a37ac9c9-f6a9-42c8-a9c5-221b3a5abd3e",
   "metadata": {},
   "outputs": [],
   "source": []
  }
 ],
 "metadata": {
  "kernelspec": {
   "display_name": "Stata",
   "language": "stata",
   "name": "stata"
  },
  "language_info": {
   "codemirror_mode": "stata",
   "file_extension": ".do",
   "mimetype": "text/x-stata",
   "name": "stata",
   "version": "15.1"
  }
 },
 "nbformat": 4,
 "nbformat_minor": 5
}
